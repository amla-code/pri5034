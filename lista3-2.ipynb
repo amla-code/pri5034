{
 "cells": [
  {
   "cell_type": "markdown",
   "id": "5361b726",
   "metadata": {
    "toc": true
   },
   "source": [
    "<h1>Table of Contents<span class=\"tocSkip\"></span></h1>\n",
    "<div class=\"toc\"><ul class=\"toc-item\"><li><span><a href=\"#Instrumental-Variables\" data-toc-modified-id=\"Instrumental-Variables-1\"><span class=\"toc-item-num\">1&nbsp;&nbsp;</span>Instrumental Variables</a></span><ul class=\"toc-item\"><li><span><a href=\"#C2.-Use-the-data-in-WAGE2.RAW-for-this-exercise.\" data-toc-modified-id=\"C2.-Use-the-data-in-WAGE2.RAW-for-this-exercise.-1.1\"><span class=\"toc-item-num\">1.1&nbsp;&nbsp;</span>C2. Use the data in WAGE2.RAW for this exercise.</a></span><ul class=\"toc-item\"><li><span><a href=\"#\" data-toc-modified-id=\"-1.1.1\"><span class=\"toc-item-num\">1.1.1&nbsp;&nbsp;</span></a></span></li><li><span><a href=\"#\" data-toc-modified-id=\"-1.1.2\"><span class=\"toc-item-num\">1.1.2&nbsp;&nbsp;</span></a></span></li><li><span><a href=\"#\" data-toc-modified-id=\"-1.1.3\"><span class=\"toc-item-num\">1.1.3&nbsp;&nbsp;</span></a></span></li><li><span><a href=\"#\" data-toc-modified-id=\"-1.1.4\"><span class=\"toc-item-num\">1.1.4&nbsp;&nbsp;</span></a></span></li><li><span><a href=\"#\" data-toc-modified-id=\"-1.1.5\"><span class=\"toc-item-num\">1.1.5&nbsp;&nbsp;</span></a></span></li><li><span><a href=\"#\" data-toc-modified-id=\"-1.1.6\"><span class=\"toc-item-num\">1.1.6&nbsp;&nbsp;</span></a></span></li></ul></li><li><span><a href=\"#C5.-Use-the-data-in-CARD.RAW-for-this-exercise.\" data-toc-modified-id=\"C5.-Use-the-data-in-CARD.RAW-for-this-exercise.-1.2\"><span class=\"toc-item-num\">1.2&nbsp;&nbsp;</span>C5. Use the data in CARD.RAW for this exercise.</a></span><ul class=\"toc-item\"><li><span><a href=\"#\" data-toc-modified-id=\"-1.2.1\"><span class=\"toc-item-num\">1.2.1&nbsp;&nbsp;</span></a></span></li><li><span><a href=\"#\" data-toc-modified-id=\"-1.2.2\"><span class=\"toc-item-num\">1.2.2&nbsp;&nbsp;</span></a></span></li><li><span><a href=\"#\" data-toc-modified-id=\"-1.2.3\"><span class=\"toc-item-num\">1.2.3&nbsp;&nbsp;</span></a></span></li></ul></li></ul></li><li><span><a href=\"#Simultaneous-Equations\" data-toc-modified-id=\"Simultaneous-Equations-2\"><span class=\"toc-item-num\">2&nbsp;&nbsp;</span>Simultaneous Equations</a></span><ul class=\"toc-item\"><li><span><a href=\"#2.-Corn\" data-toc-modified-id=\"2.-Corn-2.1\"><span class=\"toc-item-num\">2.1&nbsp;&nbsp;</span>2. Corn</a></span></li><li><span><a href=\"#4.-Alcohol-consumption\" data-toc-modified-id=\"4.-Alcohol-consumption-2.2\"><span class=\"toc-item-num\">2.2&nbsp;&nbsp;</span>4. Alcohol consumption</a></span></li><li><span><a href=\"#Use-SMOKE.RAW-for-this-exercise.\" data-toc-modified-id=\"Use-SMOKE.RAW-for-this-exercise.-2.3\"><span class=\"toc-item-num\">2.3&nbsp;&nbsp;</span>Use SMOKE.RAW for this exercise.</a></span><ul class=\"toc-item\"><li><span><a href=\"#\" data-toc-modified-id=\"-2.3.1\"><span class=\"toc-item-num\">2.3.1&nbsp;&nbsp;</span></a></span></li><li><span><a href=\"#\" data-toc-modified-id=\"-2.3.2\"><span class=\"toc-item-num\">2.3.2&nbsp;&nbsp;</span></a></span></li><li><span><a href=\"#\" data-toc-modified-id=\"-2.3.3\"><span class=\"toc-item-num\">2.3.3&nbsp;&nbsp;</span></a></span></li><li><span><a href=\"#\" data-toc-modified-id=\"-2.3.4\"><span class=\"toc-item-num\">2.3.4&nbsp;&nbsp;</span></a></span></li><li><span><a href=\"#\" data-toc-modified-id=\"-2.3.5\"><span class=\"toc-item-num\">2.3.5&nbsp;&nbsp;</span></a></span></li><li><span><a href=\"#\" data-toc-modified-id=\"-2.3.6\"><span class=\"toc-item-num\">2.3.6&nbsp;&nbsp;</span></a></span></li><li><span><a href=\"#\" data-toc-modified-id=\"-2.3.7\"><span class=\"toc-item-num\">2.3.7&nbsp;&nbsp;</span></a></span></li></ul></li></ul></li></ul></div>"
   ]
  },
  {
   "cell_type": "code",
   "execution_count": 20,
   "id": "9b2e7410",
   "metadata": {
    "collapsed": true
   },
   "outputs": [
    {
     "name": "stderr",
     "output_type": "stream",
     "text": [
      "Loading required package: car\n",
      "\n",
      "Loading required package: carData\n",
      "\n",
      "\n",
      "Attaching package: ‘car’\n",
      "\n",
      "\n",
      "The following object is masked from ‘package:dplyr’:\n",
      "\n",
      "    recode\n",
      "\n",
      "\n",
      "The following object is masked from ‘package:purrr’:\n",
      "\n",
      "    some\n",
      "\n",
      "\n",
      "Loading required package: lmtest\n",
      "\n",
      "Loading required package: zoo\n",
      "\n",
      "\n",
      "Attaching package: ‘zoo’\n",
      "\n",
      "\n",
      "The following objects are masked from ‘package:base’:\n",
      "\n",
      "    as.Date, as.Date.numeric\n",
      "\n",
      "\n",
      "Loading required package: sandwich\n",
      "\n",
      "Loading required package: survival\n",
      "\n"
     ]
    }
   ],
   "source": [
    "library(tidyverse)\n",
    "library(haven)\n",
    "library(AER) # regression models"
   ]
  },
  {
   "cell_type": "markdown",
   "id": "928a34ff",
   "metadata": {},
   "source": [
    "# Instrumental Variables"
   ]
  },
  {
   "cell_type": "markdown",
   "id": "77483033",
   "metadata": {},
   "source": [
    "## C2. Use the data in WAGE2.RAW for this exercise. "
   ]
  },
  {
   "cell_type": "code",
   "execution_count": 13,
   "id": "431a728c",
   "metadata": {},
   "outputs": [
    {
     "data": {
      "text/html": [
       "<table class=\"dataframe\">\n",
       "<caption>A data.frame: 6 × 17</caption>\n",
       "<thead>\n",
       "\t<tr><th></th><th scope=col>wage</th><th scope=col>hours</th><th scope=col>IQ</th><th scope=col>KWW</th><th scope=col>educ</th><th scope=col>exper</th><th scope=col>tenure</th><th scope=col>age</th><th scope=col>married</th><th scope=col>black</th><th scope=col>south</th><th scope=col>urban</th><th scope=col>sibs</th><th scope=col>brthord</th><th scope=col>meduc</th><th scope=col>feduc</th><th scope=col>lwage</th></tr>\n",
       "\t<tr><th></th><th scope=col>&lt;int&gt;</th><th scope=col>&lt;int&gt;</th><th scope=col>&lt;int&gt;</th><th scope=col>&lt;int&gt;</th><th scope=col>&lt;int&gt;</th><th scope=col>&lt;int&gt;</th><th scope=col>&lt;int&gt;</th><th scope=col>&lt;int&gt;</th><th scope=col>&lt;int&gt;</th><th scope=col>&lt;int&gt;</th><th scope=col>&lt;int&gt;</th><th scope=col>&lt;int&gt;</th><th scope=col>&lt;int&gt;</th><th scope=col>&lt;int&gt;</th><th scope=col>&lt;int&gt;</th><th scope=col>&lt;int&gt;</th><th scope=col>&lt;dbl&gt;</th></tr>\n",
       "</thead>\n",
       "<tbody>\n",
       "\t<tr><th scope=row>1</th><td> 769</td><td>40</td><td> 93</td><td>35</td><td>12</td><td>11</td><td> 2</td><td>31</td><td>1</td><td>0</td><td>0</td><td>1</td><td> 1</td><td> 2</td><td> 8</td><td> 8</td><td>6.645091</td></tr>\n",
       "\t<tr><th scope=row>2</th><td> 808</td><td>50</td><td>119</td><td>41</td><td>18</td><td>11</td><td>16</td><td>37</td><td>1</td><td>0</td><td>0</td><td>1</td><td> 1</td><td>NA</td><td>14</td><td>14</td><td>6.694562</td></tr>\n",
       "\t<tr><th scope=row>3</th><td> 825</td><td>40</td><td>108</td><td>46</td><td>14</td><td>11</td><td> 9</td><td>33</td><td>1</td><td>0</td><td>0</td><td>1</td><td> 1</td><td> 2</td><td>14</td><td>14</td><td>6.715384</td></tr>\n",
       "\t<tr><th scope=row>4</th><td> 650</td><td>40</td><td> 96</td><td>32</td><td>12</td><td>13</td><td> 7</td><td>32</td><td>1</td><td>0</td><td>0</td><td>1</td><td> 4</td><td> 3</td><td>12</td><td>12</td><td>6.476973</td></tr>\n",
       "\t<tr><th scope=row>5</th><td> 562</td><td>40</td><td> 74</td><td>27</td><td>11</td><td>14</td><td> 5</td><td>34</td><td>1</td><td>0</td><td>0</td><td>1</td><td>10</td><td> 6</td><td> 6</td><td>11</td><td>6.331502</td></tr>\n",
       "\t<tr><th scope=row>6</th><td>1400</td><td>40</td><td>116</td><td>43</td><td>16</td><td>14</td><td> 2</td><td>35</td><td>1</td><td>1</td><td>0</td><td>1</td><td> 1</td><td> 2</td><td> 8</td><td>NA</td><td>7.244227</td></tr>\n",
       "</tbody>\n",
       "</table>\n"
      ],
      "text/latex": [
       "A data.frame: 6 × 17\n",
       "\\begin{tabular}{r|lllllllllllllllll}\n",
       "  & wage & hours & IQ & KWW & educ & exper & tenure & age & married & black & south & urban & sibs & brthord & meduc & feduc & lwage\\\\\n",
       "  & <int> & <int> & <int> & <int> & <int> & <int> & <int> & <int> & <int> & <int> & <int> & <int> & <int> & <int> & <int> & <int> & <dbl>\\\\\n",
       "\\hline\n",
       "\t1 &  769 & 40 &  93 & 35 & 12 & 11 &  2 & 31 & 1 & 0 & 0 & 1 &  1 &  2 &  8 &  8 & 6.645091\\\\\n",
       "\t2 &  808 & 50 & 119 & 41 & 18 & 11 & 16 & 37 & 1 & 0 & 0 & 1 &  1 & NA & 14 & 14 & 6.694562\\\\\n",
       "\t3 &  825 & 40 & 108 & 46 & 14 & 11 &  9 & 33 & 1 & 0 & 0 & 1 &  1 &  2 & 14 & 14 & 6.715384\\\\\n",
       "\t4 &  650 & 40 &  96 & 32 & 12 & 13 &  7 & 32 & 1 & 0 & 0 & 1 &  4 &  3 & 12 & 12 & 6.476973\\\\\n",
       "\t5 &  562 & 40 &  74 & 27 & 11 & 14 &  5 & 34 & 1 & 0 & 0 & 1 & 10 &  6 &  6 & 11 & 6.331502\\\\\n",
       "\t6 & 1400 & 40 & 116 & 43 & 16 & 14 &  2 & 35 & 1 & 1 & 0 & 1 &  1 &  2 &  8 & NA & 7.244227\\\\\n",
       "\\end{tabular}\n"
      ],
      "text/markdown": [
       "\n",
       "A data.frame: 6 × 17\n",
       "\n",
       "| <!--/--> | wage &lt;int&gt; | hours &lt;int&gt; | IQ &lt;int&gt; | KWW &lt;int&gt; | educ &lt;int&gt; | exper &lt;int&gt; | tenure &lt;int&gt; | age &lt;int&gt; | married &lt;int&gt; | black &lt;int&gt; | south &lt;int&gt; | urban &lt;int&gt; | sibs &lt;int&gt; | brthord &lt;int&gt; | meduc &lt;int&gt; | feduc &lt;int&gt; | lwage &lt;dbl&gt; |\n",
       "|---|---|---|---|---|---|---|---|---|---|---|---|---|---|---|---|---|---|\n",
       "| 1 |  769 | 40 |  93 | 35 | 12 | 11 |  2 | 31 | 1 | 0 | 0 | 1 |  1 |  2 |  8 |  8 | 6.645091 |\n",
       "| 2 |  808 | 50 | 119 | 41 | 18 | 11 | 16 | 37 | 1 | 0 | 0 | 1 |  1 | NA | 14 | 14 | 6.694562 |\n",
       "| 3 |  825 | 40 | 108 | 46 | 14 | 11 |  9 | 33 | 1 | 0 | 0 | 1 |  1 |  2 | 14 | 14 | 6.715384 |\n",
       "| 4 |  650 | 40 |  96 | 32 | 12 | 13 |  7 | 32 | 1 | 0 | 0 | 1 |  4 |  3 | 12 | 12 | 6.476973 |\n",
       "| 5 |  562 | 40 |  74 | 27 | 11 | 14 |  5 | 34 | 1 | 0 | 0 | 1 | 10 |  6 |  6 | 11 | 6.331502 |\n",
       "| 6 | 1400 | 40 | 116 | 43 | 16 | 14 |  2 | 35 | 1 | 1 | 0 | 1 |  1 |  2 |  8 | NA | 7.244227 |\n",
       "\n"
      ],
      "text/plain": [
       "  wage hours IQ  KWW educ exper tenure age married black south urban sibs\n",
       "1  769 40     93 35  12   11     2     31  1       0     0     1      1  \n",
       "2  808 50    119 41  18   11    16     37  1       0     0     1      1  \n",
       "3  825 40    108 46  14   11     9     33  1       0     0     1      1  \n",
       "4  650 40     96 32  12   13     7     32  1       0     0     1      4  \n",
       "5  562 40     74 27  11   14     5     34  1       0     0     1     10  \n",
       "6 1400 40    116 43  16   14     2     35  1       1     0     1      1  \n",
       "  brthord meduc feduc lwage   \n",
       "1  2       8     8    6.645091\n",
       "2 NA      14    14    6.694562\n",
       "3  2      14    14    6.715384\n",
       "4  3      12    12    6.476973\n",
       "5  6       6    11    6.331502\n",
       "6  2       8    NA    7.244227"
      ]
     },
     "metadata": {},
     "output_type": "display_data"
    }
   ],
   "source": [
    "load(\"/Users/ama/Downloads/R data sets for 5e/wage2.RData\")\n",
    "\n",
    "wage2 <- data\n",
    "\n",
    "head(wage2)"
   ]
  },
  {
   "cell_type": "markdown",
   "id": "967cac21",
   "metadata": {},
   "source": [
    "### "
   ]
  },
  {
   "cell_type": "code",
   "execution_count": 18,
   "id": "37cf9792",
   "metadata": {},
   "outputs": [
    {
     "data": {
      "text/plain": [
       "\n",
       "Call:\n",
       "lm(formula = log(wage) ~ sibs, data = wage2)\n",
       "\n",
       "Residuals:\n",
       "     Min       1Q   Median       3Q      Max \n",
       "-1.97662 -0.25857  0.02503  0.28572  1.22677 \n",
       "\n",
       "Coefficients:\n",
       "             Estimate Std. Error t value Pr(>|t|)    \n",
       "(Intercept)  6.861076   0.022078 310.771  < 2e-16 ***\n",
       "sibs        -0.027904   0.005908  -4.723 2.68e-06 ***\n",
       "---\n",
       "Signif. codes:  0 ‘***’ 0.001 ‘**’ 0.01 ‘*’ 0.05 ‘.’ 0.1 ‘ ’ 1\n",
       "\n",
       "Residual standard error: 0.4164 on 933 degrees of freedom\n",
       "Multiple R-squared:  0.02335,\tAdjusted R-squared:  0.0223 \n",
       "F-statistic: 22.31 on 1 and 933 DF,  p-value: 2.68e-06\n"
      ]
     },
     "metadata": {},
     "output_type": "display_data"
    }
   ],
   "source": [
    "wage2_m1 <- lm(log(wage) ~ sibs, data = wage2)\n",
    "\n",
    "summary(wage2_m1)"
   ]
  },
  {
   "cell_type": "markdown",
   "id": "30d96f32",
   "metadata": {},
   "source": [
    "### "
   ]
  },
  {
   "cell_type": "code",
   "execution_count": 67,
   "id": "a978a03e",
   "metadata": {
    "scrolled": true
   },
   "outputs": [
    {
     "data": {
      "text/plain": [
       "\n",
       "Call:\n",
       "lm(formula = educ ~ brthord, data = wage2)\n",
       "\n",
       "Residuals:\n",
       "    Min      1Q  Median      3Q     Max \n",
       "-4.8668 -1.5842 -0.7362  2.1332  6.1117 \n",
       "\n",
       "Coefficients:\n",
       "            Estimate Std. Error t value Pr(>|t|)    \n",
       "(Intercept) 14.14945    0.12868 109.962  < 2e-16 ***\n",
       "brthord     -0.28264    0.04629  -6.106 1.55e-09 ***\n",
       "---\n",
       "Signif. codes:  0 ‘***’ 0.001 ‘**’ 0.01 ‘*’ 0.05 ‘.’ 0.1 ‘ ’ 1\n",
       "\n",
       "Residual standard error: 2.155 on 850 degrees of freedom\n",
       "  (83 observations deleted due to missingness)\n",
       "Multiple R-squared:  0.04202,\tAdjusted R-squared:  0.04089 \n",
       "F-statistic: 37.29 on 1 and 850 DF,  p-value: 1.551e-09\n"
      ]
     },
     "metadata": {},
     "output_type": "display_data"
    }
   ],
   "source": [
    "wage2_t <- lm(educ ~ brthord, data = wage2)\n",
    "\n",
    "summary(wage2_t)"
   ]
  },
  {
   "cell_type": "markdown",
   "id": "87885dc3",
   "metadata": {},
   "source": [
    "### "
   ]
  },
  {
   "cell_type": "code",
   "execution_count": 59,
   "id": "b31cbc8f",
   "metadata": {
    "scrolled": true
   },
   "outputs": [
    {
     "data": {
      "text/plain": [
       "\n",
       "Call:\n",
       "ivreg(formula = log(wage) ~ educ | brthord, data = wage2)\n",
       "\n",
       "Residuals:\n",
       "    Min      1Q  Median      3Q     Max \n",
       "-1.8532 -0.2557  0.0435  0.2970  1.3033 \n",
       "\n",
       "Coefficients:\n",
       "            Estimate Std. Error t value Pr(>|t|)    \n",
       "(Intercept)  5.03040    0.43295  11.619  < 2e-16 ***\n",
       "educ         0.13064    0.03204   4.078 4.97e-05 ***\n",
       "---\n",
       "Signif. codes:  0 ‘***’ 0.001 ‘**’ 0.01 ‘*’ 0.05 ‘.’ 0.1 ‘ ’ 1\n",
       "\n",
       "Residual standard error: 0.4215 on 850 degrees of freedom\n",
       "Multiple R-Squared: -0.02862,\tAdjusted R-squared: -0.02983 \n",
       "Wald test: 16.63 on 1 and 850 DF,  p-value: 4.975e-05 \n"
      ]
     },
     "metadata": {},
     "output_type": "display_data"
    }
   ],
   "source": [
    "# iv regression where birthorder is the instrumental variable for education\n",
    "wage2_m2 <- ivreg(log(wage) ~ educ | brthord, data = wage2)\n",
    "\n",
    "summary(wage2_m2)"
   ]
  },
  {
   "cell_type": "markdown",
   "id": "d6b95711",
   "metadata": {},
   "source": [
    "### "
   ]
  },
  {
   "cell_type": "code",
   "execution_count": 41,
   "id": "611fdb4d",
   "metadata": {
    "scrolled": true
   },
   "outputs": [
    {
     "data": {
      "text/plain": [
       "\n",
       "Call:\n",
       "lm(formula = educ ~ sibs + brthord, data = wage2)\n",
       "\n",
       "Residuals:\n",
       "    Min      1Q  Median      3Q     Max \n",
       "-5.1438 -1.6854 -0.6852  2.0090  5.9950 \n",
       "\n",
       "Coefficients:\n",
       "            Estimate Std. Error t value Pr(>|t|)    \n",
       "(Intercept) 14.29650    0.13329 107.260  < 2e-16 ***\n",
       "sibs        -0.15287    0.03987  -3.834 0.000135 ***\n",
       "brthord     -0.15267    0.05708  -2.675 0.007619 ** \n",
       "---\n",
       "Signif. codes:  0 ‘***’ 0.001 ‘**’ 0.01 ‘*’ 0.05 ‘.’ 0.1 ‘ ’ 1\n",
       "\n",
       "Residual standard error: 2.137 on 849 degrees of freedom\n",
       "  (83 observations deleted due to missingness)\n",
       "Multiple R-squared:  0.05833,\tAdjusted R-squared:  0.05611 \n",
       "F-statistic: 26.29 on 2 and 849 DF,  p-value: 8.33e-12\n"
      ]
     },
     "metadata": {},
     "output_type": "display_data"
    }
   ],
   "source": [
    "wage2_m3 <- lm(educ ~ sibs + brthord, data = wage2)\n",
    "\n",
    "summary(wage2_m3)"
   ]
  },
  {
   "cell_type": "markdown",
   "id": "a0b7b398",
   "metadata": {},
   "source": [
    "### "
   ]
  },
  {
   "cell_type": "code",
   "execution_count": 49,
   "id": "0523a7e2",
   "metadata": {},
   "outputs": [
    {
     "data": {
      "text/plain": [
       "\n",
       "Call:\n",
       "ivreg(formula = log(wage) ~ educ + sibs | brthord + sibs, data = wage2)\n",
       "\n",
       "Residuals:\n",
       "     Min       1Q   Median       3Q      Max \n",
       "-1.84808 -0.26227  0.03841  0.29901  1.30836 \n",
       "\n",
       "Coefficients:\n",
       "            Estimate Std. Error t value Pr(>|t|)    \n",
       "(Intercept) 4.938528   1.055690   4.678 3.37e-06 ***\n",
       "educ        0.136994   0.074681   1.834   0.0669 .  \n",
       "sibs        0.002111   0.017372   0.122   0.9033    \n",
       "---\n",
       "Signif. codes:  0 ‘***’ 0.001 ‘**’ 0.01 ‘*’ 0.05 ‘.’ 0.1 ‘ ’ 1\n",
       "\n",
       "Residual standard error: 0.427 on 849 degrees of freedom\n",
       "Multiple R-Squared: -0.05428,\tAdjusted R-squared: -0.05676 \n",
       "Wald test:  10.9 on 2 and 849 DF,  p-value: 2.124e-05 \n"
      ]
     },
     "metadata": {},
     "output_type": "display_data"
    }
   ],
   "source": [
    "wage2_m4 <- ivreg(log(wage) ~ educ + sibs | brthord + sibs , data = wage2)\n",
    "\n",
    "summary(wage2_m4)"
   ]
  },
  {
   "cell_type": "markdown",
   "id": "d5462e62",
   "metadata": {},
   "source": [
    "### "
   ]
  },
  {
   "cell_type": "code",
   "execution_count": 77,
   "id": "2014785d",
   "metadata": {},
   "outputs": [],
   "source": [
    "# fitted values from part 4 \n",
    "wage2_m3fitted <- predict(wage2_m3)\n",
    "\n",
    "# removing the NAs from sibs that are dropped with brthord\n",
    "wage2_na <- wage2 %>% drop_na(brthord)\n",
    "sibs <- wage2_na$sibs"
   ]
  },
  {
   "cell_type": "code",
   "execution_count": 78,
   "id": "fa5900a9",
   "metadata": {},
   "outputs": [
    {
     "data": {
      "text/html": [
       "-0.929481763991845"
      ],
      "text/latex": [
       "-0.929481763991845"
      ],
      "text/markdown": [
       "-0.929481763991845"
      ],
      "text/plain": [
       "[1] -0.9294818"
      ]
     },
     "metadata": {},
     "output_type": "display_data"
    }
   ],
   "source": [
    "# correlation between the two variables \n",
    "cor(wage2_m3fitted, sibs)"
   ]
  },
  {
   "cell_type": "markdown",
   "id": "edeb824d",
   "metadata": {},
   "source": [
    "## C5. Use the data in CARD.RAW for this exercise."
   ]
  },
  {
   "cell_type": "code",
   "execution_count": 80,
   "id": "de81d872",
   "metadata": {},
   "outputs": [
    {
     "data": {
      "text/html": [
       "<table class=\"dataframe\">\n",
       "<caption>A data.frame: 6 × 34</caption>\n",
       "<thead>\n",
       "\t<tr><th></th><th scope=col>id</th><th scope=col>nearc2</th><th scope=col>nearc4</th><th scope=col>educ</th><th scope=col>age</th><th scope=col>fatheduc</th><th scope=col>motheduc</th><th scope=col>weight</th><th scope=col>momdad14</th><th scope=col>sinmom14</th><th scope=col>⋯</th><th scope=col>smsa66</th><th scope=col>wage</th><th scope=col>enroll</th><th scope=col>KWW</th><th scope=col>IQ</th><th scope=col>married</th><th scope=col>libcrd14</th><th scope=col>exper</th><th scope=col>lwage</th><th scope=col>expersq</th></tr>\n",
       "\t<tr><th></th><th scope=col>&lt;int&gt;</th><th scope=col>&lt;int&gt;</th><th scope=col>&lt;int&gt;</th><th scope=col>&lt;int&gt;</th><th scope=col>&lt;int&gt;</th><th scope=col>&lt;int&gt;</th><th scope=col>&lt;int&gt;</th><th scope=col>&lt;dbl&gt;</th><th scope=col>&lt;int&gt;</th><th scope=col>&lt;int&gt;</th><th scope=col>⋯</th><th scope=col>&lt;int&gt;</th><th scope=col>&lt;int&gt;</th><th scope=col>&lt;int&gt;</th><th scope=col>&lt;int&gt;</th><th scope=col>&lt;int&gt;</th><th scope=col>&lt;int&gt;</th><th scope=col>&lt;int&gt;</th><th scope=col>&lt;int&gt;</th><th scope=col>&lt;dbl&gt;</th><th scope=col>&lt;int&gt;</th></tr>\n",
       "</thead>\n",
       "<tbody>\n",
       "\t<tr><th scope=row>1</th><td>2</td><td>0</td><td>0</td><td> 7</td><td>29</td><td>NA</td><td>NA</td><td>158413</td><td>1</td><td>0</td><td>⋯</td><td>1</td><td>548</td><td>0</td><td>15</td><td> NA</td><td>1</td><td>0</td><td>16</td><td>6.306275</td><td>256</td></tr>\n",
       "\t<tr><th scope=row>2</th><td>3</td><td>0</td><td>0</td><td>12</td><td>27</td><td> 8</td><td> 8</td><td>380166</td><td>1</td><td>0</td><td>⋯</td><td>1</td><td>481</td><td>0</td><td>35</td><td> 93</td><td>1</td><td>1</td><td> 9</td><td>6.175867</td><td> 81</td></tr>\n",
       "\t<tr><th scope=row>3</th><td>4</td><td>0</td><td>0</td><td>12</td><td>34</td><td>14</td><td>12</td><td>367470</td><td>1</td><td>0</td><td>⋯</td><td>1</td><td>721</td><td>0</td><td>42</td><td>103</td><td>1</td><td>1</td><td>16</td><td>6.580639</td><td>256</td></tr>\n",
       "\t<tr><th scope=row>4</th><td>5</td><td>1</td><td>1</td><td>11</td><td>27</td><td>11</td><td>12</td><td>380166</td><td>1</td><td>0</td><td>⋯</td><td>1</td><td>250</td><td>0</td><td>25</td><td> 88</td><td>1</td><td>1</td><td>10</td><td>5.521461</td><td>100</td></tr>\n",
       "\t<tr><th scope=row>5</th><td>6</td><td>1</td><td>1</td><td>12</td><td>34</td><td> 8</td><td> 7</td><td>367470</td><td>1</td><td>0</td><td>⋯</td><td>1</td><td>729</td><td>0</td><td>34</td><td>108</td><td>1</td><td>0</td><td>16</td><td>6.591674</td><td>256</td></tr>\n",
       "\t<tr><th scope=row>6</th><td>7</td><td>1</td><td>1</td><td>12</td><td>26</td><td> 9</td><td>12</td><td>380166</td><td>1</td><td>0</td><td>⋯</td><td>1</td><td>500</td><td>0</td><td>38</td><td> 85</td><td>1</td><td>1</td><td> 8</td><td>6.214608</td><td> 64</td></tr>\n",
       "</tbody>\n",
       "</table>\n"
      ],
      "text/latex": [
       "A data.frame: 6 × 34\n",
       "\\begin{tabular}{r|lllllllllllllllllllll}\n",
       "  & id & nearc2 & nearc4 & educ & age & fatheduc & motheduc & weight & momdad14 & sinmom14 & ⋯ & smsa66 & wage & enroll & KWW & IQ & married & libcrd14 & exper & lwage & expersq\\\\\n",
       "  & <int> & <int> & <int> & <int> & <int> & <int> & <int> & <dbl> & <int> & <int> & ⋯ & <int> & <int> & <int> & <int> & <int> & <int> & <int> & <int> & <dbl> & <int>\\\\\n",
       "\\hline\n",
       "\t1 & 2 & 0 & 0 &  7 & 29 & NA & NA & 158413 & 1 & 0 & ⋯ & 1 & 548 & 0 & 15 &  NA & 1 & 0 & 16 & 6.306275 & 256\\\\\n",
       "\t2 & 3 & 0 & 0 & 12 & 27 &  8 &  8 & 380166 & 1 & 0 & ⋯ & 1 & 481 & 0 & 35 &  93 & 1 & 1 &  9 & 6.175867 &  81\\\\\n",
       "\t3 & 4 & 0 & 0 & 12 & 34 & 14 & 12 & 367470 & 1 & 0 & ⋯ & 1 & 721 & 0 & 42 & 103 & 1 & 1 & 16 & 6.580639 & 256\\\\\n",
       "\t4 & 5 & 1 & 1 & 11 & 27 & 11 & 12 & 380166 & 1 & 0 & ⋯ & 1 & 250 & 0 & 25 &  88 & 1 & 1 & 10 & 5.521461 & 100\\\\\n",
       "\t5 & 6 & 1 & 1 & 12 & 34 &  8 &  7 & 367470 & 1 & 0 & ⋯ & 1 & 729 & 0 & 34 & 108 & 1 & 0 & 16 & 6.591674 & 256\\\\\n",
       "\t6 & 7 & 1 & 1 & 12 & 26 &  9 & 12 & 380166 & 1 & 0 & ⋯ & 1 & 500 & 0 & 38 &  85 & 1 & 1 &  8 & 6.214608 &  64\\\\\n",
       "\\end{tabular}\n"
      ],
      "text/markdown": [
       "\n",
       "A data.frame: 6 × 34\n",
       "\n",
       "| <!--/--> | id &lt;int&gt; | nearc2 &lt;int&gt; | nearc4 &lt;int&gt; | educ &lt;int&gt; | age &lt;int&gt; | fatheduc &lt;int&gt; | motheduc &lt;int&gt; | weight &lt;dbl&gt; | momdad14 &lt;int&gt; | sinmom14 &lt;int&gt; | ⋯ ⋯ | smsa66 &lt;int&gt; | wage &lt;int&gt; | enroll &lt;int&gt; | KWW &lt;int&gt; | IQ &lt;int&gt; | married &lt;int&gt; | libcrd14 &lt;int&gt; | exper &lt;int&gt; | lwage &lt;dbl&gt; | expersq &lt;int&gt; |\n",
       "|---|---|---|---|---|---|---|---|---|---|---|---|---|---|---|---|---|---|---|---|---|---|\n",
       "| 1 | 2 | 0 | 0 |  7 | 29 | NA | NA | 158413 | 1 | 0 | ⋯ | 1 | 548 | 0 | 15 |  NA | 1 | 0 | 16 | 6.306275 | 256 |\n",
       "| 2 | 3 | 0 | 0 | 12 | 27 |  8 |  8 | 380166 | 1 | 0 | ⋯ | 1 | 481 | 0 | 35 |  93 | 1 | 1 |  9 | 6.175867 |  81 |\n",
       "| 3 | 4 | 0 | 0 | 12 | 34 | 14 | 12 | 367470 | 1 | 0 | ⋯ | 1 | 721 | 0 | 42 | 103 | 1 | 1 | 16 | 6.580639 | 256 |\n",
       "| 4 | 5 | 1 | 1 | 11 | 27 | 11 | 12 | 380166 | 1 | 0 | ⋯ | 1 | 250 | 0 | 25 |  88 | 1 | 1 | 10 | 5.521461 | 100 |\n",
       "| 5 | 6 | 1 | 1 | 12 | 34 |  8 |  7 | 367470 | 1 | 0 | ⋯ | 1 | 729 | 0 | 34 | 108 | 1 | 0 | 16 | 6.591674 | 256 |\n",
       "| 6 | 7 | 1 | 1 | 12 | 26 |  9 | 12 | 380166 | 1 | 0 | ⋯ | 1 | 500 | 0 | 38 |  85 | 1 | 1 |  8 | 6.214608 |  64 |\n",
       "\n"
      ],
      "text/plain": [
       "  id nearc2 nearc4 educ age fatheduc motheduc weight momdad14 sinmom14 ⋯ smsa66\n",
       "1 2  0      0       7   29  NA       NA       158413 1        0        ⋯ 1     \n",
       "2 3  0      0      12   27   8        8       380166 1        0        ⋯ 1     \n",
       "3 4  0      0      12   34  14       12       367470 1        0        ⋯ 1     \n",
       "4 5  1      1      11   27  11       12       380166 1        0        ⋯ 1     \n",
       "5 6  1      1      12   34   8        7       367470 1        0        ⋯ 1     \n",
       "6 7  1      1      12   26   9       12       380166 1        0        ⋯ 1     \n",
       "  wage enroll KWW IQ  married libcrd14 exper lwage    expersq\n",
       "1 548  0      15   NA 1       0        16    6.306275 256    \n",
       "2 481  0      35   93 1       1         9    6.175867  81    \n",
       "3 721  0      42  103 1       1        16    6.580639 256    \n",
       "4 250  0      25   88 1       1        10    5.521461 100    \n",
       "5 729  0      34  108 1       0        16    6.591674 256    \n",
       "6 500  0      38   85 1       1         8    6.214608  64    "
      ]
     },
     "metadata": {},
     "output_type": "display_data"
    }
   ],
   "source": [
    "load(\"/Users/ama/Downloads/R data sets for 5e/card.RData\")\n",
    "\n",
    "card <- data\n",
    "\n",
    "head(card)"
   ]
  },
  {
   "cell_type": "markdown",
   "id": "9d2e7811",
   "metadata": {},
   "source": [
    "### "
   ]
  },
  {
   "cell_type": "code",
   "execution_count": 96,
   "id": "9766f155",
   "metadata": {},
   "outputs": [
    {
     "data": {
      "text/plain": [
       "\n",
       "Call:\n",
       "lm(formula = log(wage) ~ educ + exper + expersq + black + smsa + \n",
       "    south + smsa66 + reg662 + reg663 + reg664 + reg665 + reg666 + \n",
       "    reg667 + reg668 + reg669, data = card)\n",
       "\n",
       "Residuals:\n",
       "     Min       1Q   Median       3Q      Max \n",
       "-1.62326 -0.22141  0.02001  0.23932  1.33340 \n",
       "\n",
       "Coefficients:\n",
       "              Estimate Std. Error t value Pr(>|t|)    \n",
       "(Intercept)  4.6208067  0.0742327  62.248  < 2e-16 ***\n",
       "educ         0.0746933  0.0034983  21.351  < 2e-16 ***\n",
       "exper        0.0848320  0.0066242  12.806  < 2e-16 ***\n",
       "expersq     -0.0022870  0.0003166  -7.223 6.41e-13 ***\n",
       "black       -0.1990123  0.0182483 -10.906  < 2e-16 ***\n",
       "smsa         0.1363845  0.0201005   6.785 1.39e-11 ***\n",
       "south       -0.1479550  0.0259799  -5.695 1.35e-08 ***\n",
       "smsa66       0.0262417  0.0194477   1.349  0.17733    \n",
       "reg662       0.0963672  0.0358979   2.684  0.00730 ** \n",
       "reg663       0.1445400  0.0351244   4.115 3.97e-05 ***\n",
       "reg664       0.0550756  0.0416573   1.322  0.18623    \n",
       "reg665       0.1280248  0.0418395   3.060  0.00223 ** \n",
       "reg666       0.1405174  0.0452469   3.106  0.00192 ** \n",
       "reg667       0.1179810  0.0448025   2.633  0.00850 ** \n",
       "reg668      -0.0564361  0.0512579  -1.101  0.27098    \n",
       "reg669       0.1185698  0.0388301   3.054  0.00228 ** \n",
       "---\n",
       "Signif. codes:  0 ‘***’ 0.001 ‘**’ 0.01 ‘*’ 0.05 ‘.’ 0.1 ‘ ’ 1\n",
       "\n",
       "Residual standard error: 0.3723 on 2994 degrees of freedom\n",
       "Multiple R-squared:  0.2998,\tAdjusted R-squared:  0.2963 \n",
       "F-statistic: 85.48 on 15 and 2994 DF,  p-value: < 2.2e-16\n"
      ]
     },
     "metadata": {},
     "output_type": "display_data"
    }
   ],
   "source": [
    "card_m1 <- lm(log(wage) ~ educ + exper + expersq + black + smsa + south + smsa66 + reg662 + reg663 + reg664 + reg665 + reg666 + reg667 + reg668 + reg669, \n",
    "             data = card)\n",
    "\n",
    "summary(card_m1)"
   ]
  },
  {
   "cell_type": "code",
   "execution_count": 101,
   "id": "81c1cabe",
   "metadata": {},
   "outputs": [],
   "source": [
    "card_m2resi <- residuals(card_m2)"
   ]
  },
  {
   "cell_type": "code",
   "execution_count": 106,
   "id": "e26dc31b",
   "metadata": {},
   "outputs": [
    {
     "data": {
      "text/plain": [
       "\n",
       "Call:\n",
       "ivreg(formula = log(wage) ~ educ + exper + expersq + black + \n",
       "    smsa + south + smsa66 + reg662 + reg663 + reg664 + reg665 + \n",
       "    reg666 + reg667 + reg668 + reg669 | nearc4 + exper + expersq + \n",
       "    black + smsa + south + smsa66 + reg662 + reg663 + reg664 + \n",
       "    reg665 + reg666 + reg667 + reg668 + reg669, data = card)\n",
       "\n",
       "Residuals:\n",
       "     Min       1Q   Median       3Q      Max \n",
       "-1.83164 -0.24075  0.02429  0.25208  1.42760 \n",
       "\n",
       "Coefficients:\n",
       "              Estimate Std. Error t value Pr(>|t|)    \n",
       "(Intercept)  3.6661511  0.9248295   3.964 7.54e-05 ***\n",
       "educ         0.1315038  0.0549637   2.393  0.01679 *  \n",
       "exper        0.1082711  0.0236586   4.576 4.92e-06 ***\n",
       "expersq     -0.0023349  0.0003335  -7.001 3.12e-12 ***\n",
       "black       -0.1467758  0.0538999  -2.723  0.00650 ** \n",
       "smsa         0.1118083  0.0316620   3.531  0.00042 ***\n",
       "south       -0.1446715  0.0272846  -5.302 1.23e-07 ***\n",
       "smsa66       0.0185311  0.0216086   0.858  0.39119    \n",
       "reg662       0.1007678  0.0376857   2.674  0.00754 ** \n",
       "reg663       0.1482588  0.0368141   4.027 5.78e-05 ***\n",
       "reg664       0.0498971  0.0437398   1.141  0.25406    \n",
       "reg665       0.1462719  0.0470639   3.108  0.00190 ** \n",
       "reg666       0.1629029  0.0519096   3.138  0.00172 ** \n",
       "reg667       0.1345722  0.0494023   2.724  0.00649 ** \n",
       "reg668      -0.0830770  0.0593314  -1.400  0.16155    \n",
       "reg669       0.1078142  0.0418137   2.578  0.00997 ** \n",
       "---\n",
       "Signif. codes:  0 ‘***’ 0.001 ‘**’ 0.01 ‘*’ 0.05 ‘.’ 0.1 ‘ ’ 1\n",
       "\n",
       "Residual standard error: 0.3883 on 2994 degrees of freedom\n",
       "Multiple R-Squared: 0.2382,\tAdjusted R-squared: 0.2343 \n",
       "Wald test: 51.01 on 15 and 2994 DF,  p-value: < 2.2e-16 \n"
      ]
     },
     "metadata": {},
     "output_type": "display_data"
    }
   ],
   "source": [
    "card_m2 <- ivreg(log(wage) ~ educ + exper + expersq + black + smsa + south + smsa66 + reg662 + reg663 + reg664 + reg665 + reg666 + reg667 + reg668 + reg669 | nearc4 + exper + expersq + black + smsa + south + smsa66 + reg662 + reg663 + reg664 + reg665 + reg666 + reg667 + reg668 + reg669, \n",
    "             data = card)\n",
    "\n",
    "summary(card_m2)"
   ]
  },
  {
   "cell_type": "code",
   "execution_count": 103,
   "id": "1a4c9ce3",
   "metadata": {},
   "outputs": [
    {
     "data": {
      "text/plain": [
       "\n",
       "Call:\n",
       "lm(formula = log(wage) ~ card_m2resi + educ + exper + expersq + \n",
       "    black + smsa + south + smsa66 + reg662 + reg663 + reg664 + \n",
       "    reg665 + reg666 + reg667 + reg668 + reg669, data = card)\n",
       "\n",
       "Residuals:\n",
       "       Min         1Q     Median         3Q        Max \n",
       "-2.001e-14 -1.740e-15  5.000e-17  1.630e-15  1.930e-12 \n",
       "\n",
       "Coefficients:\n",
       "              Estimate Std. Error    t value Pr(>|t|)    \n",
       "(Intercept)  3.666e+00  7.283e-15  5.034e+14   <2e-16 ***\n",
       "card_m2resi  1.000e+00  1.745e-15  5.729e+14   <2e-16 ***\n",
       "educ         1.315e-01  3.485e-16  3.773e+14   <2e-16 ***\n",
       "exper        1.083e-01  6.340e-16  1.708e+14   <2e-16 ***\n",
       "expersq     -2.335e-03  3.024e-17 -7.721e+13   <2e-16 ***\n",
       "black       -1.468e-01  1.745e-15 -8.410e+13   <2e-16 ***\n",
       "smsa         1.118e-01  1.920e-15  5.823e+13   <2e-16 ***\n",
       "south       -1.447e-01  2.481e-15 -5.831e+13   <2e-16 ***\n",
       "smsa66       1.853e-02  1.857e-15  9.977e+12   <2e-16 ***\n",
       "reg662       1.008e-01  3.429e-15  2.939e+13   <2e-16 ***\n",
       "reg663       1.483e-01  3.355e-15  4.420e+13   <2e-16 ***\n",
       "reg664       4.990e-02  3.979e-15  1.254e+13   <2e-16 ***\n",
       "reg665       1.463e-01  3.996e-15  3.660e+13   <2e-16 ***\n",
       "reg666       1.629e-01  4.322e-15  3.770e+13   <2e-16 ***\n",
       "reg667       1.346e-01  4.279e-15  3.145e+13   <2e-16 ***\n",
       "reg668      -8.308e-02  4.896e-15 -1.697e+13   <2e-16 ***\n",
       "reg669       1.078e-01  3.709e-15  2.907e+13   <2e-16 ***\n",
       "---\n",
       "Signif. codes:  0 ‘***’ 0.001 ‘**’ 0.01 ‘*’ 0.05 ‘.’ 0.1 ‘ ’ 1\n",
       "\n",
       "Residual standard error: 3.556e-14 on 2993 degrees of freedom\n",
       "Multiple R-squared:      1,\tAdjusted R-squared:      1 \n",
       "F-statistic: 2.93e+28 on 16 and 2993 DF,  p-value: < 2.2e-16\n"
      ]
     },
     "metadata": {},
     "output_type": "display_data"
    }
   ],
   "source": [
    "summary ( lm(log(wage) ~ card_m2resi + educ + exper + expersq + black + smsa + south + smsa66 + reg662 + reg663 + reg664 + reg665 + reg666 + reg667 + reg668 + reg669, \n",
    "             data = card) )"
   ]
  },
  {
   "cell_type": "markdown",
   "id": "b53eeb61",
   "metadata": {},
   "source": [
    "### \n",
    "\n"
   ]
  },
  {
   "cell_type": "code",
   "execution_count": 121,
   "id": "0bd174e9",
   "metadata": {},
   "outputs": [
    {
     "data": {
      "text/plain": [
       "\n",
       "Call:\n",
       "ivreg(formula = log(wage) ~ educ + exper + expersq + black + \n",
       "    smsa + south + smsa66 + reg662 + reg663 + reg664 + reg665 + \n",
       "    reg666 + reg667 + reg668 + reg669 | nearc4 + nearc2 + exper + \n",
       "    expersq + black + smsa + south + smsa66 + reg662 + reg663 + \n",
       "    reg664 + reg665 + reg666 + reg667 + reg668 + reg669, data = card)\n",
       "\n",
       "Residuals:\n",
       "     Min       1Q   Median       3Q      Max \n",
       "-1.93841 -0.25068  0.01932  0.26519  1.46998 \n",
       "\n",
       "Coefficients:\n",
       "              Estimate Std. Error t value Pr(>|t|)    \n",
       "(Intercept)  3.2367108  0.8849118   3.658 0.000259 ***\n",
       "educ         0.1570594  0.0525782   2.987 0.002839 ** \n",
       "exper        0.1188149  0.0228061   5.210 2.02e-07 ***\n",
       "expersq     -0.0023565  0.0003475  -6.781 1.43e-11 ***\n",
       "black       -0.1232778  0.0521500  -2.364 0.018147 *  \n",
       "smsa         0.1007530  0.0315193   3.197 0.001405 ** \n",
       "south       -0.1431945  0.0284448  -5.034 5.08e-07 ***\n",
       "smsa66       0.0150626  0.0223360   0.674 0.500132    \n",
       "reg662       0.1027473  0.0392906   2.615 0.008966 ** \n",
       "reg663       0.1499316  0.0383918   3.905 9.62e-05 ***\n",
       "reg664       0.0475676  0.0456013   1.043 0.296977    \n",
       "reg665       0.1544801  0.0485628   3.181 0.001482 ** \n",
       "reg666       0.1729728  0.0534164   3.238 0.001216 ** \n",
       "reg667       0.1420356  0.0511219   2.778 0.005497 ** \n",
       "reg668      -0.0950611  0.0609801  -1.559 0.119129    \n",
       "reg669       0.1029760  0.0434224   2.371 0.017779 *  \n",
       "---\n",
       "Signif. codes:  0 ‘***’ 0.001 ‘**’ 0.01 ‘*’ 0.05 ‘.’ 0.1 ‘ ’ 1\n",
       "\n",
       "Residual standard error: 0.4053 on 2994 degrees of freedom\n",
       "Multiple R-Squared: 0.1702,\tAdjusted R-squared: 0.166 \n",
       "Wald test: 47.07 on 15 and 2994 DF,  p-value: < 2.2e-16 \n"
      ]
     },
     "metadata": {},
     "output_type": "display_data"
    }
   ],
   "source": [
    "card_m4 <- ivreg(log(wage) ~ educ + exper + expersq + black + smsa + south + smsa66 + reg662 + reg663 + reg664 + reg665 + reg666 + reg667 + reg668 + reg669 | nearc4 + nearc2 + exper + expersq + black + smsa + south + smsa66 + reg662 + reg663 + reg664 + reg665 + reg666 + reg667 + reg668 + reg669, \n",
    "             data = card)\n",
    "\n",
    "summary(card_m4)"
   ]
  },
  {
   "cell_type": "markdown",
   "id": "60b01c32",
   "metadata": {},
   "source": [
    "### \n",
    "\n"
   ]
  },
  {
   "cell_type": "markdown",
   "id": "8ea183dc",
   "metadata": {},
   "source": [
    "# Simultaneous Equations"
   ]
  },
  {
   "cell_type": "markdown",
   "id": "cefc9a24",
   "metadata": {},
   "source": [
    "## 2. Corn\n",
    "The first equation is the demand function because it includes an income variable, which often determines demand. The second equation contains the variable `rainfall` which would determine the corn supply."
   ]
  },
  {
   "cell_type": "markdown",
   "id": "f9a09c8c",
   "metadata": {},
   "source": [
    "## 4. Alcohol consumption\n",
    "\n",
    "It seems that there are no exogenous variables in the first equation that are not also in the second equation, meaning the rank condition for identifying the second equation is not true. The first equation we can use log(price) as an exogenous variable used as the IV for alcohol in the 2SLS equation. "
   ]
  },
  {
   "cell_type": "markdown",
   "id": "89deb5ec",
   "metadata": {},
   "source": [
    "## Use SMOKE.RAW for this exercise."
   ]
  },
  {
   "cell_type": "code",
   "execution_count": 108,
   "id": "a020d88f",
   "metadata": {},
   "outputs": [
    {
     "data": {
      "text/html": [
       "<table class=\"dataframe\">\n",
       "<caption>A data.frame: 6 × 10</caption>\n",
       "<thead>\n",
       "\t<tr><th></th><th scope=col>educ</th><th scope=col>cigpric</th><th scope=col>white</th><th scope=col>age</th><th scope=col>income</th><th scope=col>cigs</th><th scope=col>restaurn</th><th scope=col>lincome</th><th scope=col>agesq</th><th scope=col>lcigpric</th></tr>\n",
       "\t<tr><th></th><th scope=col>&lt;dbl&gt;</th><th scope=col>&lt;dbl&gt;</th><th scope=col>&lt;int&gt;</th><th scope=col>&lt;int&gt;</th><th scope=col>&lt;int&gt;</th><th scope=col>&lt;int&gt;</th><th scope=col>&lt;int&gt;</th><th scope=col>&lt;dbl&gt;</th><th scope=col>&lt;int&gt;</th><th scope=col>&lt;dbl&gt;</th></tr>\n",
       "</thead>\n",
       "<tbody>\n",
       "\t<tr><th scope=row>1</th><td>16.0</td><td>60.506</td><td>1</td><td>46</td><td>20000</td><td>0</td><td>0</td><td> 9.903487</td><td>2116</td><td>4.102743</td></tr>\n",
       "\t<tr><th scope=row>2</th><td>16.0</td><td>57.883</td><td>1</td><td>40</td><td>30000</td><td>0</td><td>0</td><td>10.308952</td><td>1600</td><td>4.058424</td></tr>\n",
       "\t<tr><th scope=row>3</th><td>12.0</td><td>57.664</td><td>1</td><td>58</td><td>30000</td><td>3</td><td>0</td><td>10.308952</td><td>3364</td><td>4.054633</td></tr>\n",
       "\t<tr><th scope=row>4</th><td>13.5</td><td>57.883</td><td>1</td><td>30</td><td>20000</td><td>0</td><td>0</td><td> 9.903487</td><td> 900</td><td>4.058424</td></tr>\n",
       "\t<tr><th scope=row>5</th><td>10.0</td><td>58.320</td><td>1</td><td>17</td><td>20000</td><td>0</td><td>0</td><td> 9.903487</td><td> 289</td><td>4.065945</td></tr>\n",
       "\t<tr><th scope=row>6</th><td> 6.0</td><td>59.340</td><td>1</td><td>86</td><td> 6500</td><td>0</td><td>0</td><td> 8.779557</td><td>7396</td><td>4.083283</td></tr>\n",
       "</tbody>\n",
       "</table>\n"
      ],
      "text/latex": [
       "A data.frame: 6 × 10\n",
       "\\begin{tabular}{r|llllllllll}\n",
       "  & educ & cigpric & white & age & income & cigs & restaurn & lincome & agesq & lcigpric\\\\\n",
       "  & <dbl> & <dbl> & <int> & <int> & <int> & <int> & <int> & <dbl> & <int> & <dbl>\\\\\n",
       "\\hline\n",
       "\t1 & 16.0 & 60.506 & 1 & 46 & 20000 & 0 & 0 &  9.903487 & 2116 & 4.102743\\\\\n",
       "\t2 & 16.0 & 57.883 & 1 & 40 & 30000 & 0 & 0 & 10.308952 & 1600 & 4.058424\\\\\n",
       "\t3 & 12.0 & 57.664 & 1 & 58 & 30000 & 3 & 0 & 10.308952 & 3364 & 4.054633\\\\\n",
       "\t4 & 13.5 & 57.883 & 1 & 30 & 20000 & 0 & 0 &  9.903487 &  900 & 4.058424\\\\\n",
       "\t5 & 10.0 & 58.320 & 1 & 17 & 20000 & 0 & 0 &  9.903487 &  289 & 4.065945\\\\\n",
       "\t6 &  6.0 & 59.340 & 1 & 86 &  6500 & 0 & 0 &  8.779557 & 7396 & 4.083283\\\\\n",
       "\\end{tabular}\n"
      ],
      "text/markdown": [
       "\n",
       "A data.frame: 6 × 10\n",
       "\n",
       "| <!--/--> | educ &lt;dbl&gt; | cigpric &lt;dbl&gt; | white &lt;int&gt; | age &lt;int&gt; | income &lt;int&gt; | cigs &lt;int&gt; | restaurn &lt;int&gt; | lincome &lt;dbl&gt; | agesq &lt;int&gt; | lcigpric &lt;dbl&gt; |\n",
       "|---|---|---|---|---|---|---|---|---|---|---|\n",
       "| 1 | 16.0 | 60.506 | 1 | 46 | 20000 | 0 | 0 |  9.903487 | 2116 | 4.102743 |\n",
       "| 2 | 16.0 | 57.883 | 1 | 40 | 30000 | 0 | 0 | 10.308952 | 1600 | 4.058424 |\n",
       "| 3 | 12.0 | 57.664 | 1 | 58 | 30000 | 3 | 0 | 10.308952 | 3364 | 4.054633 |\n",
       "| 4 | 13.5 | 57.883 | 1 | 30 | 20000 | 0 | 0 |  9.903487 |  900 | 4.058424 |\n",
       "| 5 | 10.0 | 58.320 | 1 | 17 | 20000 | 0 | 0 |  9.903487 |  289 | 4.065945 |\n",
       "| 6 |  6.0 | 59.340 | 1 | 86 |  6500 | 0 | 0 |  8.779557 | 7396 | 4.083283 |\n",
       "\n"
      ],
      "text/plain": [
       "  educ cigpric white age income cigs restaurn lincome   agesq lcigpric\n",
       "1 16.0 60.506  1     46  20000  0    0         9.903487 2116  4.102743\n",
       "2 16.0 57.883  1     40  30000  0    0        10.308952 1600  4.058424\n",
       "3 12.0 57.664  1     58  30000  3    0        10.308952 3364  4.054633\n",
       "4 13.5 57.883  1     30  20000  0    0         9.903487  900  4.058424\n",
       "5 10.0 58.320  1     17  20000  0    0         9.903487  289  4.065945\n",
       "6  6.0 59.340  1     86   6500  0    0         8.779557 7396  4.083283"
      ]
     },
     "metadata": {},
     "output_type": "display_data"
    }
   ],
   "source": [
    "load(\"/Users/ama/Downloads/R data sets for 5e/smoke.RData\")\n",
    "\n",
    "smoke <- data\n",
    "\n",
    "head(smoke)"
   ]
  },
  {
   "cell_type": "markdown",
   "id": "52dd6df6",
   "metadata": {},
   "source": [
    "### \n",
    "\n",
    "$\\beta_1$ multiplied by 100 would provide the estimated percentage change in income according to how many cigarettes a person smokes per day. "
   ]
  },
  {
   "cell_type": "markdown",
   "id": "65f483e2",
   "metadata": {},
   "source": [
    "### \n",
    "\n",
    "Because price should go down with consumption, and because consumption should go down with restaurant restrictions, I would expect $y_5 <= 0$."
   ]
  },
  {
   "cell_type": "markdown",
   "id": "22994e19",
   "metadata": {},
   "source": [
    "### \n",
    "\n",
    "The necessary condition for identification is that at least one variable in the (ii) equation needs to be exogenous and also not in the (i) equation."
   ]
  },
  {
   "cell_type": "markdown",
   "id": "23df8a64",
   "metadata": {},
   "source": [
    "### \n",
    "\n",
    "The coefficient for smoking implies that the more cigarettes one smokes, the higher ones income. However, the coefficient is not statistically significant. "
   ]
  },
  {
   "cell_type": "code",
   "execution_count": 109,
   "id": "2f807eb4",
   "metadata": {},
   "outputs": [
    {
     "data": {
      "text/plain": [
       "\n",
       "Call:\n",
       "lm(formula = log(income) ~ cigs + educ + age + agesq, data = smoke)\n",
       "\n",
       "Residuals:\n",
       "    Min      1Q  Median      3Q     Max \n",
       "-3.6237 -0.2978  0.1314  0.4167  1.3542 \n",
       "\n",
       "Coefficients:\n",
       "              Estimate Std. Error t value Pr(>|t|)    \n",
       "(Intercept)  7.795e+00  1.704e-01  45.741  < 2e-16 ***\n",
       "cigs         1.731e-03  1.714e-03   1.010    0.313    \n",
       "educ         6.036e-02  7.898e-03   7.642 6.10e-14 ***\n",
       "age          5.769e-02  7.644e-03   7.548 1.21e-13 ***\n",
       "agesq       -6.306e-04  8.338e-05  -7.563 1.08e-13 ***\n",
       "---\n",
       "Signif. codes:  0 ‘***’ 0.001 ‘**’ 0.01 ‘*’ 0.05 ‘.’ 0.1 ‘ ’ 1\n",
       "\n",
       "Residual standard error: 0.6529 on 802 degrees of freedom\n",
       "Multiple R-squared:  0.165,\tAdjusted R-squared:  0.1608 \n",
       "F-statistic: 39.61 on 4 and 802 DF,  p-value: < 2.2e-16\n"
      ]
     },
     "metadata": {},
     "output_type": "display_data"
    }
   ],
   "source": [
    "smoke_m1 <- lm(log(income) ~ cigs + educ + age + agesq, data = smoke)\n",
    "\n",
    "summary(smoke_m1)"
   ]
  },
  {
   "cell_type": "markdown",
   "id": "faa4a682",
   "metadata": {},
   "source": [
    "### \n",
    "\n",
    "The coefficient for `log(cigpric)` is statistically insignificant, but for `restauran` we see the expected negative relationship between a public smoking ban and number of cigarettes smoked. "
   ]
  },
  {
   "cell_type": "code",
   "execution_count": 115,
   "id": "6ec7b780",
   "metadata": {},
   "outputs": [
    {
     "data": {
      "text/plain": [
       "\n",
       "Call:\n",
       "lm(formula = cigs ~ educ + age + agesq + log(cigpric) + restaurn, \n",
       "    data = smoke)\n",
       "\n",
       "Residuals:\n",
       "    Min      1Q  Median      3Q     Max \n",
       "-15.078  -9.312  -6.246   8.038  70.329 \n",
       "\n",
       "Coefficients:\n",
       "              Estimate Std. Error t value Pr(>|t|)    \n",
       "(Intercept)   1.580127  23.695583   0.067  0.94685    \n",
       "educ         -0.450147   0.161640  -2.785  0.00548 ** \n",
       "age           0.822541   0.154322   5.330 1.28e-07 ***\n",
       "agesq        -0.009590   0.001679  -5.711 1.58e-08 ***\n",
       "log(cigpric) -0.351320   5.765550  -0.061  0.95143    \n",
       "restaurn     -2.736389   1.109693  -2.466  0.01388 *  \n",
       "---\n",
       "Signif. codes:  0 ‘***’ 0.001 ‘**’ 0.01 ‘*’ 0.05 ‘.’ 0.1 ‘ ’ 1\n",
       "\n",
       "Residual standard error: 13.41 on 801 degrees of freedom\n",
       "Multiple R-squared:  0.051,\tAdjusted R-squared:  0.04508 \n",
       "F-statistic:  8.61 on 5 and 801 DF,  p-value: 5.859e-08\n"
      ]
     },
     "metadata": {},
     "output_type": "display_data"
    }
   ],
   "source": [
    "smoke_m2 <- lm(cigs ~ educ + age + agesq + log(cigpric) + restaurn, data = smoke)\n",
    "\n",
    "summary(smoke_m2)"
   ]
  },
  {
   "cell_type": "markdown",
   "id": "d22285a7",
   "metadata": {},
   "source": [
    "### \n",
    "\n",
    "With the 2SLS regression, the coefficient for cigs is negative and significant at the 10% level, and indicates that income decreases by 4.2% for every cigarette smoked. "
   ]
  },
  {
   "cell_type": "code",
   "execution_count": 120,
   "id": "f5ffbfd0",
   "metadata": {},
   "outputs": [
    {
     "data": {
      "text/plain": [
       "\n",
       "Call:\n",
       "ivreg(formula = log(income) ~ cigs + educ + age + agesq | log(cigpric) + \n",
       "    restaurn + educ + age + agesq, data = smoke)\n",
       "\n",
       "Residuals:\n",
       "     Min       1Q   Median       3Q      Max \n",
       "-4.13055 -0.44952 -0.05524  0.52926  3.09278 \n",
       "\n",
       "Coefficients:\n",
       "              Estimate Std. Error t value Pr(>|t|)    \n",
       "(Intercept)  7.7808932  0.2298674  33.849  < 2e-16 ***\n",
       "cigs        -0.0421257  0.0262184  -1.607 0.108509    \n",
       "educ         0.0396746  0.0162811   2.437 0.015032 *  \n",
       "age          0.0938182  0.0238534   3.933 9.11e-05 ***\n",
       "agesq       -0.0010508  0.0002743  -3.831 0.000138 ***\n",
       "---\n",
       "Signif. codes:  0 ‘***’ 0.001 ‘**’ 0.01 ‘*’ 0.05 ‘.’ 0.1 ‘ ’ 1\n",
       "\n",
       "Residual standard error: 0.88 on 802 degrees of freedom\n",
       "Multiple R-Squared: -0.5169,\tAdjusted R-squared: -0.5245 \n",
       "Wald test: 22.31 on 4 and 802 DF,  p-value: < 2.2e-16 \n"
      ]
     },
     "metadata": {},
     "output_type": "display_data"
    }
   ],
   "source": [
    "smoke_m3 <- ivreg(log(income) ~ cigs + educ + age + agesq | log(cigpric) + restaurn + educ + age + agesq, data = smoke)\n",
    "\n",
    "summary(smoke_m3)"
   ]
  },
  {
   "cell_type": "markdown",
   "id": "177358a7",
   "metadata": {},
   "source": [
    "### \n",
    "\n",
    "These variables should not necessarily be considered exogenous, because states where income is lower may also mean that it is less likely that there be restaurant restrictions on smoking. For example, in the South of the US, income tends to be lower and there tend to be much less restrictions on public smoking. "
   ]
  }
 ],
 "metadata": {
  "kernelspec": {
   "display_name": "R",
   "language": "R",
   "name": "ir"
  },
  "language_info": {
   "codemirror_mode": "r",
   "file_extension": ".r",
   "mimetype": "text/x-r-source",
   "name": "R",
   "pygments_lexer": "r",
   "version": "3.6.3"
  },
  "toc": {
   "base_numbering": 1,
   "nav_menu": {},
   "number_sections": true,
   "sideBar": true,
   "skip_h1_title": false,
   "title_cell": "Table of Contents",
   "title_sidebar": "Contents",
   "toc_cell": true,
   "toc_position": {
    "height": "calc(100% - 180px)",
    "left": "10px",
    "top": "150px",
    "width": "165px"
   },
   "toc_section_display": true,
   "toc_window_display": false
  },
  "varInspector": {
   "cols": {
    "lenName": 16,
    "lenType": 16,
    "lenVar": 40
   },
   "kernels_config": {
    "python": {
     "delete_cmd_postfix": "",
     "delete_cmd_prefix": "del ",
     "library": "var_list.py",
     "varRefreshCmd": "print(var_dic_list())"
    },
    "r": {
     "delete_cmd_postfix": ") ",
     "delete_cmd_prefix": "rm(",
     "library": "var_list.r",
     "varRefreshCmd": "cat(var_dic_list()) "
    }
   },
   "types_to_exclude": [
    "module",
    "function",
    "builtin_function_or_method",
    "instance",
    "_Feature"
   ],
   "window_display": false
  }
 },
 "nbformat": 4,
 "nbformat_minor": 5
}
