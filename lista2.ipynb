{
 "cells": [
  {
   "cell_type": "code",
   "execution_count": 35,
   "id": "c7ecf313",
   "metadata": {},
   "outputs": [],
   "source": [
    "library(tidyverse) ;\n",
    "library(foreign) ; # stata data \n",
    "library(car) ; # companion to regressions\n",
    "library(lmtest) ; # white test \n",
    "library(sandwich) ; # robust errors\n",
    "library(MASS) ; # regression"
   ]
  },
  {
   "cell_type": "markdown",
   "id": "003a5240",
   "metadata": {},
   "source": [
    "# Model interpretation"
   ]
  },
  {
   "cell_type": "code",
   "execution_count": 4,
   "id": "214321fe",
   "metadata": {
    "collapsed": true
   },
   "outputs": [
    {
     "name": "stderr",
     "output_type": "stream",
     "text": [
      "Warning message in read.dta(\"/Users/ama/OneDrive - usp.br/S3/Natalia/Lista 2/CEOSAL1.DTA\"):\n",
      "“cannot read factor labels from Stata 5 files”\n"
     ]
    }
   ],
   "source": [
    "ceosal1 <- read.dta(\"/Users/ama/OneDrive - usp.br/S3/Natalia/Lista 2/CEOSAL1.DTA\")"
   ]
  },
  {
   "cell_type": "markdown",
   "id": "067ecfae",
   "metadata": {},
   "source": [
    "## CEOSAL1.RAW\n",
    "The original model without the dummy variable reported the the `ros` variable as insignificant. Once we add the dummy variable `rosneg` to the model, both `ros` and `rosneg` appeared statistically significant."
   ]
  },
  {
   "cell_type": "code",
   "execution_count": 5,
   "id": "02482761",
   "metadata": {},
   "outputs": [
    {
     "data": {
      "text/html": [
       "<table class=\"dataframe\">\n",
       "<caption>A data.frame: 6 × 13</caption>\n",
       "<thead>\n",
       "\t<tr><th></th><th scope=col>salary</th><th scope=col>pcsalary</th><th scope=col>sales</th><th scope=col>roe</th><th scope=col>pcroe</th><th scope=col>ros</th><th scope=col>indus</th><th scope=col>finance</th><th scope=col>consprod</th><th scope=col>utility</th><th scope=col>lsalary</th><th scope=col>lsales</th><th scope=col>rosneg</th></tr>\n",
       "\t<tr><th></th><th scope=col>&lt;int&gt;</th><th scope=col>&lt;int&gt;</th><th scope=col>&lt;dbl&gt;</th><th scope=col>&lt;dbl&gt;</th><th scope=col>&lt;dbl&gt;</th><th scope=col>&lt;int&gt;</th><th scope=col>&lt;int&gt;</th><th scope=col>&lt;int&gt;</th><th scope=col>&lt;int&gt;</th><th scope=col>&lt;int&gt;</th><th scope=col>&lt;dbl&gt;</th><th scope=col>&lt;dbl&gt;</th><th scope=col>&lt;dbl&gt;</th></tr>\n",
       "</thead>\n",
       "<tbody>\n",
       "\t<tr><th scope=row>1</th><td>1095</td><td>20</td><td>27595.0</td><td>14.1</td><td>106.4</td><td>191</td><td>1</td><td>0</td><td>0</td><td>0</td><td>6.998509</td><td>10.225389</td><td>1</td></tr>\n",
       "\t<tr><th scope=row>2</th><td>1001</td><td>32</td><td> 9958.0</td><td>10.9</td><td>-30.6</td><td> 13</td><td>1</td><td>0</td><td>0</td><td>0</td><td>6.908755</td><td> 9.206132</td><td>1</td></tr>\n",
       "\t<tr><th scope=row>3</th><td>1122</td><td> 9</td><td> 6125.9</td><td>23.5</td><td>-16.3</td><td> 14</td><td>1</td><td>0</td><td>0</td><td>0</td><td>7.022868</td><td> 8.720281</td><td>1</td></tr>\n",
       "\t<tr><th scope=row>4</th><td> 578</td><td>-9</td><td>16246.0</td><td> 5.9</td><td>-25.7</td><td>-21</td><td>1</td><td>0</td><td>0</td><td>0</td><td>6.359574</td><td> 9.695602</td><td>0</td></tr>\n",
       "\t<tr><th scope=row>5</th><td>1368</td><td> 7</td><td>21783.2</td><td>13.8</td><td> -3.0</td><td> 56</td><td>1</td><td>0</td><td>0</td><td>0</td><td>7.221105</td><td> 9.988894</td><td>1</td></tr>\n",
       "\t<tr><th scope=row>6</th><td>1145</td><td> 5</td><td> 6021.4</td><td>20.0</td><td>  1.0</td><td> 55</td><td>1</td><td>0</td><td>0</td><td>0</td><td>7.043160</td><td> 8.703075</td><td>1</td></tr>\n",
       "</tbody>\n",
       "</table>\n"
      ],
      "text/latex": [
       "A data.frame: 6 × 13\n",
       "\\begin{tabular}{r|lllllllllllll}\n",
       "  & salary & pcsalary & sales & roe & pcroe & ros & indus & finance & consprod & utility & lsalary & lsales & rosneg\\\\\n",
       "  & <int> & <int> & <dbl> & <dbl> & <dbl> & <int> & <int> & <int> & <int> & <int> & <dbl> & <dbl> & <dbl>\\\\\n",
       "\\hline\n",
       "\t1 & 1095 & 20 & 27595.0 & 14.1 & 106.4 & 191 & 1 & 0 & 0 & 0 & 6.998509 & 10.225389 & 1\\\\\n",
       "\t2 & 1001 & 32 &  9958.0 & 10.9 & -30.6 &  13 & 1 & 0 & 0 & 0 & 6.908755 &  9.206132 & 1\\\\\n",
       "\t3 & 1122 &  9 &  6125.9 & 23.5 & -16.3 &  14 & 1 & 0 & 0 & 0 & 7.022868 &  8.720281 & 1\\\\\n",
       "\t4 &  578 & -9 & 16246.0 &  5.9 & -25.7 & -21 & 1 & 0 & 0 & 0 & 6.359574 &  9.695602 & 0\\\\\n",
       "\t5 & 1368 &  7 & 21783.2 & 13.8 &  -3.0 &  56 & 1 & 0 & 0 & 0 & 7.221105 &  9.988894 & 1\\\\\n",
       "\t6 & 1145 &  5 &  6021.4 & 20.0 &   1.0 &  55 & 1 & 0 & 0 & 0 & 7.043160 &  8.703075 & 1\\\\\n",
       "\\end{tabular}\n"
      ],
      "text/markdown": [
       "\n",
       "A data.frame: 6 × 13\n",
       "\n",
       "| <!--/--> | salary &lt;int&gt; | pcsalary &lt;int&gt; | sales &lt;dbl&gt; | roe &lt;dbl&gt; | pcroe &lt;dbl&gt; | ros &lt;int&gt; | indus &lt;int&gt; | finance &lt;int&gt; | consprod &lt;int&gt; | utility &lt;int&gt; | lsalary &lt;dbl&gt; | lsales &lt;dbl&gt; | rosneg &lt;dbl&gt; |\n",
       "|---|---|---|---|---|---|---|---|---|---|---|---|---|---|\n",
       "| 1 | 1095 | 20 | 27595.0 | 14.1 | 106.4 | 191 | 1 | 0 | 0 | 0 | 6.998509 | 10.225389 | 1 |\n",
       "| 2 | 1001 | 32 |  9958.0 | 10.9 | -30.6 |  13 | 1 | 0 | 0 | 0 | 6.908755 |  9.206132 | 1 |\n",
       "| 3 | 1122 |  9 |  6125.9 | 23.5 | -16.3 |  14 | 1 | 0 | 0 | 0 | 7.022868 |  8.720281 | 1 |\n",
       "| 4 |  578 | -9 | 16246.0 |  5.9 | -25.7 | -21 | 1 | 0 | 0 | 0 | 6.359574 |  9.695602 | 0 |\n",
       "| 5 | 1368 |  7 | 21783.2 | 13.8 |  -3.0 |  56 | 1 | 0 | 0 | 0 | 7.221105 |  9.988894 | 1 |\n",
       "| 6 | 1145 |  5 |  6021.4 | 20.0 |   1.0 |  55 | 1 | 0 | 0 | 0 | 7.043160 |  8.703075 | 1 |\n",
       "\n"
      ],
      "text/plain": [
       "  salary pcsalary sales   roe  pcroe ros indus finance consprod utility\n",
       "1 1095   20       27595.0 14.1 106.4 191 1     0       0        0      \n",
       "2 1001   32        9958.0 10.9 -30.6  13 1     0       0        0      \n",
       "3 1122    9        6125.9 23.5 -16.3  14 1     0       0        0      \n",
       "4  578   -9       16246.0  5.9 -25.7 -21 1     0       0        0      \n",
       "5 1368    7       21783.2 13.8  -3.0  56 1     0       0        0      \n",
       "6 1145    5        6021.4 20.0   1.0  55 1     0       0        0      \n",
       "  lsalary  lsales    rosneg\n",
       "1 6.998509 10.225389 1     \n",
       "2 6.908755  9.206132 1     \n",
       "3 7.022868  8.720281 1     \n",
       "4 6.359574  9.695602 0     \n",
       "5 7.221105  9.988894 1     \n",
       "6 7.043160  8.703075 1     "
      ]
     },
     "metadata": {},
     "output_type": "display_data"
    }
   ],
   "source": [
    "# create the dummy variable\n",
    "# where ros < 0 is 0\n",
    "# and ros > 1 is 1\n",
    "\n",
    "ceosal1 <- ceosal1 %>%\n",
    "mutate(rosneg = ifelse(ros > 0, 1, 0))\n",
    "\n",
    "head(ceosal1)"
   ]
  },
  {
   "cell_type": "code",
   "execution_count": 6,
   "id": "0429a51d",
   "metadata": {},
   "outputs": [
    {
     "data": {
      "text/plain": [
       "\n",
       "Call:\n",
       "lm(formula = log(salary) ~ log(sales) + roe + rosneg, data = ceosal1)\n",
       "\n",
       "Residuals:\n",
       "     Min       1Q   Median       3Q      Max \n",
       "-0.96372 -0.27290 -0.04733  0.21400  2.76903 \n",
       "\n",
       "Coefficients:\n",
       "            Estimate Std. Error t value Pr(>|t|)    \n",
       "(Intercept) 4.071927   0.323716  12.579  < 2e-16 ***\n",
       "log(sales)  0.288387   0.033617   8.579 2.37e-15 ***\n",
       "roe         0.016657   0.003968   4.198 4.02e-05 ***\n",
       "rosneg      0.225675   0.109338   2.064   0.0403 *  \n",
       "---\n",
       "Signif. codes:  0 ‘***’ 0.001 ‘**’ 0.01 ‘*’ 0.05 ‘.’ 0.1 ‘ ’ 1\n",
       "\n",
       "Residual standard error: 0.4785 on 205 degrees of freedom\n",
       "Multiple R-squared:  0.2966,\tAdjusted R-squared:  0.2863 \n",
       "F-statistic: 28.81 on 3 and 205 DF,  p-value: 1.375e-15\n"
      ]
     },
     "metadata": {},
     "output_type": "display_data"
    }
   ],
   "source": [
    "# create new model with the dummy variable\n",
    "\n",
    "ceosal_lm <- lm(log(salary) ~ log(sales) + roe + rosneg, data = ceosal1)\n",
    "\n",
    "summary(ceosal_lm)"
   ]
  },
  {
   "cell_type": "markdown",
   "id": "bb5b15fe",
   "metadata": {},
   "source": [
    "## LOANAPP.RAW"
   ]
  },
  {
   "cell_type": "code",
   "execution_count": 7,
   "id": "8752b379",
   "metadata": {},
   "outputs": [
    {
     "data": {
      "text/html": [
       "<table class=\"dataframe\">\n",
       "<caption>A data.frame: 6 × 59</caption>\n",
       "<thead>\n",
       "\t<tr><th></th><th scope=col>occ</th><th scope=col>loanamt</th><th scope=col>action</th><th scope=col>msa</th><th scope=col>suffolk</th><th scope=col>appinc</th><th scope=col>typur</th><th scope=col>unit</th><th scope=col>married</th><th scope=col>dep</th><th scope=col>⋯</th><th scope=col>approve</th><th scope=col>mortno</th><th scope=col>mortperf</th><th scope=col>mortlat1</th><th scope=col>mortlat2</th><th scope=col>chist</th><th scope=col>multi</th><th scope=col>loanprc</th><th scope=col>thick</th><th scope=col>white</th></tr>\n",
       "\t<tr><th></th><th scope=col>&lt;int&gt;</th><th scope=col>&lt;int&gt;</th><th scope=col>&lt;int&gt;</th><th scope=col>&lt;int&gt;</th><th scope=col>&lt;int&gt;</th><th scope=col>&lt;int&gt;</th><th scope=col>&lt;int&gt;</th><th scope=col>&lt;int&gt;</th><th scope=col>&lt;int&gt;</th><th scope=col>&lt;int&gt;</th><th scope=col>⋯</th><th scope=col>&lt;int&gt;</th><th scope=col>&lt;int&gt;</th><th scope=col>&lt;int&gt;</th><th scope=col>&lt;int&gt;</th><th scope=col>&lt;int&gt;</th><th scope=col>&lt;int&gt;</th><th scope=col>&lt;int&gt;</th><th scope=col>&lt;dbl&gt;</th><th scope=col>&lt;int&gt;</th><th scope=col>&lt;int&gt;</th></tr>\n",
       "</thead>\n",
       "<tbody>\n",
       "\t<tr><th scope=row>1</th><td>1</td><td> 89</td><td>1</td><td>1120</td><td>0</td><td>72</td><td>0</td><td>1</td><td>0</td><td>0</td><td>⋯</td><td>1</td><td>0</td><td>1</td><td>0</td><td>0</td><td>1</td><td>0</td><td>0.7542373</td><td>0</td><td>1</td></tr>\n",
       "\t<tr><th scope=row>2</th><td>1</td><td>128</td><td>3</td><td>1120</td><td>0</td><td>74</td><td>0</td><td>1</td><td>1</td><td>1</td><td>⋯</td><td>0</td><td>0</td><td>1</td><td>0</td><td>0</td><td>1</td><td>0</td><td>0.8000000</td><td>1</td><td>1</td></tr>\n",
       "\t<tr><th scope=row>3</th><td>1</td><td>128</td><td>1</td><td>1120</td><td>0</td><td>84</td><td>3</td><td>1</td><td>0</td><td>0</td><td>⋯</td><td>1</td><td>0</td><td>1</td><td>0</td><td>0</td><td>1</td><td>0</td><td>0.8951049</td><td>1</td><td>1</td></tr>\n",
       "\t<tr><th scope=row>4</th><td>1</td><td> 66</td><td>1</td><td>1120</td><td>0</td><td>36</td><td>0</td><td>1</td><td>1</td><td>0</td><td>⋯</td><td>1</td><td>0</td><td>1</td><td>0</td><td>0</td><td>0</td><td>0</td><td>0.6000000</td><td>0</td><td>1</td></tr>\n",
       "\t<tr><th scope=row>5</th><td>1</td><td>120</td><td>1</td><td>1120</td><td>0</td><td>59</td><td>8</td><td>1</td><td>1</td><td>0</td><td>⋯</td><td>1</td><td>0</td><td>1</td><td>0</td><td>0</td><td>1</td><td>0</td><td>0.8955224</td><td>0</td><td>1</td></tr>\n",
       "\t<tr><th scope=row>6</th><td>1</td><td>111</td><td>1</td><td>1120</td><td>0</td><td>63</td><td>9</td><td>1</td><td>0</td><td>0</td><td>⋯</td><td>1</td><td>0</td><td>1</td><td>0</td><td>0</td><td>0</td><td>0</td><td>0.8043478</td><td>0</td><td>1</td></tr>\n",
       "</tbody>\n",
       "</table>\n"
      ],
      "text/latex": [
       "A data.frame: 6 × 59\n",
       "\\begin{tabular}{r|lllllllllllllllllllll}\n",
       "  & occ & loanamt & action & msa & suffolk & appinc & typur & unit & married & dep & ⋯ & approve & mortno & mortperf & mortlat1 & mortlat2 & chist & multi & loanprc & thick & white\\\\\n",
       "  & <int> & <int> & <int> & <int> & <int> & <int> & <int> & <int> & <int> & <int> & ⋯ & <int> & <int> & <int> & <int> & <int> & <int> & <int> & <dbl> & <int> & <int>\\\\\n",
       "\\hline\n",
       "\t1 & 1 &  89 & 1 & 1120 & 0 & 72 & 0 & 1 & 0 & 0 & ⋯ & 1 & 0 & 1 & 0 & 0 & 1 & 0 & 0.7542373 & 0 & 1\\\\\n",
       "\t2 & 1 & 128 & 3 & 1120 & 0 & 74 & 0 & 1 & 1 & 1 & ⋯ & 0 & 0 & 1 & 0 & 0 & 1 & 0 & 0.8000000 & 1 & 1\\\\\n",
       "\t3 & 1 & 128 & 1 & 1120 & 0 & 84 & 3 & 1 & 0 & 0 & ⋯ & 1 & 0 & 1 & 0 & 0 & 1 & 0 & 0.8951049 & 1 & 1\\\\\n",
       "\t4 & 1 &  66 & 1 & 1120 & 0 & 36 & 0 & 1 & 1 & 0 & ⋯ & 1 & 0 & 1 & 0 & 0 & 0 & 0 & 0.6000000 & 0 & 1\\\\\n",
       "\t5 & 1 & 120 & 1 & 1120 & 0 & 59 & 8 & 1 & 1 & 0 & ⋯ & 1 & 0 & 1 & 0 & 0 & 1 & 0 & 0.8955224 & 0 & 1\\\\\n",
       "\t6 & 1 & 111 & 1 & 1120 & 0 & 63 & 9 & 1 & 0 & 0 & ⋯ & 1 & 0 & 1 & 0 & 0 & 0 & 0 & 0.8043478 & 0 & 1\\\\\n",
       "\\end{tabular}\n"
      ],
      "text/markdown": [
       "\n",
       "A data.frame: 6 × 59\n",
       "\n",
       "| <!--/--> | occ &lt;int&gt; | loanamt &lt;int&gt; | action &lt;int&gt; | msa &lt;int&gt; | suffolk &lt;int&gt; | appinc &lt;int&gt; | typur &lt;int&gt; | unit &lt;int&gt; | married &lt;int&gt; | dep &lt;int&gt; | ⋯ ⋯ | approve &lt;int&gt; | mortno &lt;int&gt; | mortperf &lt;int&gt; | mortlat1 &lt;int&gt; | mortlat2 &lt;int&gt; | chist &lt;int&gt; | multi &lt;int&gt; | loanprc &lt;dbl&gt; | thick &lt;int&gt; | white &lt;int&gt; |\n",
       "|---|---|---|---|---|---|---|---|---|---|---|---|---|---|---|---|---|---|---|---|---|---|\n",
       "| 1 | 1 |  89 | 1 | 1120 | 0 | 72 | 0 | 1 | 0 | 0 | ⋯ | 1 | 0 | 1 | 0 | 0 | 1 | 0 | 0.7542373 | 0 | 1 |\n",
       "| 2 | 1 | 128 | 3 | 1120 | 0 | 74 | 0 | 1 | 1 | 1 | ⋯ | 0 | 0 | 1 | 0 | 0 | 1 | 0 | 0.8000000 | 1 | 1 |\n",
       "| 3 | 1 | 128 | 1 | 1120 | 0 | 84 | 3 | 1 | 0 | 0 | ⋯ | 1 | 0 | 1 | 0 | 0 | 1 | 0 | 0.8951049 | 1 | 1 |\n",
       "| 4 | 1 |  66 | 1 | 1120 | 0 | 36 | 0 | 1 | 1 | 0 | ⋯ | 1 | 0 | 1 | 0 | 0 | 0 | 0 | 0.6000000 | 0 | 1 |\n",
       "| 5 | 1 | 120 | 1 | 1120 | 0 | 59 | 8 | 1 | 1 | 0 | ⋯ | 1 | 0 | 1 | 0 | 0 | 1 | 0 | 0.8955224 | 0 | 1 |\n",
       "| 6 | 1 | 111 | 1 | 1120 | 0 | 63 | 9 | 1 | 0 | 0 | ⋯ | 1 | 0 | 1 | 0 | 0 | 0 | 0 | 0.8043478 | 0 | 1 |\n",
       "\n"
      ],
      "text/plain": [
       "  occ loanamt action msa  suffolk appinc typur unit married dep ⋯ approve\n",
       "1 1    89     1      1120 0       72     0     1    0       0   ⋯ 1      \n",
       "2 1   128     3      1120 0       74     0     1    1       1   ⋯ 0      \n",
       "3 1   128     1      1120 0       84     3     1    0       0   ⋯ 1      \n",
       "4 1    66     1      1120 0       36     0     1    1       0   ⋯ 1      \n",
       "5 1   120     1      1120 0       59     8     1    1       0   ⋯ 1      \n",
       "6 1   111     1      1120 0       63     9     1    0       0   ⋯ 1      \n",
       "  mortno mortperf mortlat1 mortlat2 chist multi loanprc   thick white\n",
       "1 0      1        0        0        1     0     0.7542373 0     1    \n",
       "2 0      1        0        0        1     0     0.8000000 1     1    \n",
       "3 0      1        0        0        1     0     0.8951049 1     1    \n",
       "4 0      1        0        0        0     0     0.6000000 0     1    \n",
       "5 0      1        0        0        1     0     0.8955224 0     1    \n",
       "6 0      1        0        0        0     0     0.8043478 0     1    "
      ]
     },
     "metadata": {},
     "output_type": "display_data"
    }
   ],
   "source": [
    "loanapp <- read.dta(\"/Users/ama/OneDrive - usp.br/S3/Natalia/Lista 2/loanapp.dta\")\n",
    "\n",
    "head(loanapp)"
   ]
  },
  {
   "cell_type": "markdown",
   "id": "3546a62f",
   "metadata": {},
   "source": [
    "### \n",
    "If there is discrimination against nonwhites, the sign of $\\beta_1$ should be positive because it means they have a greater chance of getting approved for a loan."
   ]
  },
  {
   "cell_type": "markdown",
   "id": "e7c9a39e",
   "metadata": {},
   "source": [
    "### \n",
    "\n",
    "The coefficient of white in the model means that a loan application submitted by a white person in the sample was about 20% more likely than a nonwhite person to be approved. The small p-value (or large t statistic) indicate that this variable is very statistically significant. Moreover, 20% is a large percentual advantage, especially if considered on a national level, which we can do considering the sample size above 1000. "
   ]
  },
  {
   "cell_type": "code",
   "execution_count": 8,
   "id": "8d2c17e7",
   "metadata": {},
   "outputs": [
    {
     "data": {
      "text/plain": [
       "\n",
       "Call:\n",
       "lm(formula = approve ~ white, data = loanapp)\n",
       "\n",
       "Residuals:\n",
       "     Min       1Q   Median       3Q      Max \n",
       "-0.90839  0.09161  0.09161  0.09161  0.29221 \n",
       "\n",
       "Coefficients:\n",
       "            Estimate Std. Error t value Pr(>|t|)    \n",
       "(Intercept)  0.70779    0.01824   38.81   <2e-16 ***\n",
       "white        0.20060    0.01984   10.11   <2e-16 ***\n",
       "---\n",
       "Signif. codes:  0 ‘***’ 0.001 ‘**’ 0.01 ‘*’ 0.05 ‘.’ 0.1 ‘ ’ 1\n",
       "\n",
       "Residual standard error: 0.3201 on 1987 degrees of freedom\n",
       "Multiple R-squared:  0.04893,\tAdjusted R-squared:  0.04845 \n",
       "F-statistic: 102.2 on 1 and 1987 DF,  p-value: < 2.2e-16\n"
      ]
     },
     "metadata": {},
     "output_type": "display_data"
    }
   ],
   "source": [
    "# model loan approval with white or nonwhite variable\n",
    "summary(\n",
    "    \n",
    "    lm(approve ~ white, \n",
    "       \n",
    "       data = loanapp)\n",
    "    \n",
    ")"
   ]
  },
  {
   "cell_type": "markdown",
   "id": "3181432b",
   "metadata": {},
   "source": [
    "### \n",
    "\n",
    "The added variables control for other differences within the population, which help explain the variation within the approval rates. However, even when controling for these differences, the white coefficient remains statistically significant and relatively large (around 13%). The next step in building this model would be to add interaction variables to see the advantages of certain groups of whites. "
   ]
  },
  {
   "cell_type": "code",
   "execution_count": 9,
   "id": "5be67c8c",
   "metadata": {},
   "outputs": [
    {
     "data": {
      "text/plain": [
       "\n",
       "Call:\n",
       "lm(formula = approve ~ white + hrat + obrat + loanprc + unem + \n",
       "    male + married + dep + sch + cosign + chist + pubrec + mortlat1 + \n",
       "    mortlat2 + vr, data = loanapp)\n",
       "\n",
       "Residuals:\n",
       "     Min       1Q   Median       3Q      Max \n",
       "-1.06482  0.00781  0.06387  0.13673  0.71105 \n",
       "\n",
       "Coefficients:\n",
       "             Estimate Std. Error t value Pr(>|t|)    \n",
       "(Intercept)  0.936731   0.052735  17.763  < 2e-16 ***\n",
       "white        0.128820   0.019732   6.529 8.44e-11 ***\n",
       "hrat         0.001833   0.001263   1.451   0.1469    \n",
       "obrat       -0.005432   0.001102  -4.930 8.92e-07 ***\n",
       "loanprc     -0.147300   0.037516  -3.926 8.92e-05 ***\n",
       "unem        -0.007299   0.003198  -2.282   0.0226 *  \n",
       "male        -0.004144   0.018864  -0.220   0.8261    \n",
       "married      0.045824   0.016308   2.810   0.0050 ** \n",
       "dep         -0.006827   0.006701  -1.019   0.3084    \n",
       "sch          0.001753   0.016650   0.105   0.9162    \n",
       "cosign       0.009772   0.041139   0.238   0.8123    \n",
       "chist        0.133027   0.019263   6.906 6.72e-12 ***\n",
       "pubrec      -0.241927   0.028227  -8.571  < 2e-16 ***\n",
       "mortlat1    -0.057251   0.050012  -1.145   0.2525    \n",
       "mortlat2    -0.113723   0.066984  -1.698   0.0897 .  \n",
       "vr          -0.031441   0.014031  -2.241   0.0252 *  \n",
       "---\n",
       "Signif. codes:  0 ‘***’ 0.001 ‘**’ 0.01 ‘*’ 0.05 ‘.’ 0.1 ‘ ’ 1\n",
       "\n",
       "Residual standard error: 0.3021 on 1955 degrees of freedom\n",
       "  (18 observations deleted due to missingness)\n",
       "Multiple R-squared:  0.1656,\tAdjusted R-squared:  0.1592 \n",
       "F-statistic: 25.86 on 15 and 1955 DF,  p-value: < 2.2e-16\n"
      ]
     },
     "metadata": {},
     "output_type": "display_data"
    }
   ],
   "source": [
    "summary(\n",
    "    \n",
    "    lm(approve ~ white + hrat + obrat + loanprc + unem + male + married + dep + sch + cosign + chist + pubrec + mortlat1 + mortlat2 + vr, \n",
    "       \n",
    "       data = loanapp)\n",
    "\n",
    ")"
   ]
  },
  {
   "cell_type": "markdown",
   "id": "2317744e",
   "metadata": {},
   "source": [
    "### \n",
    "\n",
    "In adding the `white*obrat` interaction, we can see that loan applications by whites are less affected by having other income obligations. Although the advantage is slight, it is still statistically significant, as seen by the very small p-value of the interaction variable. "
   ]
  },
  {
   "cell_type": "code",
   "execution_count": 10,
   "id": "f72a4bec",
   "metadata": {},
   "outputs": [
    {
     "data": {
      "text/plain": [
       "\n",
       "Call:\n",
       "lm(formula = approve ~ white * obrat + hrat + loanprc + unem + \n",
       "    male + married + dep + sch + cosign + chist + pubrec + mortlat1 + \n",
       "    mortlat2 + vr, data = loanapp)\n",
       "\n",
       "Residuals:\n",
       "     Min       1Q   Median       3Q      Max \n",
       "-1.05523  0.01253  0.06320  0.12692  0.83284 \n",
       "\n",
       "Coefficients:\n",
       "             Estimate Std. Error t value Pr(>|t|)    \n",
       "(Intercept)  1.180648   0.086808  13.601  < 2e-16 ***\n",
       "white       -0.145975   0.080263  -1.819 0.069109 .  \n",
       "obrat       -0.012226   0.002216  -5.518 3.88e-08 ***\n",
       "hrat         0.001790   0.001260   1.421 0.155521    \n",
       "loanprc     -0.152536   0.037436  -4.075 4.79e-05 ***\n",
       "unem        -0.007528   0.003189  -2.360 0.018352 *  \n",
       "male        -0.006015   0.018817  -0.320 0.749241    \n",
       "married      0.045536   0.016260   2.800 0.005154 ** \n",
       "dep         -0.007630   0.006686  -1.141 0.253905    \n",
       "sch          0.001777   0.016601   0.107 0.914787    \n",
       "cosign       0.017709   0.041081   0.431 0.666458    \n",
       "chist        0.129855   0.019227   6.754 1.90e-11 ***\n",
       "pubrec      -0.240325   0.028149  -8.538  < 2e-16 ***\n",
       "mortlat1    -0.062782   0.049891  -1.258 0.208400    \n",
       "mortlat2    -0.126845   0.066891  -1.896 0.058071 .  \n",
       "vr          -0.030540   0.013993  -2.183 0.029188 *  \n",
       "white:obrat  0.008088   0.002290   3.531 0.000423 ***\n",
       "---\n",
       "Signif. codes:  0 ‘***’ 0.001 ‘**’ 0.01 ‘*’ 0.05 ‘.’ 0.1 ‘ ’ 1\n",
       "\n",
       "Residual standard error: 0.3012 on 1954 degrees of freedom\n",
       "  (18 observations deleted due to missingness)\n",
       "Multiple R-squared:  0.1709,\tAdjusted R-squared:  0.1641 \n",
       "F-statistic: 25.17 on 16 and 1954 DF,  p-value: < 2.2e-16\n"
      ]
     },
     "metadata": {},
     "output_type": "display_data"
    }
   ],
   "source": [
    "summary( # adding the interaction term between race and percentage of income \n",
    "    \n",
    "    lm(approve ~ white*obrat + hrat + loanprc + unem + male + married + dep + sch + cosign + chist + pubrec + mortlat1 + mortlat2 + vr, \n",
    "       \n",
    "       data = loanapp)\n",
    "\n",
    ")"
   ]
  },
  {
   "cell_type": "markdown",
   "id": "8768e023",
   "metadata": {},
   "source": [
    "# Specification problems and proxy variables"
   ]
  },
  {
   "cell_type": "markdown",
   "id": "3506ade8",
   "metadata": {},
   "source": [
    "## RESET"
   ]
  },
  {
   "cell_type": "markdown",
   "id": "ec776953",
   "metadata": {},
   "source": [
    "### \n",
    "\n",
    "The RESET test is to determine if a model has functional form misspecification. In this case, the test essentially tells us if the squared or cubed values of the variables are statistically significant and should be included in the model. The F Statistic here is 1.33 with a p-value of about 0.27, meaning that functional misspecification is not an issue in this model. "
   ]
  },
  {
   "cell_type": "code",
   "execution_count": 11,
   "id": "250ec70c",
   "metadata": {},
   "outputs": [
    {
     "data": {
      "text/plain": [
       "\n",
       "\tRESET test\n",
       "\n",
       "data:  ceosal_lm\n",
       "RESET = 1.3335, df1 = 2, df2 = 203, p-value = 0.2658\n"
      ]
     },
     "metadata": {},
     "output_type": "display_data"
    }
   ],
   "source": [
    "# reset test \n",
    "resettest(ceosal_lm, power = 2:3, type = \"fitted\")"
   ]
  },
  {
   "cell_type": "markdown",
   "id": "1e4e3f82",
   "metadata": {},
   "source": [
    "### "
   ]
  },
  {
   "cell_type": "code",
   "execution_count": 47,
   "id": "d6607f9c",
   "metadata": {},
   "outputs": [
    {
     "data": {
      "text/plain": [
       "\n",
       "Call: rlm(formula = log(salary) ~ log(sales) + roe + rosneg, data = ceosal1)\n",
       "Residuals:\n",
       "     Min       1Q   Median       3Q      Max \n",
       "-0.92918 -0.23297 -0.01297  0.24630  2.80142 \n",
       "\n",
       "Coefficients:\n",
       "            Value   Std. Error t value\n",
       "(Intercept)  4.1440  0.2689    15.4132\n",
       "log(sales)   0.2812  0.0279    10.0698\n",
       "roe          0.0167  0.0033     5.0673\n",
       "rosneg       0.1758  0.0908     1.9363\n",
       "\n",
       "Residual standard error: 0.3652 on 205 degrees of freedom"
      ]
     },
     "metadata": {},
     "output_type": "display_data"
    }
   ],
   "source": [
    "# unsure why these are the same results as the reset test with the normal standard errors\n",
    "# the rlm gives the robust standard errors\n",
    "\n",
    "ceosal_rlm <- rlm(log(salary) ~ log(sales) + roe + rosneg, data = ceosal1)\n",
    "\n",
    "# these should be the robust standard errors?\n",
    "summary(ceosal_rlm)"
   ]
  },
  {
   "cell_type": "code",
   "execution_count": 48,
   "id": "09edbb3f",
   "metadata": {},
   "outputs": [
    {
     "data": {
      "text/plain": [
       "\n",
       "\tRESET test\n",
       "\n",
       "data:  ceosal_rlm\n",
       "RESET = 1.3335, df1 = 2, df2 = 203, p-value = 0.2658\n"
      ]
     },
     "metadata": {},
     "output_type": "display_data"
    }
   ],
   "source": [
    "# reset test gives the same results though...\n",
    "resettest(ceosal_rlm, power = 2:3, type = \"fitted\")"
   ]
  },
  {
   "cell_type": "markdown",
   "id": "39288869",
   "metadata": {},
   "source": [
    "## WAGE2.RAW"
   ]
  },
  {
   "cell_type": "code",
   "execution_count": 13,
   "id": "3f5d4b17",
   "metadata": {},
   "outputs": [
    {
     "name": "stderr",
     "output_type": "stream",
     "text": [
      "Warning message in read.dta(\"/Users/ama/OneDrive - usp.br/S3/Natalia/Lista 1/WAGE2.DTA\"):\n",
      "“cannot read factor labels from Stata 5 files”\n"
     ]
    },
    {
     "data": {
      "text/html": [
       "<table class=\"dataframe\">\n",
       "<caption>A data.frame: 6 × 17</caption>\n",
       "<thead>\n",
       "\t<tr><th></th><th scope=col>wage</th><th scope=col>hours</th><th scope=col>IQ</th><th scope=col>KWW</th><th scope=col>educ</th><th scope=col>exper</th><th scope=col>tenure</th><th scope=col>age</th><th scope=col>married</th><th scope=col>black</th><th scope=col>south</th><th scope=col>urban</th><th scope=col>sibs</th><th scope=col>brthord</th><th scope=col>meduc</th><th scope=col>feduc</th><th scope=col>lwage</th></tr>\n",
       "\t<tr><th></th><th scope=col>&lt;int&gt;</th><th scope=col>&lt;int&gt;</th><th scope=col>&lt;int&gt;</th><th scope=col>&lt;int&gt;</th><th scope=col>&lt;int&gt;</th><th scope=col>&lt;int&gt;</th><th scope=col>&lt;int&gt;</th><th scope=col>&lt;int&gt;</th><th scope=col>&lt;int&gt;</th><th scope=col>&lt;int&gt;</th><th scope=col>&lt;int&gt;</th><th scope=col>&lt;int&gt;</th><th scope=col>&lt;int&gt;</th><th scope=col>&lt;int&gt;</th><th scope=col>&lt;int&gt;</th><th scope=col>&lt;int&gt;</th><th scope=col>&lt;dbl&gt;</th></tr>\n",
       "</thead>\n",
       "<tbody>\n",
       "\t<tr><th scope=row>1</th><td> 769</td><td>40</td><td> 93</td><td>35</td><td>12</td><td>11</td><td> 2</td><td>31</td><td>1</td><td>0</td><td>0</td><td>1</td><td> 1</td><td> 2</td><td> 8</td><td> 8</td><td>6.645091</td></tr>\n",
       "\t<tr><th scope=row>2</th><td> 808</td><td>50</td><td>119</td><td>41</td><td>18</td><td>11</td><td>16</td><td>37</td><td>1</td><td>0</td><td>0</td><td>1</td><td> 1</td><td>NA</td><td>14</td><td>14</td><td>6.694562</td></tr>\n",
       "\t<tr><th scope=row>3</th><td> 825</td><td>40</td><td>108</td><td>46</td><td>14</td><td>11</td><td> 9</td><td>33</td><td>1</td><td>0</td><td>0</td><td>1</td><td> 1</td><td> 2</td><td>14</td><td>14</td><td>6.715384</td></tr>\n",
       "\t<tr><th scope=row>4</th><td> 650</td><td>40</td><td> 96</td><td>32</td><td>12</td><td>13</td><td> 7</td><td>32</td><td>1</td><td>0</td><td>0</td><td>1</td><td> 4</td><td> 3</td><td>12</td><td>12</td><td>6.476973</td></tr>\n",
       "\t<tr><th scope=row>5</th><td> 562</td><td>40</td><td> 74</td><td>27</td><td>11</td><td>14</td><td> 5</td><td>34</td><td>1</td><td>0</td><td>0</td><td>1</td><td>10</td><td> 6</td><td> 6</td><td>11</td><td>6.331502</td></tr>\n",
       "\t<tr><th scope=row>6</th><td>1400</td><td>40</td><td>116</td><td>43</td><td>16</td><td>14</td><td> 2</td><td>35</td><td>1</td><td>1</td><td>0</td><td>1</td><td> 1</td><td> 2</td><td> 8</td><td>NA</td><td>7.244227</td></tr>\n",
       "</tbody>\n",
       "</table>\n"
      ],
      "text/latex": [
       "A data.frame: 6 × 17\n",
       "\\begin{tabular}{r|lllllllllllllllll}\n",
       "  & wage & hours & IQ & KWW & educ & exper & tenure & age & married & black & south & urban & sibs & brthord & meduc & feduc & lwage\\\\\n",
       "  & <int> & <int> & <int> & <int> & <int> & <int> & <int> & <int> & <int> & <int> & <int> & <int> & <int> & <int> & <int> & <int> & <dbl>\\\\\n",
       "\\hline\n",
       "\t1 &  769 & 40 &  93 & 35 & 12 & 11 &  2 & 31 & 1 & 0 & 0 & 1 &  1 &  2 &  8 &  8 & 6.645091\\\\\n",
       "\t2 &  808 & 50 & 119 & 41 & 18 & 11 & 16 & 37 & 1 & 0 & 0 & 1 &  1 & NA & 14 & 14 & 6.694562\\\\\n",
       "\t3 &  825 & 40 & 108 & 46 & 14 & 11 &  9 & 33 & 1 & 0 & 0 & 1 &  1 &  2 & 14 & 14 & 6.715384\\\\\n",
       "\t4 &  650 & 40 &  96 & 32 & 12 & 13 &  7 & 32 & 1 & 0 & 0 & 1 &  4 &  3 & 12 & 12 & 6.476973\\\\\n",
       "\t5 &  562 & 40 &  74 & 27 & 11 & 14 &  5 & 34 & 1 & 0 & 0 & 1 & 10 &  6 &  6 & 11 & 6.331502\\\\\n",
       "\t6 & 1400 & 40 & 116 & 43 & 16 & 14 &  2 & 35 & 1 & 1 & 0 & 1 &  1 &  2 &  8 & NA & 7.244227\\\\\n",
       "\\end{tabular}\n"
      ],
      "text/markdown": [
       "\n",
       "A data.frame: 6 × 17\n",
       "\n",
       "| <!--/--> | wage &lt;int&gt; | hours &lt;int&gt; | IQ &lt;int&gt; | KWW &lt;int&gt; | educ &lt;int&gt; | exper &lt;int&gt; | tenure &lt;int&gt; | age &lt;int&gt; | married &lt;int&gt; | black &lt;int&gt; | south &lt;int&gt; | urban &lt;int&gt; | sibs &lt;int&gt; | brthord &lt;int&gt; | meduc &lt;int&gt; | feduc &lt;int&gt; | lwage &lt;dbl&gt; |\n",
       "|---|---|---|---|---|---|---|---|---|---|---|---|---|---|---|---|---|---|\n",
       "| 1 |  769 | 40 |  93 | 35 | 12 | 11 |  2 | 31 | 1 | 0 | 0 | 1 |  1 |  2 |  8 |  8 | 6.645091 |\n",
       "| 2 |  808 | 50 | 119 | 41 | 18 | 11 | 16 | 37 | 1 | 0 | 0 | 1 |  1 | NA | 14 | 14 | 6.694562 |\n",
       "| 3 |  825 | 40 | 108 | 46 | 14 | 11 |  9 | 33 | 1 | 0 | 0 | 1 |  1 |  2 | 14 | 14 | 6.715384 |\n",
       "| 4 |  650 | 40 |  96 | 32 | 12 | 13 |  7 | 32 | 1 | 0 | 0 | 1 |  4 |  3 | 12 | 12 | 6.476973 |\n",
       "| 5 |  562 | 40 |  74 | 27 | 11 | 14 |  5 | 34 | 1 | 0 | 0 | 1 | 10 |  6 |  6 | 11 | 6.331502 |\n",
       "| 6 | 1400 | 40 | 116 | 43 | 16 | 14 |  2 | 35 | 1 | 1 | 0 | 1 |  1 |  2 |  8 | NA | 7.244227 |\n",
       "\n"
      ],
      "text/plain": [
       "  wage hours IQ  KWW educ exper tenure age married black south urban sibs\n",
       "1  769 40     93 35  12   11     2     31  1       0     0     1      1  \n",
       "2  808 50    119 41  18   11    16     37  1       0     0     1      1  \n",
       "3  825 40    108 46  14   11     9     33  1       0     0     1      1  \n",
       "4  650 40     96 32  12   13     7     32  1       0     0     1      4  \n",
       "5  562 40     74 27  11   14     5     34  1       0     0     1     10  \n",
       "6 1400 40    116 43  16   14     2     35  1       1     0     1      1  \n",
       "  brthord meduc feduc lwage   \n",
       "1  2       8     8    6.645091\n",
       "2 NA      14    14    6.694562\n",
       "3  2      14    14    6.715384\n",
       "4  3      12    12    6.476973\n",
       "5  6       6    11    6.331502\n",
       "6  2       8    NA    7.244227"
      ]
     },
     "metadata": {},
     "output_type": "display_data"
    }
   ],
   "source": [
    "wage2 <- read.dta(\"/Users/ama/OneDrive - usp.br/S3/Natalia/Lista 1/WAGE2.DTA\")\n",
    "\n",
    "head(wage2)"
   ]
  },
  {
   "cell_type": "markdown",
   "id": "257f0581",
   "metadata": {},
   "source": [
    "### "
   ]
  },
  {
   "cell_type": "code",
   "execution_count": 14,
   "id": "daef0326",
   "metadata": {},
   "outputs": [
    {
     "data": {
      "text/plain": [
       "\n",
       "Call:\n",
       "lm(formula = log(wage) ~ KWW + educ + exper + tenure + married + \n",
       "    black + south + urban, data = wage2)\n",
       "\n",
       "Residuals:\n",
       "     Min       1Q   Median       3Q      Max \n",
       "-2.04494 -0.21931 -0.00048  0.24163  1.26464 \n",
       "\n",
       "Coefficients:\n",
       "             Estimate Std. Error t value Pr(>|t|)    \n",
       "(Intercept)  5.358797   0.113600  47.172  < 2e-16 ***\n",
       "KWW          0.005028   0.001819   2.764 0.005820 ** \n",
       "educ         0.057628   0.006838   8.428  < 2e-16 ***\n",
       "exper        0.012228   0.003241   3.773 0.000172 ***\n",
       "tenure       0.011072   0.002456   4.507 7.40e-06 ***\n",
       "married      0.189461   0.039077   4.848 1.46e-06 ***\n",
       "black       -0.164267   0.038530  -4.263 2.22e-05 ***\n",
       "south       -0.091601   0.026156  -3.502 0.000484 ***\n",
       "urban        0.175545   0.027032   6.494 1.36e-10 ***\n",
       "---\n",
       "Signif. codes:  0 ‘***’ 0.001 ‘**’ 0.01 ‘*’ 0.05 ‘.’ 0.1 ‘ ’ 1\n",
       "\n",
       "Residual standard error: 0.3642 on 926 degrees of freedom\n",
       "Multiple R-squared:  0.2587,\tAdjusted R-squared:  0.2523 \n",
       "F-statistic: 40.39 on 8 and 926 DF,  p-value: < 2.2e-16\n"
      ]
     },
     "metadata": {},
     "output_type": "display_data"
    }
   ],
   "source": [
    "summary(\n",
    "    \n",
    "    lm(log(wage) ~ KWW + educ + exper + tenure + married + black + south + urban, data = wage2)\n",
    "\n",
    ")"
   ]
  },
  {
   "cell_type": "markdown",
   "id": "3a6836aa",
   "metadata": {},
   "source": [
    "### "
   ]
  },
  {
   "cell_type": "code",
   "execution_count": 15,
   "id": "1efad5bf",
   "metadata": {},
   "outputs": [
    {
     "data": {
      "text/plain": [
       "\n",
       "Call:\n",
       "lm(formula = log(wage) ~ KWW + IQ + educ + exper + tenure + married + \n",
       "    black + south + urban, data = wage2)\n",
       "\n",
       "Residuals:\n",
       "     Min       1Q   Median       3Q      Max \n",
       "-2.05704 -0.21621  0.00824  0.23725  1.24895 \n",
       "\n",
       "Coefficients:\n",
       "             Estimate Std. Error t value Pr(>|t|)    \n",
       "(Intercept)  5.175644   0.127776  40.506  < 2e-16 ***\n",
       "KWW          0.003826   0.001852   2.066  0.03913 *  \n",
       "IQ           0.003118   0.001013   3.079  0.00214 ** \n",
       "educ         0.049837   0.007262   6.863 1.24e-11 ***\n",
       "exper        0.012752   0.003231   3.947 8.51e-05 ***\n",
       "tenure       0.010925   0.002446   4.467 8.92e-06 ***\n",
       "married      0.192145   0.038909   4.938 9.35e-07 ***\n",
       "black       -0.130399   0.039901  -3.268  0.00112 ** \n",
       "south       -0.082029   0.026222  -3.128  0.00181 ** \n",
       "urban        0.175823   0.026910   6.534 1.06e-10 ***\n",
       "---\n",
       "Signif. codes:  0 ‘***’ 0.001 ‘**’ 0.01 ‘*’ 0.05 ‘.’ 0.1 ‘ ’ 1\n",
       "\n",
       "Residual standard error: 0.3625 on 925 degrees of freedom\n",
       "Multiple R-squared:  0.2662,\tAdjusted R-squared:  0.2591 \n",
       "F-statistic: 37.28 on 9 and 925 DF,  p-value: < 2.2e-16\n"
      ]
     },
     "metadata": {},
     "output_type": "display_data"
    }
   ],
   "source": [
    "wage_lm <- lm(log(wage) ~ KWW + IQ + educ + exper + tenure + married + black + south + urban, data = wage2)\n",
    "\n",
    "summary(wage_lm)"
   ]
  },
  {
   "cell_type": "markdown",
   "id": "1a9833c7",
   "metadata": {},
   "source": [
    "### "
   ]
  },
  {
   "cell_type": "code",
   "execution_count": 16,
   "id": "c20f40bc",
   "metadata": {},
   "outputs": [
    {
     "data": {
      "text/html": [
       "<table class=\"dataframe\">\n",
       "<caption>A anova: 2 × 6</caption>\n",
       "<thead>\n",
       "\t<tr><th></th><th scope=col>Res.Df</th><th scope=col>RSS</th><th scope=col>Df</th><th scope=col>Sum of Sq</th><th scope=col>F</th><th scope=col>Pr(&gt;F)</th></tr>\n",
       "\t<tr><th></th><th scope=col>&lt;dbl&gt;</th><th scope=col>&lt;dbl&gt;</th><th scope=col>&lt;dbl&gt;</th><th scope=col>&lt;dbl&gt;</th><th scope=col>&lt;dbl&gt;</th><th scope=col>&lt;dbl&gt;</th></tr>\n",
       "</thead>\n",
       "<tbody>\n",
       "\t<tr><th scope=row>1</th><td>927</td><td>123.8185</td><td>NA</td><td>      NA</td><td>      NA</td><td>          NA</td></tr>\n",
       "\t<tr><th scope=row>2</th><td>925</td><td>121.5595</td><td> 2</td><td>2.259033</td><td>8.594991</td><td>0.0002002182</td></tr>\n",
       "</tbody>\n",
       "</table>\n"
      ],
      "text/latex": [
       "A anova: 2 × 6\n",
       "\\begin{tabular}{r|llllll}\n",
       "  & Res.Df & RSS & Df & Sum of Sq & F & Pr(>F)\\\\\n",
       "  & <dbl> & <dbl> & <dbl> & <dbl> & <dbl> & <dbl>\\\\\n",
       "\\hline\n",
       "\t1 & 927 & 123.8185 & NA &       NA &       NA &           NA\\\\\n",
       "\t2 & 925 & 121.5595 &  2 & 2.259033 & 8.594991 & 0.0002002182\\\\\n",
       "\\end{tabular}\n"
      ],
      "text/markdown": [
       "\n",
       "A anova: 2 × 6\n",
       "\n",
       "| <!--/--> | Res.Df &lt;dbl&gt; | RSS &lt;dbl&gt; | Df &lt;dbl&gt; | Sum of Sq &lt;dbl&gt; | F &lt;dbl&gt; | Pr(&gt;F) &lt;dbl&gt; |\n",
       "|---|---|---|---|---|---|---|\n",
       "| 1 | 927 | 123.8185 | NA |       NA |       NA |           NA |\n",
       "| 2 | 925 | 121.5595 |  2 | 2.259033 | 8.594991 | 0.0002002182 |\n",
       "\n"
      ],
      "text/plain": [
       "  Res.Df RSS      Df Sum of Sq F        Pr(>F)      \n",
       "1 927    123.8185 NA       NA        NA           NA\n",
       "2 925    121.5595  2 2.259033  8.594991 0.0002002182"
      ]
     },
     "metadata": {},
     "output_type": "display_data"
    }
   ],
   "source": [
    "# testing joint significance\n",
    "\n",
    "linearHypothesis(wage_lm, c(\"KWW\", \"IQ\"))"
   ]
  },
  {
   "cell_type": "markdown",
   "id": "cf13a72d",
   "metadata": {},
   "source": [
    "# OLS and Probit"
   ]
  },
  {
   "cell_type": "markdown",
   "id": "77f8326d",
   "metadata": {},
   "source": [
    "## PNTSPRD.RAW"
   ]
  },
  {
   "cell_type": "code",
   "execution_count": 17,
   "id": "5e63fece",
   "metadata": {},
   "outputs": [
    {
     "name": "stderr",
     "output_type": "stream",
     "text": [
      "Warning message in read.dta(\"/Users/ama/OneDrive - usp.br/S3/Natalia/Lista 2/PNTSPRD.DTA\"):\n",
      "“cannot read factor labels from Stata 5 files”\n"
     ]
    },
    {
     "data": {
      "text/html": [
       "<table class=\"dataframe\">\n",
       "<caption>A data.frame: 6 × 12</caption>\n",
       "<thead>\n",
       "\t<tr><th></th><th scope=col>favscr</th><th scope=col>undscr</th><th scope=col>spread</th><th scope=col>favhome</th><th scope=col>neutral</th><th scope=col>fav25</th><th scope=col>und25</th><th scope=col>fregion</th><th scope=col>uregion</th><th scope=col>scrdiff</th><th scope=col>sprdcvr</th><th scope=col>favwin</th></tr>\n",
       "\t<tr><th></th><th scope=col>&lt;int&gt;</th><th scope=col>&lt;int&gt;</th><th scope=col>&lt;dbl&gt;</th><th scope=col>&lt;int&gt;</th><th scope=col>&lt;int&gt;</th><th scope=col>&lt;int&gt;</th><th scope=col>&lt;int&gt;</th><th scope=col>&lt;int&gt;</th><th scope=col>&lt;int&gt;</th><th scope=col>&lt;int&gt;</th><th scope=col>&lt;int&gt;</th><th scope=col>&lt;int&gt;</th></tr>\n",
       "</thead>\n",
       "<tbody>\n",
       "\t<tr><th scope=row>1</th><td>72</td><td>61</td><td> 7.0</td><td>0</td><td>0</td><td>1</td><td>0</td><td>3</td><td>4</td><td>11</td><td>1</td><td>1</td></tr>\n",
       "\t<tr><th scope=row>2</th><td>82</td><td>74</td><td> 7.0</td><td>1</td><td>0</td><td>0</td><td>0</td><td>3</td><td>1</td><td> 8</td><td>1</td><td>1</td></tr>\n",
       "\t<tr><th scope=row>3</th><td>87</td><td>57</td><td>17.0</td><td>1</td><td>0</td><td>0</td><td>0</td><td>3</td><td>3</td><td>30</td><td>1</td><td>1</td></tr>\n",
       "\t<tr><th scope=row>4</th><td>69</td><td>70</td><td> 9.0</td><td>1</td><td>0</td><td>0</td><td>0</td><td>3</td><td>3</td><td>-1</td><td>0</td><td>0</td></tr>\n",
       "\t<tr><th scope=row>5</th><td>77</td><td>79</td><td> 2.5</td><td>0</td><td>0</td><td>0</td><td>0</td><td>2</td><td>3</td><td>-2</td><td>0</td><td>0</td></tr>\n",
       "\t<tr><th scope=row>6</th><td>91</td><td>65</td><td> 9.0</td><td>0</td><td>1</td><td>1</td><td>0</td><td>3</td><td>4</td><td>26</td><td>1</td><td>1</td></tr>\n",
       "</tbody>\n",
       "</table>\n"
      ],
      "text/latex": [
       "A data.frame: 6 × 12\n",
       "\\begin{tabular}{r|llllllllllll}\n",
       "  & favscr & undscr & spread & favhome & neutral & fav25 & und25 & fregion & uregion & scrdiff & sprdcvr & favwin\\\\\n",
       "  & <int> & <int> & <dbl> & <int> & <int> & <int> & <int> & <int> & <int> & <int> & <int> & <int>\\\\\n",
       "\\hline\n",
       "\t1 & 72 & 61 &  7.0 & 0 & 0 & 1 & 0 & 3 & 4 & 11 & 1 & 1\\\\\n",
       "\t2 & 82 & 74 &  7.0 & 1 & 0 & 0 & 0 & 3 & 1 &  8 & 1 & 1\\\\\n",
       "\t3 & 87 & 57 & 17.0 & 1 & 0 & 0 & 0 & 3 & 3 & 30 & 1 & 1\\\\\n",
       "\t4 & 69 & 70 &  9.0 & 1 & 0 & 0 & 0 & 3 & 3 & -1 & 0 & 0\\\\\n",
       "\t5 & 77 & 79 &  2.5 & 0 & 0 & 0 & 0 & 2 & 3 & -2 & 0 & 0\\\\\n",
       "\t6 & 91 & 65 &  9.0 & 0 & 1 & 1 & 0 & 3 & 4 & 26 & 1 & 1\\\\\n",
       "\\end{tabular}\n"
      ],
      "text/markdown": [
       "\n",
       "A data.frame: 6 × 12\n",
       "\n",
       "| <!--/--> | favscr &lt;int&gt; | undscr &lt;int&gt; | spread &lt;dbl&gt; | favhome &lt;int&gt; | neutral &lt;int&gt; | fav25 &lt;int&gt; | und25 &lt;int&gt; | fregion &lt;int&gt; | uregion &lt;int&gt; | scrdiff &lt;int&gt; | sprdcvr &lt;int&gt; | favwin &lt;int&gt; |\n",
       "|---|---|---|---|---|---|---|---|---|---|---|---|---|\n",
       "| 1 | 72 | 61 |  7.0 | 0 | 0 | 1 | 0 | 3 | 4 | 11 | 1 | 1 |\n",
       "| 2 | 82 | 74 |  7.0 | 1 | 0 | 0 | 0 | 3 | 1 |  8 | 1 | 1 |\n",
       "| 3 | 87 | 57 | 17.0 | 1 | 0 | 0 | 0 | 3 | 3 | 30 | 1 | 1 |\n",
       "| 4 | 69 | 70 |  9.0 | 1 | 0 | 0 | 0 | 3 | 3 | -1 | 0 | 0 |\n",
       "| 5 | 77 | 79 |  2.5 | 0 | 0 | 0 | 0 | 2 | 3 | -2 | 0 | 0 |\n",
       "| 6 | 91 | 65 |  9.0 | 0 | 1 | 1 | 0 | 3 | 4 | 26 | 1 | 1 |\n",
       "\n"
      ],
      "text/plain": [
       "  favscr undscr spread favhome neutral fav25 und25 fregion uregion scrdiff\n",
       "1 72     61      7.0   0       0       1     0     3       4       11     \n",
       "2 82     74      7.0   1       0       0     0     3       1        8     \n",
       "3 87     57     17.0   1       0       0     0     3       3       30     \n",
       "4 69     70      9.0   1       0       0     0     3       3       -1     \n",
       "5 77     79      2.5   0       0       0     0     2       3       -2     \n",
       "6 91     65      9.0   0       1       1     0     3       4       26     \n",
       "  sprdcvr favwin\n",
       "1 1       1     \n",
       "2 1       1     \n",
       "3 1       1     \n",
       "4 0       0     \n",
       "5 0       0     \n",
       "6 1       1     "
      ]
     },
     "metadata": {},
     "output_type": "display_data"
    }
   ],
   "source": [
    "pntsprd <- read.dta(\"/Users/ama/OneDrive - usp.br/S3/Natalia/Lista 2/PNTSPRD.DTA\")\n",
    "\n",
    "head(pntsprd)"
   ]
  },
  {
   "cell_type": "markdown",
   "id": "643c757b",
   "metadata": {},
   "source": [
    "### \n",
    "We would expect $\\beta_0 = 0.5$ because if all the relevant information is equal to zero, then the team would have a 50% chance of winning. "
   ]
  },
  {
   "cell_type": "markdown",
   "id": "f7188cba",
   "metadata": {},
   "source": [
    "### "
   ]
  },
  {
   "cell_type": "code",
   "execution_count": 18,
   "id": "d5989cf1",
   "metadata": {},
   "outputs": [
    {
     "data": {
      "text/plain": [
       "\n",
       "Call:\n",
       "lm(formula = favwin ~ spread, data = pntsprd)\n",
       "\n",
       "Residuals:\n",
       "    Min      1Q  Median      3Q     Max \n",
       "-0.9836 -0.1192  0.1519  0.3069  0.4037 \n",
       "\n",
       "Coefficients:\n",
       "            Estimate Std. Error t value Pr(>|t|)    \n",
       "(Intercept) 0.576949   0.028235  20.434  < 2e-16 ***\n",
       "spread      0.019366   0.002339   8.281 9.32e-16 ***\n",
       "---\n",
       "Signif. codes:  0 ‘***’ 0.001 ‘**’ 0.01 ‘*’ 0.05 ‘.’ 0.1 ‘ ’ 1\n",
       "\n",
       "Residual standard error: 0.4017 on 551 degrees of freedom\n",
       "Multiple R-squared:  0.1107,\tAdjusted R-squared:  0.1091 \n",
       "F-statistic: 68.57 on 1 and 551 DF,  p-value: 9.324e-16\n"
      ]
     },
     "metadata": {},
     "output_type": "display_data"
    }
   ],
   "source": [
    "pntsprd_lm <- lm(favwin ~ spread, data = pntsprd)\n",
    "\n",
    "# the model\n",
    "summary(pntsprd_lm)"
   ]
  },
  {
   "cell_type": "code",
   "execution_count": 19,
   "id": "f93441eb",
   "metadata": {},
   "outputs": [
    {
     "data": {
      "text/plain": [
       "\n",
       "t test of coefficients:\n",
       "\n",
       "             Estimate Std. Error t value  Pr(>|t|)    \n",
       "(Intercept) 0.5769492  0.0315995  18.258 < 2.2e-16 ***\n",
       "spread      0.0193655  0.0019184  10.095 < 2.2e-16 ***\n",
       "---\n",
       "Signif. codes:  0 ‘***’ 0.001 ‘**’ 0.01 ‘*’ 0.05 ‘.’ 0.1 ‘ ’ 1\n"
      ]
     },
     "metadata": {},
     "output_type": "display_data"
    }
   ],
   "source": [
    "# robust t test\n",
    "coeftest(pntsprd_lm, vcov = vcovHC(pntsprd_lm, type = \"HC0\"))\n",
    "\n",
    "# robust standard errors"
   ]
  },
  {
   "cell_type": "markdown",
   "id": "bedad8c9",
   "metadata": {},
   "source": [
    "Testing $H_0 : \\beta_0 = 0.5$ with standard errors and  heteroskedasticity-robust standard errors as calculated above. \n",
    "\n",
    "With the regular standard error, the t statistic for the null hypothesis is: "
   ]
  },
  {
   "cell_type": "code",
   "execution_count": 20,
   "id": "45d65598",
   "metadata": {},
   "outputs": [
    {
     "data": {
      "text/html": [
       "2.75"
      ],
      "text/latex": [
       "2.75"
      ],
      "text/markdown": [
       "2.75"
      ],
      "text/plain": [
       "[1] 2.75"
      ]
     },
     "metadata": {},
     "output_type": "display_data"
    }
   ],
   "source": [
    "(0.577 - .5) / 0.028"
   ]
  },
  {
   "cell_type": "markdown",
   "id": "4a198ffd",
   "metadata": {},
   "source": [
    "This leads us to reject the null hypothesis with a two-sided alternative at a 1% confidence level, as the absolute value of the t statistic is larger than the critical value 2.58. "
   ]
  },
  {
   "cell_type": "markdown",
   "id": "92a16a83",
   "metadata": {},
   "source": [
    "With the robust standard errors, the t statistic for the null hypothesis is: "
   ]
  },
  {
   "cell_type": "code",
   "execution_count": 21,
   "id": "c9ecdc1a",
   "metadata": {},
   "outputs": [
    {
     "data": {
      "text/html": [
       "2.40625"
      ],
      "text/latex": [
       "2.40625"
      ],
      "text/markdown": [
       "2.40625"
      ],
      "text/plain": [
       "[1] 2.40625"
      ]
     },
     "metadata": {},
     "output_type": "display_data"
    }
   ],
   "source": [
    "(0.577 - 0.5) / 0.032"
   ]
  },
  {
   "cell_type": "markdown",
   "id": "ac8dc5b5",
   "metadata": {},
   "source": [
    "Similarly, we can reject the null hypothesis with a two-sided alternative at the 2% confidence level, as the absolute value of the t statistic is above the criticual value 2.33. "
   ]
  },
  {
   "cell_type": "markdown",
   "id": "bc513326",
   "metadata": {},
   "source": [
    "### \n",
    "Yes, _spread_ is statistically significant with normal or robust standard error values and a p-value less than 0.001 in both cases. "
   ]
  },
  {
   "cell_type": "code",
   "execution_count": 22,
   "id": "60b471ff",
   "metadata": {},
   "outputs": [
    {
     "data": {
      "text/html": [
       "<strong>(Intercept):</strong> 0.770604375733566"
      ],
      "text/latex": [
       "\\textbf{(Intercept):} 0.770604375733566"
      ],
      "text/markdown": [
       "**(Intercept):** 0.770604375733566"
      ],
      "text/plain": [
       "(Intercept) \n",
       "  0.7706044 "
      ]
     },
     "metadata": {},
     "output_type": "display_data"
    }
   ],
   "source": [
    "# if spread = 10\n",
    "\n",
    "intercept_pntsprd <- coef(pntsprd_lm)[1] \n",
    "\n",
    "coef_pntsprd <- coef(pntsprd_lm)[2]\n",
    "\n",
    "\n",
    "intercept_pntsprd + coef_pntsprd * 10"
   ]
  },
  {
   "cell_type": "markdown",
   "id": "474596bb",
   "metadata": {},
   "source": [
    "### "
   ]
  },
  {
   "cell_type": "code",
   "execution_count": 23,
   "id": "9eea1528",
   "metadata": {},
   "outputs": [
    {
     "data": {
      "text/plain": [
       "\n",
       "z test of coefficients:\n",
       "\n",
       "             Estimate Std. Error z value  Pr(>|z|)    \n",
       "(Intercept) -0.010592   0.101788 -0.1041    0.9171    \n",
       "spread       0.092463   0.011612  7.9626 1.685e-15 ***\n",
       "---\n",
       "Signif. codes:  0 ‘***’ 0.001 ‘**’ 0.01 ‘*’ 0.05 ‘.’ 0.1 ‘ ’ 1\n"
      ]
     },
     "metadata": {},
     "output_type": "display_data"
    }
   ],
   "source": [
    "pntsprd_probit <- glm(favwin ~ spread, \n",
    "                      family = binomial(link = \"probit\"),\n",
    "                      data = pntsprd)\n",
    "\n",
    "coeftest(pntsprd_probit, vcov. = vcovHC, type = \"HC1\")"
   ]
  },
  {
   "cell_type": "code",
   "execution_count": 24,
   "id": "7100e138",
   "metadata": {},
   "outputs": [],
   "source": [
    "# test the null hypothesis that the intercept is 0"
   ]
  },
  {
   "cell_type": "markdown",
   "id": "d125519c",
   "metadata": {},
   "source": [
    "### \n",
    "\n",
    "The predicted value when _spread_ = 10 is around 0.820, which is a bit higher than the LPM estimate. "
   ]
  },
  {
   "cell_type": "code",
   "execution_count": 25,
   "id": "13369f00",
   "metadata": {},
   "outputs": [
    {
     "data": {
      "text/html": [
       "<strong>(Intercept):</strong> 0.819651213210862"
      ],
      "text/latex": [
       "\\textbf{(Intercept):} 0.819651213210862"
      ],
      "text/markdown": [
       "**(Intercept):** 0.819651213210862"
      ],
      "text/plain": [
       "(Intercept) \n",
       "  0.8196512 "
      ]
     },
     "metadata": {},
     "output_type": "display_data"
    }
   ],
   "source": [
    "intercept_pntsprd <- coef(pntsprd_probit)[1]\n",
    "\n",
    "coef1_pntsprd <- coef(pntsprd_probit)[2] \n",
    "\n",
    "\n",
    "# where pnorm is the cumulative standard normal distribution function \n",
    "pnorm( intercept_pntsprd + coef1_pntsprd * 10 )"
   ]
  },
  {
   "cell_type": "markdown",
   "id": "e7e254f9",
   "metadata": {},
   "source": [
    "###\n",
    "\n",
    "When added variables are tested for joint significance, the log likelihood is about -262.6418, the likelihood ration statistic is 1.84, and the p-value is around 0.61, making the joint significance of these variables statistically insignificant. This means that once we add the variable `spread` to our model, the new variables do not help with making predictions. "
   ]
  },
  {
   "cell_type": "code",
   "execution_count": 26,
   "id": "7abe2420",
   "metadata": {},
   "outputs": [
    {
     "data": {
      "text/plain": [
       "\n",
       "z test of coefficients:\n",
       "\n",
       "              Estimate Std. Error z value  Pr(>|z|)    \n",
       "(Intercept) -0.0551800  0.1330021 -0.4149    0.6782    \n",
       "spread       0.0878844  0.0116031  7.5742 3.613e-14 ***\n",
       "favhome      0.1485755  0.1362605  1.0904    0.2755    \n",
       "fav25        0.0030685  0.1613817  0.0190    0.9848    \n",
       "und25       -0.2198086  0.2557421 -0.8595    0.3901    \n",
       "---\n",
       "Signif. codes:  0 ‘***’ 0.001 ‘**’ 0.01 ‘*’ 0.05 ‘.’ 0.1 ‘ ’ 1\n"
      ]
     },
     "metadata": {},
     "output_type": "display_data"
    }
   ],
   "source": [
    "pntsprd_probit2 <- glm(favwin ~ spread + favhome + fav25 + und25, \n",
    "                      family = binomial(link = \"probit\"),\n",
    "                      data = pntsprd)\n",
    "\n",
    "coeftest(pntsprd_probit2, vcov. = vcovHC, type = \"HC1\")"
   ]
  },
  {
   "cell_type": "code",
   "execution_count": 27,
   "id": "42a24f8f",
   "metadata": {},
   "outputs": [
    {
     "data": {
      "text/html": [
       "<table class=\"dataframe\">\n",
       "<caption>A anova: 2 × 5</caption>\n",
       "<thead>\n",
       "\t<tr><th></th><th scope=col>#Df</th><th scope=col>LogLik</th><th scope=col>Df</th><th scope=col>Chisq</th><th scope=col>Pr(&gt;Chisq)</th></tr>\n",
       "\t<tr><th></th><th scope=col>&lt;dbl&gt;</th><th scope=col>&lt;dbl&gt;</th><th scope=col>&lt;dbl&gt;</th><th scope=col>&lt;dbl&gt;</th><th scope=col>&lt;dbl&gt;</th></tr>\n",
       "</thead>\n",
       "<tbody>\n",
       "\t<tr><th scope=row>1</th><td>2</td><td>-263.5622</td><td>NA</td><td>      NA</td><td>       NA</td></tr>\n",
       "\t<tr><th scope=row>2</th><td>5</td><td>-262.6418</td><td> 3</td><td>1.840843</td><td>0.6060875</td></tr>\n",
       "</tbody>\n",
       "</table>\n"
      ],
      "text/latex": [
       "A anova: 2 × 5\n",
       "\\begin{tabular}{r|lllll}\n",
       "  & \\#Df & LogLik & Df & Chisq & Pr(>Chisq)\\\\\n",
       "  & <dbl> & <dbl> & <dbl> & <dbl> & <dbl>\\\\\n",
       "\\hline\n",
       "\t1 & 2 & -263.5622 & NA &       NA &        NA\\\\\n",
       "\t2 & 5 & -262.6418 &  3 & 1.840843 & 0.6060875\\\\\n",
       "\\end{tabular}\n"
      ],
      "text/markdown": [
       "\n",
       "A anova: 2 × 5\n",
       "\n",
       "| <!--/--> | #Df &lt;dbl&gt; | LogLik &lt;dbl&gt; | Df &lt;dbl&gt; | Chisq &lt;dbl&gt; | Pr(&gt;Chisq) &lt;dbl&gt; |\n",
       "|---|---|---|---|---|---|\n",
       "| 1 | 2 | -263.5622 | NA |       NA |        NA |\n",
       "| 2 | 5 | -262.6418 |  3 | 1.840843 | 0.6060875 |\n",
       "\n"
      ],
      "text/plain": [
       "  #Df LogLik    Df Chisq    Pr(>Chisq)\n",
       "1 2   -263.5622 NA       NA        NA \n",
       "2 5   -262.6418  3 1.840843 0.6060875 "
      ]
     },
     "metadata": {},
     "output_type": "display_data"
    }
   ],
   "source": [
    "# test the joint significance of these added variables\n",
    "\n",
    "lrtest(pntsprd_probit, pntsprd_probit2)"
   ]
  },
  {
   "cell_type": "markdown",
   "id": "653287b8",
   "metadata": {},
   "source": [
    "# Probit and Logit"
   ]
  },
  {
   "cell_type": "markdown",
   "id": "8e487b16",
   "metadata": {},
   "source": [
    "## LOANAPP.RAW"
   ]
  },
  {
   "cell_type": "code",
   "execution_count": 28,
   "id": "14597d16",
   "metadata": {},
   "outputs": [
    {
     "data": {
      "text/html": [
       "<table class=\"dataframe\">\n",
       "<caption>A data.frame: 6 × 59</caption>\n",
       "<thead>\n",
       "\t<tr><th></th><th scope=col>occ</th><th scope=col>loanamt</th><th scope=col>action</th><th scope=col>msa</th><th scope=col>suffolk</th><th scope=col>appinc</th><th scope=col>typur</th><th scope=col>unit</th><th scope=col>married</th><th scope=col>dep</th><th scope=col>⋯</th><th scope=col>approve</th><th scope=col>mortno</th><th scope=col>mortperf</th><th scope=col>mortlat1</th><th scope=col>mortlat2</th><th scope=col>chist</th><th scope=col>multi</th><th scope=col>loanprc</th><th scope=col>thick</th><th scope=col>white</th></tr>\n",
       "\t<tr><th></th><th scope=col>&lt;int&gt;</th><th scope=col>&lt;int&gt;</th><th scope=col>&lt;int&gt;</th><th scope=col>&lt;int&gt;</th><th scope=col>&lt;int&gt;</th><th scope=col>&lt;int&gt;</th><th scope=col>&lt;int&gt;</th><th scope=col>&lt;int&gt;</th><th scope=col>&lt;int&gt;</th><th scope=col>&lt;int&gt;</th><th scope=col>⋯</th><th scope=col>&lt;int&gt;</th><th scope=col>&lt;int&gt;</th><th scope=col>&lt;int&gt;</th><th scope=col>&lt;int&gt;</th><th scope=col>&lt;int&gt;</th><th scope=col>&lt;int&gt;</th><th scope=col>&lt;int&gt;</th><th scope=col>&lt;dbl&gt;</th><th scope=col>&lt;int&gt;</th><th scope=col>&lt;int&gt;</th></tr>\n",
       "</thead>\n",
       "<tbody>\n",
       "\t<tr><th scope=row>1</th><td>1</td><td> 89</td><td>1</td><td>1120</td><td>0</td><td>72</td><td>0</td><td>1</td><td>0</td><td>0</td><td>⋯</td><td>1</td><td>0</td><td>1</td><td>0</td><td>0</td><td>1</td><td>0</td><td>0.7542373</td><td>0</td><td>1</td></tr>\n",
       "\t<tr><th scope=row>2</th><td>1</td><td>128</td><td>3</td><td>1120</td><td>0</td><td>74</td><td>0</td><td>1</td><td>1</td><td>1</td><td>⋯</td><td>0</td><td>0</td><td>1</td><td>0</td><td>0</td><td>1</td><td>0</td><td>0.8000000</td><td>1</td><td>1</td></tr>\n",
       "\t<tr><th scope=row>3</th><td>1</td><td>128</td><td>1</td><td>1120</td><td>0</td><td>84</td><td>3</td><td>1</td><td>0</td><td>0</td><td>⋯</td><td>1</td><td>0</td><td>1</td><td>0</td><td>0</td><td>1</td><td>0</td><td>0.8951049</td><td>1</td><td>1</td></tr>\n",
       "\t<tr><th scope=row>4</th><td>1</td><td> 66</td><td>1</td><td>1120</td><td>0</td><td>36</td><td>0</td><td>1</td><td>1</td><td>0</td><td>⋯</td><td>1</td><td>0</td><td>1</td><td>0</td><td>0</td><td>0</td><td>0</td><td>0.6000000</td><td>0</td><td>1</td></tr>\n",
       "\t<tr><th scope=row>5</th><td>1</td><td>120</td><td>1</td><td>1120</td><td>0</td><td>59</td><td>8</td><td>1</td><td>1</td><td>0</td><td>⋯</td><td>1</td><td>0</td><td>1</td><td>0</td><td>0</td><td>1</td><td>0</td><td>0.8955224</td><td>0</td><td>1</td></tr>\n",
       "\t<tr><th scope=row>6</th><td>1</td><td>111</td><td>1</td><td>1120</td><td>0</td><td>63</td><td>9</td><td>1</td><td>0</td><td>0</td><td>⋯</td><td>1</td><td>0</td><td>1</td><td>0</td><td>0</td><td>0</td><td>0</td><td>0.8043478</td><td>0</td><td>1</td></tr>\n",
       "</tbody>\n",
       "</table>\n"
      ],
      "text/latex": [
       "A data.frame: 6 × 59\n",
       "\\begin{tabular}{r|lllllllllllllllllllll}\n",
       "  & occ & loanamt & action & msa & suffolk & appinc & typur & unit & married & dep & ⋯ & approve & mortno & mortperf & mortlat1 & mortlat2 & chist & multi & loanprc & thick & white\\\\\n",
       "  & <int> & <int> & <int> & <int> & <int> & <int> & <int> & <int> & <int> & <int> & ⋯ & <int> & <int> & <int> & <int> & <int> & <int> & <int> & <dbl> & <int> & <int>\\\\\n",
       "\\hline\n",
       "\t1 & 1 &  89 & 1 & 1120 & 0 & 72 & 0 & 1 & 0 & 0 & ⋯ & 1 & 0 & 1 & 0 & 0 & 1 & 0 & 0.7542373 & 0 & 1\\\\\n",
       "\t2 & 1 & 128 & 3 & 1120 & 0 & 74 & 0 & 1 & 1 & 1 & ⋯ & 0 & 0 & 1 & 0 & 0 & 1 & 0 & 0.8000000 & 1 & 1\\\\\n",
       "\t3 & 1 & 128 & 1 & 1120 & 0 & 84 & 3 & 1 & 0 & 0 & ⋯ & 1 & 0 & 1 & 0 & 0 & 1 & 0 & 0.8951049 & 1 & 1\\\\\n",
       "\t4 & 1 &  66 & 1 & 1120 & 0 & 36 & 0 & 1 & 1 & 0 & ⋯ & 1 & 0 & 1 & 0 & 0 & 0 & 0 & 0.6000000 & 0 & 1\\\\\n",
       "\t5 & 1 & 120 & 1 & 1120 & 0 & 59 & 8 & 1 & 1 & 0 & ⋯ & 1 & 0 & 1 & 0 & 0 & 1 & 0 & 0.8955224 & 0 & 1\\\\\n",
       "\t6 & 1 & 111 & 1 & 1120 & 0 & 63 & 9 & 1 & 0 & 0 & ⋯ & 1 & 0 & 1 & 0 & 0 & 0 & 0 & 0.8043478 & 0 & 1\\\\\n",
       "\\end{tabular}\n"
      ],
      "text/markdown": [
       "\n",
       "A data.frame: 6 × 59\n",
       "\n",
       "| <!--/--> | occ &lt;int&gt; | loanamt &lt;int&gt; | action &lt;int&gt; | msa &lt;int&gt; | suffolk &lt;int&gt; | appinc &lt;int&gt; | typur &lt;int&gt; | unit &lt;int&gt; | married &lt;int&gt; | dep &lt;int&gt; | ⋯ ⋯ | approve &lt;int&gt; | mortno &lt;int&gt; | mortperf &lt;int&gt; | mortlat1 &lt;int&gt; | mortlat2 &lt;int&gt; | chist &lt;int&gt; | multi &lt;int&gt; | loanprc &lt;dbl&gt; | thick &lt;int&gt; | white &lt;int&gt; |\n",
       "|---|---|---|---|---|---|---|---|---|---|---|---|---|---|---|---|---|---|---|---|---|---|\n",
       "| 1 | 1 |  89 | 1 | 1120 | 0 | 72 | 0 | 1 | 0 | 0 | ⋯ | 1 | 0 | 1 | 0 | 0 | 1 | 0 | 0.7542373 | 0 | 1 |\n",
       "| 2 | 1 | 128 | 3 | 1120 | 0 | 74 | 0 | 1 | 1 | 1 | ⋯ | 0 | 0 | 1 | 0 | 0 | 1 | 0 | 0.8000000 | 1 | 1 |\n",
       "| 3 | 1 | 128 | 1 | 1120 | 0 | 84 | 3 | 1 | 0 | 0 | ⋯ | 1 | 0 | 1 | 0 | 0 | 1 | 0 | 0.8951049 | 1 | 1 |\n",
       "| 4 | 1 |  66 | 1 | 1120 | 0 | 36 | 0 | 1 | 1 | 0 | ⋯ | 1 | 0 | 1 | 0 | 0 | 0 | 0 | 0.6000000 | 0 | 1 |\n",
       "| 5 | 1 | 120 | 1 | 1120 | 0 | 59 | 8 | 1 | 1 | 0 | ⋯ | 1 | 0 | 1 | 0 | 0 | 1 | 0 | 0.8955224 | 0 | 1 |\n",
       "| 6 | 1 | 111 | 1 | 1120 | 0 | 63 | 9 | 1 | 0 | 0 | ⋯ | 1 | 0 | 1 | 0 | 0 | 0 | 0 | 0.8043478 | 0 | 1 |\n",
       "\n"
      ],
      "text/plain": [
       "  occ loanamt action msa  suffolk appinc typur unit married dep ⋯ approve\n",
       "1 1    89     1      1120 0       72     0     1    0       0   ⋯ 1      \n",
       "2 1   128     3      1120 0       74     0     1    1       1   ⋯ 0      \n",
       "3 1   128     1      1120 0       84     3     1    0       0   ⋯ 1      \n",
       "4 1    66     1      1120 0       36     0     1    1       0   ⋯ 1      \n",
       "5 1   120     1      1120 0       59     8     1    1       0   ⋯ 1      \n",
       "6 1   111     1      1120 0       63     9     1    0       0   ⋯ 1      \n",
       "  mortno mortperf mortlat1 mortlat2 chist multi loanprc   thick white\n",
       "1 0      1        0        0        1     0     0.7542373 0     1    \n",
       "2 0      1        0        0        1     0     0.8000000 1     1    \n",
       "3 0      1        0        0        1     0     0.8951049 1     1    \n",
       "4 0      1        0        0        0     0     0.6000000 0     1    \n",
       "5 0      1        0        0        1     0     0.8955224 0     1    \n",
       "6 0      1        0        0        0     0     0.8043478 0     1    "
      ]
     },
     "metadata": {},
     "output_type": "display_data"
    }
   ],
   "source": [
    "loanapp <- read.dta(\"/Users/ama/OneDrive - usp.br/S3/Natalia/Lista 2/loanapp.dta\")\n",
    "\n",
    "head(loanapp)"
   ]
  },
  {
   "cell_type": "markdown",
   "id": "53315726",
   "metadata": {},
   "source": [
    "### \n",
    "\n",
    "The estimated probability of loan approval for whites is the proporiton of loans approved for whites, which is 0.908; for nonwhites it is 0.708. "
   ]
  },
  {
   "cell_type": "code",
   "execution_count": 29,
   "id": "ff1f5f52",
   "metadata": {},
   "outputs": [
    {
     "data": {
      "text/html": [
       "0.908387864366449"
      ],
      "text/latex": [
       "0.908387864366449"
      ],
      "text/markdown": [
       "0.908387864366449"
      ],
      "text/plain": [
       "[1] 0.9083879"
      ]
     },
     "metadata": {},
     "output_type": "display_data"
    }
   ],
   "source": [
    " # number of loan approvals for whites \n",
    "1527 / 1681 # number of applications by whites"
   ]
  },
  {
   "cell_type": "code",
   "execution_count": 30,
   "id": "8e5d5a4b",
   "metadata": {},
   "outputs": [
    {
     "data": {
      "text/html": [
       "0.707792207792208"
      ],
      "text/latex": [
       "0.707792207792208"
      ],
      "text/markdown": [
       "0.707792207792208"
      ],
      "text/plain": [
       "[1] 0.7077922"
      ]
     },
     "metadata": {},
     "output_type": "display_data"
    }
   ],
   "source": [
    "# number of loan approvals for nonwhites \n",
    "218 / 308 # number of applications by nonwhites"
   ]
  },
  {
   "cell_type": "code",
   "execution_count": 31,
   "id": "7626e608",
   "metadata": {},
   "outputs": [
    {
     "data": {
      "text/plain": [
       "\n",
       "z test of coefficients:\n",
       "\n",
       "            Estimate Std. Error z value  Pr(>|z|)    \n",
       "(Intercept) 0.546946   0.075435  7.2506  4.15e-13 ***\n",
       "white       0.783946   0.086711  9.0409 < 2.2e-16 ***\n",
       "---\n",
       "Signif. codes:  0 ‘***’ 0.001 ‘**’ 0.01 ‘*’ 0.05 ‘.’ 0.1 ‘ ’ 1\n"
      ]
     },
     "metadata": {},
     "output_type": "display_data"
    }
   ],
   "source": [
    "# estimate a probit model of approve on white \n",
    "loanapp_probit <- glm(approve ~ white, \n",
    "                     family = binomial(link = \"probit\"),\n",
    "                     data = loanapp)\n",
    "\n",
    "coeftest(loanapp_probit)"
   ]
  },
  {
   "cell_type": "markdown",
   "id": "893618fa",
   "metadata": {},
   "source": [
    "### \n",
    "\n",
    "With the new variables, loan approval for whites is 0.520, with a highly significant p-value, meaning there is evidence of discrimination against nonwhites. "
   ]
  },
  {
   "cell_type": "code",
   "execution_count": 32,
   "id": "ed23ecd3",
   "metadata": {},
   "outputs": [
    {
     "data": {
      "text/plain": [
       "\n",
       "z test of coefficients:\n",
       "\n",
       "              Estimate Std. Error z value  Pr(>|z|)    \n",
       "(Intercept)  2.0623295  0.3163084  6.5200 7.031e-11 ***\n",
       "white        0.5202538  0.0968656  5.3709 7.835e-08 ***\n",
       "hrat         0.0078763  0.0070259  1.1210  0.262271    \n",
       "obrat       -0.0276926  0.0061474 -4.5048 6.644e-06 ***\n",
       "loanprc     -1.0119556  0.2402648 -4.2118 2.533e-05 ***\n",
       "unem        -0.0366854  0.0176800 -2.0750  0.037990 *  \n",
       "male        -0.0370005  0.1098826 -0.3367  0.736322    \n",
       "married      0.2657452  0.0947243  2.8055  0.005024 ** \n",
       "dep         -0.0495750  0.0390649 -1.2690  0.204427    \n",
       "sch          0.0146483  0.0954148  0.1535  0.877987    \n",
       "cosign       0.0860643  0.2408862  0.3573  0.720881    \n",
       "chist        0.5852778  0.0956020  6.1220 9.240e-10 ***\n",
       "pubrec      -0.7787419  0.1269841 -6.1326 8.646e-10 ***\n",
       "mortlat1    -0.1876279  0.2571642 -0.7296  0.465633    \n",
       "mortlat2    -0.4943544  0.3258825 -1.5170  0.129274    \n",
       "vr          -0.2010617  0.0814776 -2.4677  0.013599 *  \n",
       "---\n",
       "Signif. codes:  0 ‘***’ 0.001 ‘**’ 0.01 ‘*’ 0.05 ‘.’ 0.1 ‘ ’ 1\n"
      ]
     },
     "metadata": {},
     "output_type": "display_data"
    }
   ],
   "source": [
    "# adding new variables to the model\n",
    "loanapp_probit2 <- glm(approve ~ white + hrat + obrat + loanprc + unem + male + married + dep + sch + cosign + chist + pubrec + mortlat1 + mortlat2 + vr, \n",
    "                     family = binomial(link = \"probit\"),\n",
    "                     data = loanapp)\n",
    "\n",
    "coeftest(loanapp_probit2)"
   ]
  },
  {
   "cell_type": "markdown",
   "id": "a190b370",
   "metadata": {},
   "source": [
    "### \n",
    "\n",
    "In the logit model, the coefficient for loan approval for whites is now 0.938 and remains highly significant. "
   ]
  },
  {
   "cell_type": "code",
   "execution_count": 33,
   "id": "0746dea8",
   "metadata": {},
   "outputs": [
    {
     "data": {
      "text/plain": [
       "\n",
       "z test of coefficients:\n",
       "\n",
       "             Estimate Std. Error z value  Pr(>|z|)    \n",
       "(Intercept)  3.801710   0.594675  6.3929 1.627e-10 ***\n",
       "white        0.937764   0.172901  5.4237 5.838e-08 ***\n",
       "hrat         0.013263   0.012880  1.0298  0.303125    \n",
       "obrat       -0.053034   0.011280 -4.7016 2.581e-06 ***\n",
       "loanprc     -1.904951   0.460407 -4.1375 3.511e-05 ***\n",
       "unem        -0.066579   0.032808 -2.0294  0.042421 *  \n",
       "male        -0.066385   0.206423 -0.3216  0.747758    \n",
       "married      0.503282   0.177993  2.8275  0.004691 ** \n",
       "dep         -0.090734   0.073332 -1.2373  0.215977    \n",
       "sch          0.041229   0.178399  0.2311  0.817234    \n",
       "cosign       0.132059   0.446080  0.2960  0.767197    \n",
       "chist        1.066577   0.171208  6.2297 4.673e-10 ***\n",
       "pubrec      -1.340665   0.217362 -6.1679 6.921e-10 ***\n",
       "mortlat1    -0.309882   0.463510 -0.6686  0.503780    \n",
       "mortlat2    -0.894675   0.568570 -1.5736  0.115591    \n",
       "vr          -0.349828   0.153721 -2.2757  0.022862 *  \n",
       "---\n",
       "Signif. codes:  0 ‘***’ 0.001 ‘**’ 0.01 ‘*’ 0.05 ‘.’ 0.1 ‘ ’ 1\n"
      ]
     },
     "metadata": {},
     "output_type": "display_data"
    }
   ],
   "source": [
    "# use logit instead of probit \n",
    "loanapp_logit <- glm(approve ~ white + hrat + obrat + loanprc + unem + male + married + dep + sch + cosign + chist + pubrec + mortlat1 + mortlat2 + vr, \n",
    "                     family = binomial(link = \"logit\"),\n",
    "                     data = loanapp)\n",
    "\n",
    "coeftest(loanapp_logit)"
   ]
  },
  {
   "cell_type": "markdown",
   "id": "5da74595",
   "metadata": {},
   "source": [
    "### \n",
    "\n",
    "To make probit and logit coefficients comprable, we can multiply the logit coefficient by 0.625, making the scaled coefficient of this model 0.586. This is similar to the 0.520 of the probit model. "
   ]
  },
  {
   "cell_type": "code",
   "execution_count": 34,
   "id": "5a0539e8",
   "metadata": {},
   "outputs": [
    {
     "data": {
      "text/html": [
       "0.5861025"
      ],
      "text/latex": [
       "0.5861025"
      ],
      "text/markdown": [
       "0.5861025"
      ],
      "text/plain": [
       "[1] 0.5861025"
      ]
     },
     "metadata": {},
     "output_type": "display_data"
    }
   ],
   "source": [
    "# white approval coefficient of the logit model scaled for comaprison with the probit model\n",
    "0.937764 * 0.625"
   ]
  }
 ],
 "metadata": {
  "kernelspec": {
   "display_name": "R",
   "language": "R",
   "name": "ir"
  },
  "language_info": {
   "codemirror_mode": "r",
   "file_extension": ".r",
   "mimetype": "text/x-r-source",
   "name": "R",
   "pygments_lexer": "r",
   "version": "3.6.3"
  },
  "toc": {
   "base_numbering": 1,
   "nav_menu": {},
   "number_sections": true,
   "sideBar": true,
   "skip_h1_title": false,
   "title_cell": "Table of Contents",
   "title_sidebar": "Contents",
   "toc_cell": false,
   "toc_position": {
    "height": "640px",
    "left": "744px",
    "top": "97px",
    "width": "226.59375px"
   },
   "toc_section_display": true,
   "toc_window_display": false
  },
  "varInspector": {
   "cols": {
    "lenName": 16,
    "lenType": 16,
    "lenVar": 40
   },
   "kernels_config": {
    "python": {
     "delete_cmd_postfix": "",
     "delete_cmd_prefix": "del ",
     "library": "var_list.py",
     "varRefreshCmd": "print(var_dic_list())"
    },
    "r": {
     "delete_cmd_postfix": ") ",
     "delete_cmd_prefix": "rm(",
     "library": "var_list.r",
     "varRefreshCmd": "cat(var_dic_list()) "
    }
   },
   "types_to_exclude": [
    "module",
    "function",
    "builtin_function_or_method",
    "instance",
    "_Feature"
   ],
   "window_display": false
  }
 },
 "nbformat": 4,
 "nbformat_minor": 5
}
