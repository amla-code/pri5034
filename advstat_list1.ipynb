{
 "cells": [
  {
   "cell_type": "code",
   "execution_count": 5,
   "id": "e69d1966",
   "metadata": {},
   "outputs": [
    {
     "name": "stderr",
     "output_type": "stream",
     "text": [
      "── \u001b[1mAttaching packages\u001b[22m ─────────────────────────────────────── tidyverse 1.3.0 ──\n",
      "\n",
      "\u001b[32m✔\u001b[39m \u001b[34mggplot2\u001b[39m 3.3.3     \u001b[32m✔\u001b[39m \u001b[34mpurrr  \u001b[39m 0.3.4\n",
      "\u001b[32m✔\u001b[39m \u001b[34mtibble \u001b[39m 3.1.0     \u001b[32m✔\u001b[39m \u001b[34mdplyr  \u001b[39m 1.0.5\n",
      "\u001b[32m✔\u001b[39m \u001b[34mtidyr  \u001b[39m 1.1.3     \u001b[32m✔\u001b[39m \u001b[34mstringr\u001b[39m 1.4.0\n",
      "\u001b[32m✔\u001b[39m \u001b[34mreadr  \u001b[39m 1.4.0     \u001b[32m✔\u001b[39m \u001b[34mforcats\u001b[39m 0.5.1\n",
      "\n",
      "── \u001b[1mConflicts\u001b[22m ────────────────────────────────────────── tidyverse_conflicts() ──\n",
      "\u001b[31m✖\u001b[39m \u001b[34mdplyr\u001b[39m::\u001b[32mfilter()\u001b[39m  masks \u001b[34mstats\u001b[39m::filter()\n",
      "\u001b[31m✖\u001b[39m \u001b[34mpurrr\u001b[39m::\u001b[32mflatten()\u001b[39m masks \u001b[34mjsonlite\u001b[39m::flatten()\n",
      "\u001b[31m✖\u001b[39m \u001b[34mdplyr\u001b[39m::\u001b[32mlag()\u001b[39m     masks \u001b[34mstats\u001b[39m::lag()\n",
      "\n",
      "Loading required package: carData\n",
      "\n",
      "\n",
      "Attaching package: ‘car’\n",
      "\n",
      "\n",
      "The following object is masked from ‘package:dplyr’:\n",
      "\n",
      "    recode\n",
      "\n",
      "\n",
      "The following object is masked from ‘package:purrr’:\n",
      "\n",
      "    some\n",
      "\n",
      "\n",
      "Loading required package: zoo\n",
      "\n",
      "\n",
      "Attaching package: ‘zoo’\n",
      "\n",
      "\n",
      "The following objects are masked from ‘package:base’:\n",
      "\n",
      "    as.Date, as.Date.numeric\n",
      "\n",
      "\n"
     ]
    }
   ],
   "source": [
    "library(tidyverse)\n",
    "library(foreign) # stata data \n",
    "library(car) # companion to regressions\n",
    "library(lmtest) # white test"
   ]
  },
  {
   "cell_type": "markdown",
   "id": "8d36e079",
   "metadata": {},
   "source": [
    "## Let `noPC` be a dummy variable equal to 1 if the student does not own a computer, and zero otherwise. "
   ]
  },
  {
   "cell_type": "code",
   "execution_count": 6,
   "id": "0333e15b",
   "metadata": {
    "scrolled": false
   },
   "outputs": [
    {
     "name": "stderr",
     "output_type": "stream",
     "text": [
      "Warning message in read.dta(\"/Users/ama/OneDrive - usp.br/S3/Natalia/Topico 5/GPA1.DTA\"):\n",
      "“cannot read factor labels from Stata 5 files”\n"
     ]
    }
   ],
   "source": [
    "# import the dataset from stata (.dta) using the foreign package\n",
    "gpa1 <- read.dta(\"/Users/ama/OneDrive - usp.br/S3/Natalia/Topico 5/GPA1.DTA\")"
   ]
  },
  {
   "cell_type": "code",
   "execution_count": 7,
   "id": "8dbcdb7f",
   "metadata": {
    "scrolled": false
   },
   "outputs": [
    {
     "data": {
      "text/plain": [
       "\n",
       "Call:\n",
       "lm(formula = colGPA ~ PC + hsGPA + ACT, data = gpa1)\n",
       "\n",
       "Residuals:\n",
       "    Min      1Q  Median      3Q     Max \n",
       "-0.7901 -0.2622 -0.0107  0.2334  0.7570 \n",
       "\n",
       "Coefficients:\n",
       "            Estimate Std. Error t value Pr(>|t|)    \n",
       "(Intercept) 1.263520   0.333125   3.793 0.000223 ***\n",
       "PC          0.157309   0.057287   2.746 0.006844 ** \n",
       "hsGPA       0.447242   0.093647   4.776 4.54e-06 ***\n",
       "ACT         0.008659   0.010534   0.822 0.412513    \n",
       "---\n",
       "Signif. codes:  0 ‘***’ 0.001 ‘**’ 0.01 ‘*’ 0.05 ‘.’ 0.1 ‘ ’ 1\n",
       "\n",
       "Residual standard error: 0.3325 on 137 degrees of freedom\n",
       "Multiple R-squared:  0.2194,\tAdjusted R-squared:  0.2023 \n",
       "F-statistic: 12.83 on 3 and 137 DF,  p-value: 1.932e-07\n"
      ]
     },
     "metadata": {},
     "output_type": "display_data"
    }
   ],
   "source": [
    "# the original regression\n",
    "gpa1_first_lm <- lm(colGPA ~ PC + hsGPA + ACT, data = gpa1)\n",
    "\n",
    "# results from the regression\n",
    "summary(gpa1_first_lm)"
   ]
  },
  {
   "cell_type": "markdown",
   "id": "e4fbf469",
   "metadata": {},
   "source": [
    "### What happens to the intercept if `noPC` is used instead of `PC`?\n",
    "\n",
    "The new intercept can be calculated with the $\\hat{\\beta}_{0}$ plus the $\\hat{\\delta}_{0}$ of the original regression, so 1.26 + .157 = 1.417, which is what we see when we run the regression. "
   ]
  },
  {
   "cell_type": "code",
   "execution_count": 8,
   "id": "ef2f62ca",
   "metadata": {},
   "outputs": [
    {
     "data": {
      "text/plain": [
       "\n",
       "Call:\n",
       "lm(formula = colGPA ~ I(1 - PC) + hsGPA + ACT, data = gpa1)\n",
       "\n",
       "Residuals:\n",
       "    Min      1Q  Median      3Q     Max \n",
       "-0.7901 -0.2622 -0.0107  0.2334  0.7570 \n",
       "\n",
       "Coefficients:\n",
       "             Estimate Std. Error t value Pr(>|t|)    \n",
       "(Intercept)  1.420829   0.336605   4.221 4.40e-05 ***\n",
       "I(1 - PC)   -0.157309   0.057287  -2.746  0.00684 ** \n",
       "hsGPA        0.447242   0.093647   4.776 4.54e-06 ***\n",
       "ACT          0.008659   0.010534   0.822  0.41251    \n",
       "---\n",
       "Signif. codes:  0 ‘***’ 0.001 ‘**’ 0.01 ‘*’ 0.05 ‘.’ 0.1 ‘ ’ 1\n",
       "\n",
       "Residual standard error: 0.3325 on 137 degrees of freedom\n",
       "Multiple R-squared:  0.2194,\tAdjusted R-squared:  0.2023 \n",
       "F-statistic: 12.83 on 3 and 137 DF,  p-value: 1.932e-07\n"
      ]
     },
     "metadata": {},
     "output_type": "display_data"
    }
   ],
   "source": [
    "# same regression, but with the inverse of the dummy PC\n",
    "gpa1_sec_lm <- lm(colGPA ~ I(1 - PC) + hsGPA + ACT, data = gpa1)\n",
    "\n",
    "summary(gpa1_sec_lm)"
   ]
  },
  {
   "cell_type": "markdown",
   "id": "26db4df3",
   "metadata": {},
   "source": [
    "### What happens to the R^2 if `noPC` is used instead of `PC`?\n",
    "\n",
    "Nothing happens to the R-squared because using `noPC` is just a different way of representing the same information about computer ownership. "
   ]
  },
  {
   "cell_type": "markdown",
   "id": "73cdccb2",
   "metadata": {},
   "source": [
    "### Should `PC` and `noPC` both be included as independent variables in the model?\n",
    "\n",
    "Both dummy variables should not be included in the regression becaue the information is redundant and the two variables will be perfectly correlated, which would invalidate the model."
   ]
  },
  {
   "cell_type": "markdown",
   "id": "b49e0be5",
   "metadata": {},
   "source": [
    "## Use the data in GPA1.RAW for this exercise."
   ]
  },
  {
   "cell_type": "markdown",
   "id": "fad4b053",
   "metadata": {},
   "source": [
    "### What happens to the estimated effect of PC ownership with added `mothcoll` and `fathcoll` ? Is PC still statistically significant?\n",
    "\n",
    "The eeffect of `PC` changes only slightly, and remains statistically significant. "
   ]
  },
  {
   "cell_type": "code",
   "execution_count": 9,
   "id": "3c099b0b",
   "metadata": {},
   "outputs": [
    {
     "data": {
      "text/plain": [
       "\n",
       "Call:\n",
       "lm(formula = colGPA ~ PC + hsGPA + ACT + mothcoll + fathcoll, \n",
       "    data = gpa1)\n",
       "\n",
       "Residuals:\n",
       "     Min       1Q   Median       3Q      Max \n",
       "-0.78149 -0.25726 -0.02121  0.24691  0.74432 \n",
       "\n",
       "Coefficients:\n",
       "             Estimate Std. Error t value Pr(>|t|)    \n",
       "(Intercept)  1.255554   0.335392   3.744 0.000268 ***\n",
       "PC           0.151854   0.058716   2.586 0.010762 *  \n",
       "hsGPA        0.450220   0.094280   4.775 4.61e-06 ***\n",
       "ACT          0.007724   0.010678   0.723 0.470688    \n",
       "mothcoll    -0.003758   0.060270  -0.062 0.950376    \n",
       "fathcoll     0.041800   0.061270   0.682 0.496265    \n",
       "---\n",
       "Signif. codes:  0 ‘***’ 0.001 ‘**’ 0.01 ‘*’ 0.05 ‘.’ 0.1 ‘ ’ 1\n",
       "\n",
       "Residual standard error: 0.3344 on 135 degrees of freedom\n",
       "Multiple R-squared:  0.2222,\tAdjusted R-squared:  0.1934 \n",
       "F-statistic: 7.713 on 5 and 135 DF,  p-value: 2.083e-06\n"
      ]
     },
     "metadata": {},
     "output_type": "display_data"
    }
   ],
   "source": [
    "gpa1_third_lm <- lm(colGPA ~ PC + hsGPA + ACT + mothcoll + fathcoll, data = gpa1)\n",
    "\n",
    "summary(gpa1_third_lm)"
   ]
  },
  {
   "cell_type": "markdown",
   "id": "5baffa82",
   "metadata": {},
   "source": [
    "### Joint significance of `mothcoll` and `fathcoll`.\n",
    "\n",
    "The F test for the joint significance of `mothcoll` and `fathcoll` is about .24 with a p-value of .78, meaning that they are jointly quite insignificant. This explains why the coefficients of other variables didn't change much when we added these two variables to the regression. "
   ]
  },
  {
   "cell_type": "code",
   "execution_count": 10,
   "id": "cd4e6465",
   "metadata": {
    "scrolled": true
   },
   "outputs": [
    {
     "data": {
      "text/plain": [
       "\n",
       "Call:\n",
       "lm(formula = colGPA ~ PC + hsGPA + ACT, data = gpa1)\n",
       "\n",
       "Residuals:\n",
       "    Min      1Q  Median      3Q     Max \n",
       "-0.7901 -0.2622 -0.0107  0.2334  0.7570 \n",
       "\n",
       "Coefficients:\n",
       "            Estimate Std. Error t value Pr(>|t|)    \n",
       "(Intercept) 1.263520   0.333125   3.793 0.000223 ***\n",
       "PC          0.157309   0.057287   2.746 0.006844 ** \n",
       "hsGPA       0.447242   0.093647   4.776 4.54e-06 ***\n",
       "ACT         0.008659   0.010534   0.822 0.412513    \n",
       "---\n",
       "Signif. codes:  0 ‘***’ 0.001 ‘**’ 0.01 ‘*’ 0.05 ‘.’ 0.1 ‘ ’ 1\n",
       "\n",
       "Residual standard error: 0.3325 on 137 degrees of freedom\n",
       "Multiple R-squared:  0.2194,\tAdjusted R-squared:  0.2023 \n",
       "F-statistic: 12.83 on 3 and 137 DF,  p-value: 1.932e-07\n"
      ]
     },
     "metadata": {},
     "output_type": "display_data"
    }
   ],
   "source": [
    "# impose the restrictions of the null by setting the variables to zero \n",
    "\n",
    "# gpa1_first_lm is the same as the restricted model\n",
    "summary(gpa1_first_lm) "
   ]
  },
  {
   "cell_type": "code",
   "execution_count": 11,
   "id": "d196e7fb",
   "metadata": {},
   "outputs": [
    {
     "data": {
      "text/html": [
       "0.244793005914116"
      ],
      "text/latex": [
       "0.244793005914116"
      ],
      "text/markdown": [
       "0.244793005914116"
      ],
      "text/plain": [
       "[1] 0.244793"
      ]
     },
     "metadata": {},
     "output_type": "display_data"
    }
   ],
   "source": [
    " # calculate the F statistic by hand\n",
    "((0.2222 - 0.2194) / (137 - 135)) / ((1 - 0.2222) / (141 - 4 - 1))"
   ]
  },
  {
   "cell_type": "code",
   "execution_count": 12,
   "id": "b77be163",
   "metadata": {
    "scrolled": false
   },
   "outputs": [
    {
     "data": {
      "text/html": [
       "<table class=\"dataframe\">\n",
       "<caption>A anova: 2 × 6</caption>\n",
       "<thead>\n",
       "\t<tr><th></th><th scope=col>Res.Df</th><th scope=col>RSS</th><th scope=col>Df</th><th scope=col>Sum of Sq</th><th scope=col>F</th><th scope=col>Pr(&gt;F)</th></tr>\n",
       "\t<tr><th></th><th scope=col>&lt;dbl&gt;</th><th scope=col>&lt;dbl&gt;</th><th scope=col>&lt;dbl&gt;</th><th scope=col>&lt;dbl&gt;</th><th scope=col>&lt;dbl&gt;</th><th scope=col>&lt;dbl&gt;</th></tr>\n",
       "</thead>\n",
       "<tbody>\n",
       "\t<tr><th scope=row>1</th><td>137</td><td>15.14868</td><td>NA</td><td>        NA</td><td>       NA</td><td>       NA</td></tr>\n",
       "\t<tr><th scope=row>2</th><td>135</td><td>15.09400</td><td> 2</td><td>0.05468536</td><td>0.2445517</td><td>0.7834017</td></tr>\n",
       "</tbody>\n",
       "</table>\n"
      ],
      "text/latex": [
       "A anova: 2 × 6\n",
       "\\begin{tabular}{r|llllll}\n",
       "  & Res.Df & RSS & Df & Sum of Sq & F & Pr(>F)\\\\\n",
       "  & <dbl> & <dbl> & <dbl> & <dbl> & <dbl> & <dbl>\\\\\n",
       "\\hline\n",
       "\t1 & 137 & 15.14868 & NA &         NA &        NA &        NA\\\\\n",
       "\t2 & 135 & 15.09400 &  2 & 0.05468536 & 0.2445517 & 0.7834017\\\\\n",
       "\\end{tabular}\n"
      ],
      "text/markdown": [
       "\n",
       "A anova: 2 × 6\n",
       "\n",
       "| <!--/--> | Res.Df &lt;dbl&gt; | RSS &lt;dbl&gt; | Df &lt;dbl&gt; | Sum of Sq &lt;dbl&gt; | F &lt;dbl&gt; | Pr(&gt;F) &lt;dbl&gt; |\n",
       "|---|---|---|---|---|---|---|\n",
       "| 1 | 137 | 15.14868 | NA |         NA |        NA |        NA |\n",
       "| 2 | 135 | 15.09400 |  2 | 0.05468536 | 0.2445517 | 0.7834017 |\n",
       "\n"
      ],
      "text/plain": [
       "  Res.Df RSS      Df Sum of Sq  F         Pr(>F)   \n",
       "1 137    15.14868 NA         NA        NA        NA\n",
       "2 135    15.09400  2 0.05468536 0.2445517 0.7834017"
      ]
     },
     "metadata": {},
     "output_type": "display_data"
    }
   ],
   "source": [
    "# calculate the F statistic with the car package\n",
    "\n",
    "# define the null hypothesis\n",
    "null_hyp <- c(\"mothcoll\", \"fathcoll\")  \n",
    "\n",
    "linearHypothesis(gpa1_third_lm, null_hyp)"
   ]
  },
  {
   "cell_type": "markdown",
   "id": "1deed35d",
   "metadata": {},
   "source": [
    "### Add `hsGPA^2` and decide whether this generalization is needed.\n",
    "\n",
    "`hsGPA^2` has a coefficient of about .337 and a p-value of .12, "
   ]
  },
  {
   "cell_type": "code",
   "execution_count": 13,
   "id": "9220e72e",
   "metadata": {},
   "outputs": [
    {
     "data": {
      "text/plain": [
       "\n",
       "Call:\n",
       "lm(formula = colGPA ~ PC + hsGPA + I(hsGPA^2) + ACT + mothcoll + \n",
       "    fathcoll, data = gpa1)\n",
       "\n",
       "Residuals:\n",
       "     Min       1Q   Median       3Q      Max \n",
       "-0.78998 -0.24327 -0.00648  0.26179  0.72231 \n",
       "\n",
       "Coefficients:\n",
       "             Estimate Std. Error t value Pr(>|t|)  \n",
       "(Intercept)  5.040328   2.443038   2.063   0.0410 *\n",
       "PC           0.140446   0.058858   2.386   0.0184 *\n",
       "hsGPA       -1.802520   1.443552  -1.249   0.2140  \n",
       "I(hsGPA^2)   0.337341   0.215711   1.564   0.1202  \n",
       "ACT          0.004786   0.010786   0.444   0.6580  \n",
       "mothcoll     0.003091   0.060110   0.051   0.9591  \n",
       "fathcoll     0.062761   0.062401   1.006   0.3163  \n",
       "---\n",
       "Signif. codes:  0 ‘***’ 0.001 ‘**’ 0.01 ‘*’ 0.05 ‘.’ 0.1 ‘ ’ 1\n",
       "\n",
       "Residual standard error: 0.3326 on 134 degrees of freedom\n",
       "Multiple R-squared:  0.2361,\tAdjusted R-squared:  0.2019 \n",
       "F-statistic: 6.904 on 6 and 134 DF,  p-value: 2.088e-06\n"
      ]
     },
     "metadata": {},
     "output_type": "display_data"
    }
   ],
   "source": [
    "gpa1_squared_lm <- lm(colGPA ~ PC + hsGPA + I(hsGPA^2) + ACT + mothcoll + fathcoll, data = gpa1)\n",
    "\n",
    "summary(gpa1_squared_lm)"
   ]
  },
  {
   "cell_type": "markdown",
   "id": "b1b54fb9",
   "metadata": {},
   "source": [
    "## Use the data in WAGE2.RAW for this exercise."
   ]
  },
  {
   "cell_type": "code",
   "execution_count": 14,
   "id": "f77e7845",
   "metadata": {},
   "outputs": [
    {
     "name": "stderr",
     "output_type": "stream",
     "text": [
      "Warning message in read.dta(\"/Users/ama/OneDrive - usp.br/S3/Natalia/Topico 5/WAGE2.DTA\"):\n",
      "“cannot read factor labels from Stata 5 files”\n"
     ]
    }
   ],
   "source": [
    "wage <- read.dta(\"/Users/ama/OneDrive - usp.br/S3/Natalia/Topico 5/WAGE2.DTA\")"
   ]
  },
  {
   "cell_type": "markdown",
   "id": "92d1a55d",
   "metadata": {},
   "source": [
    "### Holding other factors fixed, what is the approximate difference in monthly salary between blacks and nonblacks? Is this difference statistically significant?\n",
    "\n",
    "\n",
    "Holding other factors fixed, black people earn about 18.8% less than nonblack people. Considering the low p-value of this coefficient, the result is very statistically significant. "
   ]
  },
  {
   "cell_type": "code",
   "execution_count": 15,
   "id": "38e23f02",
   "metadata": {},
   "outputs": [
    {
     "data": {
      "text/plain": [
       "\n",
       "Call:\n",
       "lm(formula = log(wage) ~ educ + exper + tenure + married + black + \n",
       "    south + urban, data = wage)\n",
       "\n",
       "Residuals:\n",
       "     Min       1Q   Median       3Q      Max \n",
       "-1.98069 -0.21996  0.00707  0.24288  1.22822 \n",
       "\n",
       "Coefficients:\n",
       "             Estimate Std. Error t value Pr(>|t|)    \n",
       "(Intercept)  5.395497   0.113225  47.653  < 2e-16 ***\n",
       "educ         0.065431   0.006250  10.468  < 2e-16 ***\n",
       "exper        0.014043   0.003185   4.409 1.16e-05 ***\n",
       "tenure       0.011747   0.002453   4.789 1.95e-06 ***\n",
       "married      0.199417   0.039050   5.107 3.98e-07 ***\n",
       "black       -0.188350   0.037667  -5.000 6.84e-07 ***\n",
       "south       -0.090904   0.026249  -3.463 0.000558 ***\n",
       "urban        0.183912   0.026958   6.822 1.62e-11 ***\n",
       "---\n",
       "Signif. codes:  0 ‘***’ 0.001 ‘**’ 0.01 ‘*’ 0.05 ‘.’ 0.1 ‘ ’ 1\n",
       "\n",
       "Residual standard error: 0.3655 on 927 degrees of freedom\n",
       "Multiple R-squared:  0.2526,\tAdjusted R-squared:  0.2469 \n",
       "F-statistic: 44.75 on 7 and 927 DF,  p-value: < 2.2e-16\n"
      ]
     },
     "metadata": {},
     "output_type": "display_data"
    }
   ],
   "source": [
    "wage_first_lm <- lm(log(wage) ~ educ + exper + tenure + married + black + south + urban, data = wage)\n",
    "\n",
    "summary(wage_first_lm)"
   ]
  },
  {
   "cell_type": "markdown",
   "id": "28a4a02f",
   "metadata": {},
   "source": [
    "### Add the variables `exper^2` and `tenure^2` to the equation and show that they are jointly insignificant at even the 20% level.\n",
    "\n",
    "The F statistic for the joint significance of `exper^2` and `tenure^2` is around 1.49 with a p-value of .226. "
   ]
  },
  {
   "cell_type": "code",
   "execution_count": 16,
   "id": "5c8994a4",
   "metadata": {},
   "outputs": [
    {
     "data": {
      "text/plain": [
       "\n",
       "Call:\n",
       "lm(formula = log(wage) ~ educ + exper + I(exper^2) + tenure + \n",
       "    I(tenure^2) + married + black + south + urban, data = wage)\n",
       "\n",
       "Residuals:\n",
       "     Min       1Q   Median       3Q      Max \n",
       "-1.98236 -0.21972 -0.00036  0.24078  1.25127 \n",
       "\n",
       "Coefficients:\n",
       "              Estimate Std. Error t value Pr(>|t|)    \n",
       "(Intercept)  5.3586756  0.1259143  42.558  < 2e-16 ***\n",
       "educ         0.0642761  0.0063115  10.184  < 2e-16 ***\n",
       "exper        0.0172146  0.0126138   1.365 0.172665    \n",
       "I(exper^2)  -0.0001138  0.0005319  -0.214 0.830622    \n",
       "tenure       0.0249291  0.0081297   3.066 0.002229 ** \n",
       "I(tenure^2) -0.0007964  0.0004710  -1.691 0.091188 .  \n",
       "married      0.1985470  0.0391103   5.077 4.65e-07 ***\n",
       "black       -0.1906636  0.0377011  -5.057 5.13e-07 ***\n",
       "south       -0.0912153  0.0262356  -3.477 0.000531 ***\n",
       "urban        0.1854241  0.0269585   6.878 1.12e-11 ***\n",
       "---\n",
       "Signif. codes:  0 ‘***’ 0.001 ‘**’ 0.01 ‘*’ 0.05 ‘.’ 0.1 ‘ ’ 1\n",
       "\n",
       "Residual standard error: 0.3653 on 925 degrees of freedom\n",
       "Multiple R-squared:  0.255,\tAdjusted R-squared:  0.2477 \n",
       "F-statistic: 35.17 on 9 and 925 DF,  p-value: < 2.2e-16\n"
      ]
     },
     "metadata": {},
     "output_type": "display_data"
    }
   ],
   "source": [
    "wage_squared_lm <- lm(log(wage) ~ educ + exper + I(exper^2) + tenure + I(tenure^2) + married + black + south + urban, data = wage)\n",
    "\n",
    "summary(wage_squared_lm)"
   ]
  },
  {
   "cell_type": "code",
   "execution_count": 17,
   "id": "6d350bac",
   "metadata": {},
   "outputs": [
    {
     "data": {
      "text/html": [
       "<table class=\"dataframe\">\n",
       "<caption>A anova: 2 × 6</caption>\n",
       "<thead>\n",
       "\t<tr><th></th><th scope=col>Res.Df</th><th scope=col>RSS</th><th scope=col>Df</th><th scope=col>Sum of Sq</th><th scope=col>F</th><th scope=col>Pr(&gt;F)</th></tr>\n",
       "\t<tr><th></th><th scope=col>&lt;dbl&gt;</th><th scope=col>&lt;dbl&gt;</th><th scope=col>&lt;dbl&gt;</th><th scope=col>&lt;dbl&gt;</th><th scope=col>&lt;dbl&gt;</th><th scope=col>&lt;dbl&gt;</th></tr>\n",
       "</thead>\n",
       "<tbody>\n",
       "\t<tr><th scope=row>1</th><td>927</td><td>123.8185</td><td>NA</td><td>       NA</td><td>      NA</td><td>       NA</td></tr>\n",
       "\t<tr><th scope=row>2</th><td>925</td><td>123.4210</td><td> 2</td><td>0.3975639</td><td>1.489806</td><td>0.2259568</td></tr>\n",
       "</tbody>\n",
       "</table>\n"
      ],
      "text/latex": [
       "A anova: 2 × 6\n",
       "\\begin{tabular}{r|llllll}\n",
       "  & Res.Df & RSS & Df & Sum of Sq & F & Pr(>F)\\\\\n",
       "  & <dbl> & <dbl> & <dbl> & <dbl> & <dbl> & <dbl>\\\\\n",
       "\\hline\n",
       "\t1 & 927 & 123.8185 & NA &        NA &       NA &        NA\\\\\n",
       "\t2 & 925 & 123.4210 &  2 & 0.3975639 & 1.489806 & 0.2259568\\\\\n",
       "\\end{tabular}\n"
      ],
      "text/markdown": [
       "\n",
       "A anova: 2 × 6\n",
       "\n",
       "| <!--/--> | Res.Df &lt;dbl&gt; | RSS &lt;dbl&gt; | Df &lt;dbl&gt; | Sum of Sq &lt;dbl&gt; | F &lt;dbl&gt; | Pr(&gt;F) &lt;dbl&gt; |\n",
       "|---|---|---|---|---|---|---|\n",
       "| 1 | 927 | 123.8185 | NA |        NA |       NA |        NA |\n",
       "| 2 | 925 | 123.4210 |  2 | 0.3975639 | 1.489806 | 0.2259568 |\n",
       "\n"
      ],
      "text/plain": [
       "  Res.Df RSS      Df Sum of Sq F        Pr(>F)   \n",
       "1 927    123.8185 NA        NA       NA        NA\n",
       "2 925    123.4210  2 0.3975639 1.489806 0.2259568"
      ]
     },
     "metadata": {},
     "output_type": "display_data"
    }
   ],
   "source": [
    "# set the null hypothesis\n",
    "null_hyp2 <- c(\"I(exper^2)\", \"I(tenure^2)\")\n",
    "\n",
    "linearHypothesis(wage_squared_lm, null_hyp2)"
   ]
  },
  {
   "cell_type": "markdown",
   "id": "fb13b4d4",
   "metadata": {},
   "source": [
    "### Extend the original model to allow the return to education to depend on race and test whether the return to education does depend on race.\n",
    "\n",
    "The coefficient of the interaction `black * educ` is -0.022, meaning that the return to education for black people is around 2.3% lower than nonblack people. However, the p-value is about 0.28, which is is not enough to reject the null hypothesis that the return to education is not dependant on race. "
   ]
  },
  {
   "cell_type": "code",
   "execution_count": 18,
   "id": "20a8b2e8",
   "metadata": {},
   "outputs": [
    {
     "data": {
      "text/plain": [
       "\n",
       "Call:\n",
       "lm(formula = log(wage) ~ educ + exper + I(exper^2) + tenure + \n",
       "    I(tenure^2) + married + black + south + urban + black * educ, \n",
       "    data = wage)\n",
       "\n",
       "Residuals:\n",
       "     Min       1Q   Median       3Q      Max \n",
       "-1.97978 -0.21976  0.00099  0.23457  1.25593 \n",
       "\n",
       "Coefficients:\n",
       "              Estimate Std. Error t value Pr(>|t|)    \n",
       "(Intercept)  5.3377228  0.1273864  41.902  < 2e-16 ***\n",
       "educ         0.0658997  0.0064872  10.158  < 2e-16 ***\n",
       "exper        0.0173273  0.0126131   1.374 0.169849    \n",
       "I(exper^2)  -0.0001283  0.0005320  -0.241 0.809527    \n",
       "tenure       0.0247289  0.0081310   3.041 0.002422 ** \n",
       "I(tenure^2) -0.0007816  0.0004712  -1.659 0.097489 .  \n",
       "married      0.1981442  0.0391086   5.067 4.89e-07 ***\n",
       "black        0.0825126  0.2555310   0.323 0.746839    \n",
       "south       -0.0898041  0.0262657  -3.419 0.000656 ***\n",
       "urban        0.1853405  0.0269562   6.876 1.14e-11 ***\n",
       "educ:black  -0.0218196  0.0201868  -1.081 0.280033    \n",
       "---\n",
       "Signif. codes:  0 ‘***’ 0.001 ‘**’ 0.01 ‘*’ 0.05 ‘.’ 0.1 ‘ ’ 1\n",
       "\n",
       "Residual standard error: 0.3652 on 924 degrees of freedom\n",
       "Multiple R-squared:  0.2559,\tAdjusted R-squared:  0.2478 \n",
       "F-statistic: 31.78 on 10 and 924 DF,  p-value: < 2.2e-16\n"
      ]
     },
     "metadata": {},
     "output_type": "display_data"
    }
   ],
   "source": [
    "wage_int_lm <- lm(log(wage) ~ educ + exper + I(exper^2) + tenure + I(tenure^2) + married + black + south + urban + black * educ, data = wage)\n",
    "\n",
    "summary(wage_int_lm)"
   ]
  },
  {
   "cell_type": "markdown",
   "id": "ffe0df7a",
   "metadata": {},
   "source": [
    "### Allow wages to differ across four groups of people: married and black, married and nonblack, single and black, and single and nonblack. What is the estimated wage differential between married blacks and married nonblacks?\n",
    "\n",
    "The estimated wage difference between married black people and married nonblack peole is -0.179467, meaning that a married black person earns about 18% less than a married nonblack person. "
   ]
  },
  {
   "cell_type": "code",
   "execution_count": 19,
   "id": "8cc6fd0d",
   "metadata": {},
   "outputs": [
    {
     "data": {
      "text/html": [
       "-0.179467"
      ],
      "text/latex": [
       "-0.179467"
      ],
      "text/markdown": [
       "-0.179467"
      ],
      "text/plain": [
       "[1] -0.179467"
      ]
     },
     "metadata": {},
     "output_type": "display_data"
    }
   ],
   "source": [
    "0.009448 - 0.188915 # coefficients from the regression below"
   ]
  },
  {
   "cell_type": "code",
   "execution_count": 20,
   "id": "f5a3a937",
   "metadata": {},
   "outputs": [],
   "source": [
    "# where single and nonblack is the base group \n",
    "\n",
    "wage_dummies <- wage %>%\n",
    "mutate(marr_nb = ifelse(married == 1 & black == 0, 1, 0),\n",
    "      sin_b = ifelse(married == 0 & black == 1, 1, 0),\n",
    "      marr_b = ifelse(married == 1 & black == 1, 1, 0))"
   ]
  },
  {
   "cell_type": "code",
   "execution_count": 21,
   "id": "eeef658e",
   "metadata": {},
   "outputs": [
    {
     "data": {
      "text/plain": [
       "\n",
       "Call:\n",
       "lm(formula = log(wage) ~ educ + exper + tenure + south + urban + \n",
       "    marr_nb + sin_b + marr_b, data = wage_dummies)\n",
       "\n",
       "Residuals:\n",
       "     Min       1Q   Median       3Q      Max \n",
       "-1.98013 -0.21780  0.01057  0.24219  1.22889 \n",
       "\n",
       "Coefficients:\n",
       "             Estimate Std. Error t value Pr(>|t|)    \n",
       "(Intercept)  5.403793   0.114122  47.351  < 2e-16 ***\n",
       "educ         0.065475   0.006253  10.471  < 2e-16 ***\n",
       "exper        0.014146   0.003191   4.433 1.04e-05 ***\n",
       "tenure       0.011663   0.002458   4.745 2.41e-06 ***\n",
       "south       -0.091989   0.026321  -3.495 0.000497 ***\n",
       "urban        0.184350   0.026978   6.833 1.50e-11 ***\n",
       "marr_nb      0.188915   0.042878   4.406 1.18e-05 ***\n",
       "sin_b       -0.240820   0.096023  -2.508 0.012314 *  \n",
       "marr_b       0.009448   0.056013   0.169 0.866083    \n",
       "---\n",
       "Signif. codes:  0 ‘***’ 0.001 ‘**’ 0.01 ‘*’ 0.05 ‘.’ 0.1 ‘ ’ 1\n",
       "\n",
       "Residual standard error: 0.3656 on 926 degrees of freedom\n",
       "Multiple R-squared:  0.2528,\tAdjusted R-squared:  0.2464 \n",
       "F-statistic: 39.17 on 8 and 926 DF,  p-value: < 2.2e-16\n"
      ]
     },
     "metadata": {},
     "output_type": "display_data"
    }
   ],
   "source": [
    "wage_dummies_lm <- lm(log(wage) ~ educ + exper + tenure + south + urban + marr_nb + sin_b + marr_b, data = wage_dummies)\n",
    "\n",
    "summary(wage_dummies_lm)"
   ]
  },
  {
   "cell_type": "markdown",
   "id": "2be4c33d",
   "metadata": {},
   "source": [
    " ## Which of the following are consequences of heteroskedasticity?\n",
    " \n",
    " (i) No. According to Wooldridge: \"It is important to remember that heteroskedasticity does not cause bias or inconsistency in the OLS estimators of the $\\beta_{j}$, whereas something like omitting an important variable would have this effect\" (p. 263). \n",
    " \n",
    " (ii) Yes. The usual F statistic no longer has an F distribution because  \n",
    " \n",
    " (iii) Yes. The OLS estimators are no longer BLUE."
   ]
  },
  {
   "cell_type": "markdown",
   "id": "07e24db6",
   "metadata": {},
   "source": [
    "## Consider a linear model to explain monthly beer consumption.\n",
    "\n",
    "So $h(x) = inc^2$ where $h(x)$ is a function of the explanatory variables that determines heteroskasdisity, defined as $Var(u_{i}|x_{i}) = \\sigma^2h(x_{i})$.This means we can transform the original data by dividing by $\\sqrt{h_{i}}$ to get a linear regression. \n",
    "\n",
    "$\\frac{beer}{inc} = \\beta_{0} + \\beta{1} + \\beta_{2}(price/inc) + \\beta_{3}(educ/inc) + \\beta{4}(female/inc) + (u/inc)$"
   ]
  },
  {
   "cell_type": "markdown",
   "id": "c1f05c92",
   "metadata": {},
   "source": [
    "## True or False: WLS is preferred to OLS when an important variable has been omitted (iii) Estimate the linear probability model from the model.\n",
    "\n",
    "False. Without further information about the relationship between the excluded variable and the other explanatory variables, it is not possible to say that WLS would have less bias than OLS. "
   ]
  },
  {
   "cell_type": "markdown",
   "id": "4930105d",
   "metadata": {},
   "source": [
    "## Using the data in GPA3.RAW. "
   ]
  },
  {
   "cell_type": "markdown",
   "id": "cbd5297a",
   "metadata": {},
   "source": [
    "### Do the variables `crsgpa`, `cumgpa`, and `tothrs` have the expected estimated effects? Which of these variables are statistically significant at the 5% level? Does it matter which standard errors are used?\n",
    "\n",
    "This variables have the expected estimated effects. If all students tend to have higher grades in the class, then it is more likely that one student will have a higher GPA. If a student has a higher cumulative GPA prior to the semester, it is also more likely that they will have a higher term GPA, as they tend to have higher grades in general. Finally, if a student has taken more credits, and thus perhaps is more experienced, they will likely have a small but significant increase in term GPA. \n",
    "\n",
    "The t-statistic is the coefficient divided by its standard error. For the coefficient to be statistically significant at the 5% level, its t-statistic should be above 1.96. For `crsgpa`, the t-statistic for both usual standard error and robust standard error is statistically significant. For `cumgpa`, the t-statistic using the robust standard error is significant. However, for `tothrs`, neither standard error produces a significant t-statistic at the 5% level. "
   ]
  },
  {
   "cell_type": "markdown",
   "id": "df178574",
   "metadata": {},
   "source": [
    "### Why does the hypothesis $H_{0}:\\beta_{crsgpa} = 1$ make sense? Test this hypothesis against the two-sided alternative at the 5% level using both standard errors. \n",
    "\n",
    "Without any other explanatory variables in the model, if $\\beta_{crsgpa} = 1$, this means that the best predictor of a student's grade would simiply be the average GPA in the student's other classes. However, when we add the other explanatory variables, $\\beta_{crsgpa}$ may not equal 1 because other variables may explain the student's term GPA. \n",
    "\n",
    "In both cases, we cannot reject $H_{0}:\\beta_{crsgpa} = 1$ at the 5% significance level. "
   ]
  },
  {
   "cell_type": "code",
   "execution_count": 22,
   "id": "2260f508",
   "metadata": {},
   "outputs": [
    {
     "data": {
      "text/html": [
       "-0.571428571428571"
      ],
      "text/latex": [
       "-0.571428571428571"
      ],
      "text/markdown": [
       "-0.571428571428571"
      ],
      "text/plain": [
       "[1] -0.5714286"
      ]
     },
     "metadata": {},
     "output_type": "display_data"
    }
   ],
   "source": [
    "# t statistic using the usual standard error\n",
    "(0.9 - 1)/0.175"
   ]
  },
  {
   "cell_type": "code",
   "execution_count": 23,
   "id": "1a51c099",
   "metadata": {},
   "outputs": [
    {
     "data": {
      "text/html": [
       "-0.602409638554217"
      ],
      "text/latex": [
       "-0.602409638554217"
      ],
      "text/markdown": [
       "-0.602409638554217"
      ],
      "text/plain": [
       "[1] -0.6024096"
      ]
     },
     "metadata": {},
     "output_type": "display_data"
    }
   ],
   "source": [
    "# t statistic using the robust standard error\n",
    "(0.9 - 1)/0.166"
   ]
  },
  {
   "cell_type": "markdown",
   "id": "90f53c37",
   "metadata": {},
   "source": [
    "### Is there an in-season effect on term GPA (considering both standard errors)? Does the significance level at which the null can be rejected depend on the standard error used?\n",
    "\n",
    "Against a two-sided alternative, only the t score for using the robust standard error is just barely significant at -1.96 at the 5% level. The t score with the usual standard error does not reach the 10% level of significance at 1.65, and so is not reasonably significant. "
   ]
  },
  {
   "cell_type": "code",
   "execution_count": 24,
   "id": "3f272f95",
   "metadata": {},
   "outputs": [
    {
     "data": {
      "text/html": [
       "-1.60204081632653"
      ],
      "text/latex": [
       "-1.60204081632653"
      ],
      "text/markdown": [
       "-1.60204081632653"
      ],
      "text/plain": [
       "[1] -1.602041"
      ]
     },
     "metadata": {},
     "output_type": "display_data"
    }
   ],
   "source": [
    "# t score with usual standard error for season\n",
    "-0.157/0.098"
   ]
  },
  {
   "cell_type": "code",
   "execution_count": 25,
   "id": "b282e564",
   "metadata": {},
   "outputs": [
    {
     "data": {
      "text/html": [
       "-1.9625"
      ],
      "text/latex": [
       "-1.9625"
      ],
      "text/markdown": [
       "-1.9625"
      ],
      "text/plain": [
       "[1] -1.9625"
      ]
     },
     "metadata": {},
     "output_type": "display_data"
    }
   ],
   "source": [
    "# t score with robust standard error for seasons\n",
    "-0.157/0.08"
   ]
  },
  {
   "cell_type": "markdown",
   "id": "e3e48aea",
   "metadata": {},
   "source": [
    "## Use the data set GPA1.RAW for this exercise."
   ]
  },
  {
   "cell_type": "code",
   "execution_count": 26,
   "id": "5892dd21",
   "metadata": {},
   "outputs": [
    {
     "data": {
      "text/plain": [
       "\n",
       "Call:\n",
       "lm(formula = colGPA ~ hsGPA + ACT + skipped + PC, data = gpa1)\n",
       "\n",
       "Residuals:\n",
       "     Min       1Q   Median       3Q      Max \n",
       "-0.84006 -0.20392 -0.03352  0.25346  0.74558 \n",
       "\n",
       "Coefficients:\n",
       "            Estimate Std. Error t value Pr(>|t|)    \n",
       "(Intercept)  1.35651    0.32750   4.142 6.01e-05 ***\n",
       "hsGPA        0.41295    0.09243   4.468 1.65e-05 ***\n",
       "ACT          0.01334    0.01044   1.278  0.20353    \n",
       "skipped     -0.07103    0.02625  -2.706  0.00768 ** \n",
       "PC           0.12444    0.05731   2.171  0.03165 *  \n",
       "---\n",
       "Signif. codes:  0 ‘***’ 0.001 ‘**’ 0.01 ‘*’ 0.05 ‘.’ 0.1 ‘ ’ 1\n",
       "\n",
       "Residual standard error: 0.3251 on 136 degrees of freedom\n",
       "Multiple R-squared:  0.2593,\tAdjusted R-squared:  0.2375 \n",
       "F-statistic:  11.9 on 4 and 136 DF,  p-value: 2.553e-08\n"
      ]
     },
     "metadata": {},
     "output_type": "display_data"
    }
   ],
   "source": [
    "gpa1_new_lm <- lm(colGPA ~ hsGPA + ACT + skipped + PC, data = gpa1)\n",
    "\n",
    "summary(gpa1_new_lm)"
   ]
  },
  {
   "cell_type": "markdown",
   "id": "d866b335",
   "metadata": {},
   "source": [
    "### Compute the special case of the White test for heteroskedasticity.\n",
    "\n",
    "The f statistic of the White test is 3.58 with a p-value of 0.031, which means we can reject the null hypothesis and conclude that there is evidence of heteroskedasticity with confidence at the 5% level. "
   ]
  },
  {
   "cell_type": "code",
   "execution_count": 40,
   "id": "e81a2d70",
   "metadata": {},
   "outputs": [
    {
     "data": {
      "text/html": [
       "<style>\n",
       ".dl-inline {width: auto; margin:0; padding: 0}\n",
       ".dl-inline>dt, .dl-inline>dd {float: none; width: auto; display: inline-block}\n",
       ".dl-inline>dt::after {content: \":\\0020\"; padding-right: .5ex}\n",
       ".dl-inline>dt:not(:first-of-type) {padding-left: .5ex}\n",
       "</style><dl class=dl-inline><dt>value</dt><dd>3.5814944883372</dd><dt>numdf</dt><dd>2</dd><dt>dendf</dt><dd>138</dd></dl>\n"
      ],
      "text/latex": [
       "\\begin{description*}\n",
       "\\item[value] 3.5814944883372\n",
       "\\item[numdf] 2\n",
       "\\item[dendf] 138\n",
       "\\end{description*}\n"
      ],
      "text/markdown": [
       "value\n",
       ":   3.5814944883372numdf\n",
       ":   2dendf\n",
       ":   138\n",
       "\n"
      ],
      "text/plain": [
       "     value      numdf      dendf \n",
       "  3.581494   2.000000 138.000000 "
      ]
     },
     "metadata": {},
     "output_type": "display_data"
    }
   ],
   "source": [
    "u2 <- gpa1_new_lm$residuals^2\n",
    "\n",
    "y <- fitted(gpa1_new_lm)\n",
    "\n",
    "white <- lm(u2 ~ y + I(y^2))\n",
    "\n",
    "summary(white)$fstatistic"
   ]
  },
  {
   "cell_type": "code",
   "execution_count": 37,
   "id": "dffa9a5c",
   "metadata": {},
   "outputs": [
    {
     "data": {
      "text/html": [
       "0.0308448872562885"
      ],
      "text/latex": [
       "0.0308448872562885"
      ],
      "text/markdown": [
       "0.0308448872562885"
      ],
      "text/plain": [
       "[1] 0.03084489"
      ]
     },
     "metadata": {},
     "output_type": "display_data"
    }
   ],
   "source": [
    "Ru2 <- summary(white)$r.squared\n",
    "\n",
    "LM <- nrow(gpa1)*Ru2\n",
    "\n",
    "p.value <- 1-pchisq(LM, 2)\n",
    "\n",
    "p.value # "
   ]
  },
  {
   "cell_type": "markdown",
   "id": "44131a57",
   "metadata": {},
   "source": [
    "### Verify that the fitted values from part (ii) are all strictly positive. Then, obtain the weighted least squares estimates. Compare the weighted least squares estimates for the effect of skipping lectures and the effect of PC ownership with the corresponding OLS estimates. What about their statistical significance?\n",
    "\n",
    "The coefficients for skipping lectures and PC ownership are quite similar the OLS and WLS models, though both variables are slightly more statistically significant in the WLS model. "
   ]
  },
  {
   "cell_type": "code",
   "execution_count": 45,
   "id": "8bc326c1",
   "metadata": {},
   "outputs": [
    {
     "data": {
      "text/html": [
       "0"
      ],
      "text/latex": [
       "0"
      ],
      "text/markdown": [
       "0"
      ],
      "text/plain": [
       "[1] 0"
      ]
     },
     "metadata": {},
     "output_type": "display_data"
    }
   ],
   "source": [
    "sum(y < 0) # assert that all the fitted values from part (ii) are strictly positive"
   ]
  },
  {
   "cell_type": "code",
   "execution_count": 48,
   "id": "26c7a8fb",
   "metadata": {},
   "outputs": [
    {
     "data": {
      "text/plain": [
       "\n",
       "Call:\n",
       "lm(formula = colGPA ~ hsGPA + ACT + skipped + PC, data = gpa1, \n",
       "    weights = weights)\n",
       "\n",
       "Weighted Residuals:\n",
       "    Min      1Q  Median      3Q     Max \n",
       "-0.4834 -0.1159 -0.0210  0.1405  0.4326 \n",
       "\n",
       "Coefficients:\n",
       "            Estimate Std. Error t value Pr(>|t|)    \n",
       "(Intercept)  1.37836    0.32243   4.275 3.57e-05 ***\n",
       "hsGPA        0.40801    0.09096   4.486 1.53e-05 ***\n",
       "ACT          0.01318    0.01032   1.278  0.20353    \n",
       "skipped     -0.07197    0.02557  -2.814  0.00562 ** \n",
       "PC           0.12415    0.05712   2.173  0.03148 *  \n",
       "---\n",
       "Signif. codes:  0 ‘***’ 0.001 ‘**’ 0.01 ‘*’ 0.05 ‘.’ 0.1 ‘ ’ 1\n",
       "\n",
       "Residual standard error: 0.1847 on 136 degrees of freedom\n",
       "Multiple R-squared:  0.262,\tAdjusted R-squared:  0.2403 \n",
       "F-statistic: 12.07 on 4 and 136 DF,  p-value: 1.998e-08\n"
      ]
     },
     "metadata": {},
     "output_type": "display_data"
    }
   ],
   "source": [
    "weights <- 1/y\n",
    "\n",
    "gpa1_weight_lm <- lm(colGPA ~ hsGPA + ACT + skipped + PC, data = gpa1, weights = weights)\n",
    "\n",
    "summary(gpa1_weight_lm)"
   ]
  }
 ],
 "metadata": {
  "kernelspec": {
   "display_name": "R",
   "language": "R",
   "name": "ir"
  },
  "language_info": {
   "codemirror_mode": "r",
   "file_extension": ".r",
   "mimetype": "text/x-r-source",
   "name": "R",
   "pygments_lexer": "r",
   "version": "3.6.3"
  },
  "toc": {
   "base_numbering": 1,
   "nav_menu": {},
   "number_sections": true,
   "sideBar": false,
   "skip_h1_title": false,
   "title_cell": "Table of Contents",
   "title_sidebar": "Contents",
   "toc_cell": false,
   "toc_position": {
    "height": "266px",
    "left": "358px",
    "top": "133px",
    "width": "913.796875px"
   },
   "toc_section_display": false,
   "toc_window_display": false
  },
  "varInspector": {
   "cols": {
    "lenName": 16,
    "lenType": 16,
    "lenVar": 40
   },
   "kernels_config": {
    "python": {
     "delete_cmd_postfix": "",
     "delete_cmd_prefix": "del ",
     "library": "var_list.py",
     "varRefreshCmd": "print(var_dic_list())"
    },
    "r": {
     "delete_cmd_postfix": ") ",
     "delete_cmd_prefix": "rm(",
     "library": "var_list.r",
     "varRefreshCmd": "cat(var_dic_list()) "
    }
   },
   "types_to_exclude": [
    "module",
    "function",
    "builtin_function_or_method",
    "instance",
    "_Feature"
   ],
   "window_display": false
  }
 },
 "nbformat": 4,
 "nbformat_minor": 5
}
